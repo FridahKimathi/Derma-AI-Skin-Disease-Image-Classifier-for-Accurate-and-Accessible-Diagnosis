{
 "cells": [
  {
   "cell_type": "markdown",
   "metadata": {},
   "source": [
    "## Data cleaning"
   ]
  },
  {
   "cell_type": "code",
   "execution_count": 1,
   "metadata": {},
   "outputs": [],
   "source": [
    "# import required libraries\n",
    "#pip install imagehash\n",
    "import pandas as pd\n",
    "import shutil\n",
    "import os\n",
    "from PIL import Image\n",
    "import imagehash\n",
    "import re"
   ]
  },
  {
   "cell_type": "code",
   "execution_count": 2,
   "metadata": {},
   "outputs": [
    {
     "name": "stdout",
     "output_type": "stream",
     "text": [
      "(13992, 2)\n"
     ]
    },
    {
     "data": {
      "text/html": [
       "<div>\n",
       "<style scoped>\n",
       "    .dataframe tbody tr th:only-of-type {\n",
       "        vertical-align: middle;\n",
       "    }\n",
       "\n",
       "    .dataframe tbody tr th {\n",
       "        vertical-align: top;\n",
       "    }\n",
       "\n",
       "    .dataframe thead th {\n",
       "        text-align: right;\n",
       "    }\n",
       "</style>\n",
       "<table border=\"1\" class=\"dataframe\">\n",
       "  <thead>\n",
       "    <tr style=\"text-align: right;\">\n",
       "      <th></th>\n",
       "      <th>skin_disorder_name</th>\n",
       "      <th>images</th>\n",
       "    </tr>\n",
       "  </thead>\n",
       "  <tbody>\n",
       "    <tr>\n",
       "      <th>0</th>\n",
       "      <td>acne affecting the back images</td>\n",
       "      <td>https://dermnetnz.org/assets/Uploads/acne/acne...</td>\n",
       "    </tr>\n",
       "    <tr>\n",
       "      <th>1</th>\n",
       "      <td>acne affecting the back images</td>\n",
       "      <td>https://dermnetnz.org/assets/Uploads/acne/acne...</td>\n",
       "    </tr>\n",
       "    <tr>\n",
       "      <th>2</th>\n",
       "      <td>acne affecting the back images</td>\n",
       "      <td>https://dermnetnz.org/assets/Uploads/acne/acne...</td>\n",
       "    </tr>\n",
       "    <tr>\n",
       "      <th>3</th>\n",
       "      <td>acne affecting the back images</td>\n",
       "      <td>https://dermnetnz.org/assets/Uploads/acne/acne...</td>\n",
       "    </tr>\n",
       "    <tr>\n",
       "      <th>4</th>\n",
       "      <td>acne affecting the back images</td>\n",
       "      <td>https://dermnetnz.org/assets/Uploads/acne/acne...</td>\n",
       "    </tr>\n",
       "  </tbody>\n",
       "</table>\n",
       "</div>"
      ],
      "text/plain": [
       "               skin_disorder_name  \\\n",
       "0  acne affecting the back images   \n",
       "1  acne affecting the back images   \n",
       "2  acne affecting the back images   \n",
       "3  acne affecting the back images   \n",
       "4  acne affecting the back images   \n",
       "\n",
       "                                              images  \n",
       "0  https://dermnetnz.org/assets/Uploads/acne/acne...  \n",
       "1  https://dermnetnz.org/assets/Uploads/acne/acne...  \n",
       "2  https://dermnetnz.org/assets/Uploads/acne/acne...  \n",
       "3  https://dermnetnz.org/assets/Uploads/acne/acne...  \n",
       "4  https://dermnetnz.org/assets/Uploads/acne/acne...  "
      ]
     },
     "execution_count": 2,
     "metadata": {},
     "output_type": "execute_result"
    }
   ],
   "source": [
    "# load and preview dataset\n",
    "image_df = pd.read_csv('Data/data1-294.csv')\n",
    "print(image_df.shape)\n",
    "image_df.head()"
   ]
  },
  {
   "cell_type": "markdown",
   "metadata": {},
   "source": [
    "## **Cleaning  acne images**"
   ]
  },
  {
   "cell_type": "code",
   "execution_count": 3,
   "metadata": {},
   "outputs": [
    {
     "data": {
      "text/plain": [
       "array(['acne affecting the back images', 'acne affecting the face images',\n",
       "       'acne and other follicular disorder images', 'facial acne images',\n",
       "       'infantile acne images', 'steroid acne images'], dtype=object)"
      ]
     },
     "execution_count": 3,
     "metadata": {},
     "output_type": "execute_result"
    }
   ],
   "source": [
    "# Labels representing acne in DermNet's scrapped data\n",
    "acne_labels = image_df[image_df['skin_disorder_name'].str.contains('acne')]['skin_disorder_name'].unique()\n",
    "acne_labels"
   ]
  },
  {
   "cell_type": "code",
   "execution_count": 4,
   "metadata": {},
   "outputs": [
    {
     "data": {
      "text/plain": [
       "6"
      ]
     },
     "execution_count": 4,
     "metadata": {},
     "output_type": "execute_result"
    }
   ],
   "source": [
    "# There are six labels representing acne\n",
    "len(acne_labels)"
   ]
  },
  {
   "cell_type": "code",
   "execution_count": 5,
   "metadata": {},
   "outputs": [
    {
     "name": "stdout",
     "output_type": "stream",
     "text": [
      "<class 'pandas.core.frame.DataFrame'>\n",
      "Int64Index: 718 entries, 0 to 12648\n",
      "Data columns (total 2 columns):\n",
      " #   Column              Non-Null Count  Dtype \n",
      "---  ------              --------------  ----- \n",
      " 0   skin_disorder_name  718 non-null    object\n",
      " 1   images              718 non-null    object\n",
      "dtypes: object(2)\n",
      "memory usage: 16.8+ KB\n"
     ]
    }
   ],
   "source": [
    "# Creating a dataframe with just acne labels for easier cleaning\n",
    "\n",
    "acne_df = image_df[(image_df['skin_disorder_name'] == acne_labels[0]) | \\\n",
    "                   (image_df['skin_disorder_name'] == acne_labels[1]) | \\\n",
    "                   (image_df['skin_disorder_name'] == acne_labels[2]) | \\\n",
    "                   (image_df['skin_disorder_name'] == acne_labels[3]) | \\\n",
    "                   (image_df['skin_disorder_name'] == acne_labels[4]) | \\\n",
    "                   (image_df['skin_disorder_name'] == acne_labels[5]) \n",
    "                 ]\n",
    "acne_df.info()"
   ]
  },
  {
   "attachments": {},
   "cell_type": "markdown",
   "metadata": {},
   "source": [
    "### **Extra acne images**"
   ]
  },
  {
   "cell_type": "code",
   "execution_count": 6,
   "metadata": {},
   "outputs": [
    {
     "data": {
      "text/plain": [
       "['07Acne081101.jpg',\n",
       " '07Acne0811011 - Copy.jpg',\n",
       " '07Acne0811011.jpg',\n",
       " '07AcnePittedScars.jpg',\n",
       " '07AcnePittedScars1 - Copy.jpg',\n",
       " '07AcnePittedScars1.jpg',\n",
       " '07RosaceaFulFAce.jpg',\n",
       " '07RosaceaFulFAce1 - Copy.jpg',\n",
       " '07RosaceaFulFAce1.jpg',\n",
       " '07RosaceaOK0828063.jpg']"
      ]
     },
     "execution_count": 6,
     "metadata": {},
     "output_type": "execute_result"
    }
   ],
   "source": [
    "extra_acne = [image_name for image_name in os.listdir('extra_images/extra_acne_images')]\n",
    "extra_acne[:10]"
   ]
  },
  {
   "cell_type": "code",
   "execution_count": 7,
   "metadata": {},
   "outputs": [
    {
     "data": {
      "text/html": [
       "<div>\n",
       "<style scoped>\n",
       "    .dataframe tbody tr th:only-of-type {\n",
       "        vertical-align: middle;\n",
       "    }\n",
       "\n",
       "    .dataframe tbody tr th {\n",
       "        vertical-align: top;\n",
       "    }\n",
       "\n",
       "    .dataframe thead th {\n",
       "        text-align: right;\n",
       "    }\n",
       "</style>\n",
       "<table border=\"1\" class=\"dataframe\">\n",
       "  <thead>\n",
       "    <tr style=\"text-align: right;\">\n",
       "      <th></th>\n",
       "      <th>skin_disorder_name</th>\n",
       "      <th>images</th>\n",
       "    </tr>\n",
       "  </thead>\n",
       "  <tbody>\n",
       "    <tr>\n",
       "      <th>0</th>\n",
       "      <td>acne</td>\n",
       "      <td>07Acne081101.jpg</td>\n",
       "    </tr>\n",
       "    <tr>\n",
       "      <th>1</th>\n",
       "      <td>acne</td>\n",
       "      <td>07Acne0811011 - Copy.jpg</td>\n",
       "    </tr>\n",
       "    <tr>\n",
       "      <th>2</th>\n",
       "      <td>acne</td>\n",
       "      <td>07Acne0811011.jpg</td>\n",
       "    </tr>\n",
       "    <tr>\n",
       "      <th>3</th>\n",
       "      <td>acne</td>\n",
       "      <td>07AcnePittedScars.jpg</td>\n",
       "    </tr>\n",
       "    <tr>\n",
       "      <th>4</th>\n",
       "      <td>acne</td>\n",
       "      <td>07AcnePittedScars1 - Copy.jpg</td>\n",
       "    </tr>\n",
       "  </tbody>\n",
       "</table>\n",
       "</div>"
      ],
      "text/plain": [
       "  skin_disorder_name                         images\n",
       "0               acne               07Acne081101.jpg\n",
       "1               acne       07Acne0811011 - Copy.jpg\n",
       "2               acne              07Acne0811011.jpg\n",
       "3               acne          07AcnePittedScars.jpg\n",
       "4               acne  07AcnePittedScars1 - Copy.jpg"
      ]
     },
     "execution_count": 7,
     "metadata": {},
     "output_type": "execute_result"
    }
   ],
   "source": [
    "#Creating a dataframe for the extra acne images\n",
    "\n",
    "label =['acne' for img in extra_acne]\n",
    "extra_acne_df = pd.DataFrame(extra_acne, label).reset_index()\n",
    "extra_acne_df.columns =['skin_disorder_name', 'images']\n",
    "extra_acne_df.head()"
   ]
  },
  {
   "attachments": {},
   "cell_type": "markdown",
   "metadata": {},
   "source": [
    "**i. Moving acne images in the Images folder to their own folder**"
   ]
  },
  {
   "cell_type": "code",
   "execution_count": 8,
   "metadata": {},
   "outputs": [
    {
     "name": "stdout",
     "output_type": "stream",
     "text": [
      "There are 718 acne images\n"
     ]
    },
    {
     "data": {
      "text/plain": [
       "['acne affecting the back images0.jpg',\n",
       " 'acne affecting the back images1.jpg',\n",
       " 'acne affecting the back images10.jpg',\n",
       " 'acne affecting the back images11.jpg',\n",
       " 'acne affecting the back images12.jpg',\n",
       " 'acne affecting the back images13.jpg',\n",
       " 'acne affecting the back images14.jpg',\n",
       " 'acne affecting the back images15.jpg',\n",
       " 'acne affecting the back images16.jpg',\n",
       " 'acne affecting the back images17.jpg']"
      ]
     },
     "execution_count": 8,
     "metadata": {},
     "output_type": "execute_result"
    }
   ],
   "source": [
    "# Getting the acne images file names\n",
    "original_acne_img = [image_name for image_name in os.listdir('Images/') if 'acne' in image_name] \n",
    "\n",
    "# Confirming the number of acne images before any cleaning\n",
    "print('There are', len(original_acne_img),'acne images')\n",
    "original_acne_img[:10]"
   ]
  },
  {
   "cell_type": "code",
   "execution_count": 9,
   "metadata": {},
   "outputs": [],
   "source": [
    "# Creating a new folder with just acne images to make cleaning easier\n",
    "folder_name = 'cleaned_images/acne_images/'\n",
    "\n",
    "# Checking if the folder exists and deleting it if it exists\n",
    "if os.path.exists(folder_name):\n",
    "    # deleting the folder and its contents\n",
    "    shutil.rmtree(folder_name)\n",
    "\n",
    "# create the new folder\n",
    "os.mkdir(folder_name)\n",
    "\n",
    "# Moving the images into that folder\n",
    "for img in original_acne_img:\n",
    "    origin = os.path.join('Images/', img)\n",
    "    destination = os.path.join(folder_name, img)\n",
    "    shutil.copy(origin, destination)"
   ]
  },
  {
   "cell_type": "code",
   "execution_count": 10,
   "metadata": {},
   "outputs": [
    {
     "name": "stdout",
     "output_type": "stream",
     "text": [
      "There are 718 acne images\n"
     ]
    }
   ],
   "source": [
    "# Confirming that the number of acne images after moving them to a separate folder is still 718\n",
    "acne_img = [image_name for image_name in os.listdir('cleaned_images/acne_images/')] \n",
    "print('There are', len(acne_img),'acne images')"
   ]
  },
  {
   "attachments": {},
   "cell_type": "markdown",
   "metadata": {},
   "source": [
    "**ii. Dropping links from the 'images' column in the acne_df and replacing them with the image name**"
   ]
  },
  {
   "cell_type": "code",
   "execution_count": 11,
   "metadata": {},
   "outputs": [
    {
     "data": {
      "text/html": [
       "<div>\n",
       "<style scoped>\n",
       "    .dataframe tbody tr th:only-of-type {\n",
       "        vertical-align: middle;\n",
       "    }\n",
       "\n",
       "    .dataframe tbody tr th {\n",
       "        vertical-align: top;\n",
       "    }\n",
       "\n",
       "    .dataframe thead th {\n",
       "        text-align: right;\n",
       "    }\n",
       "</style>\n",
       "<table border=\"1\" class=\"dataframe\">\n",
       "  <thead>\n",
       "    <tr style=\"text-align: right;\">\n",
       "      <th></th>\n",
       "      <th>skin_disorder_name</th>\n",
       "      <th>images</th>\n",
       "    </tr>\n",
       "  </thead>\n",
       "  <tbody>\n",
       "    <tr>\n",
       "      <th>0</th>\n",
       "      <td>acne affecting the back images</td>\n",
       "      <td>acne affecting the back images0.jpg</td>\n",
       "    </tr>\n",
       "    <tr>\n",
       "      <th>1</th>\n",
       "      <td>acne affecting the back images</td>\n",
       "      <td>acne affecting the back images1.jpg</td>\n",
       "    </tr>\n",
       "    <tr>\n",
       "      <th>2</th>\n",
       "      <td>acne affecting the back images</td>\n",
       "      <td>acne affecting the back images10.jpg</td>\n",
       "    </tr>\n",
       "    <tr>\n",
       "      <th>3</th>\n",
       "      <td>acne affecting the back images</td>\n",
       "      <td>acne affecting the back images11.jpg</td>\n",
       "    </tr>\n",
       "    <tr>\n",
       "      <th>4</th>\n",
       "      <td>acne affecting the back images</td>\n",
       "      <td>acne affecting the back images12.jpg</td>\n",
       "    </tr>\n",
       "  </tbody>\n",
       "</table>\n",
       "</div>"
      ],
      "text/plain": [
       "               skin_disorder_name                                images\n",
       "0  acne affecting the back images   acne affecting the back images0.jpg\n",
       "1  acne affecting the back images   acne affecting the back images1.jpg\n",
       "2  acne affecting the back images  acne affecting the back images10.jpg\n",
       "3  acne affecting the back images  acne affecting the back images11.jpg\n",
       "4  acne affecting the back images  acne affecting the back images12.jpg"
      ]
     },
     "execution_count": 11,
     "metadata": {},
     "output_type": "execute_result"
    }
   ],
   "source": [
    "# So that the two dataframes can match, we dropped the image links in  acne_df \n",
    "# and replaced them with the image names\n",
    "\n",
    "acne_images = pd.DataFrame(acne_img, columns=['images'])\n",
    "acne_df = acne_df.copy()\n",
    "acne_df.drop('images', axis=1, inplace=True)\n",
    "acne_df['images'] = acne_images['images'].values\n",
    "acne_df.head()"
   ]
  },
  {
   "attachments": {},
   "cell_type": "markdown",
   "metadata": {},
   "source": [
    "**iii. Joining the two dataframes**"
   ]
  },
  {
   "cell_type": "code",
   "execution_count": 12,
   "metadata": {},
   "outputs": [
    {
     "name": "stdout",
     "output_type": "stream",
     "text": [
      "<class 'pandas.core.frame.DataFrame'>\n",
      "RangeIndex: 2540 entries, 0 to 2539\n",
      "Data columns (total 2 columns):\n",
      " #   Column              Non-Null Count  Dtype \n",
      "---  ------              --------------  ----- \n",
      " 0   skin_disorder_name  2540 non-null   object\n",
      " 1   images              2540 non-null   object\n",
      "dtypes: object(2)\n",
      "memory usage: 39.8+ KB\n",
      "None\n"
     ]
    },
    {
     "data": {
      "text/html": [
       "<div>\n",
       "<style scoped>\n",
       "    .dataframe tbody tr th:only-of-type {\n",
       "        vertical-align: middle;\n",
       "    }\n",
       "\n",
       "    .dataframe tbody tr th {\n",
       "        vertical-align: top;\n",
       "    }\n",
       "\n",
       "    .dataframe thead th {\n",
       "        text-align: right;\n",
       "    }\n",
       "</style>\n",
       "<table border=\"1\" class=\"dataframe\">\n",
       "  <thead>\n",
       "    <tr style=\"text-align: right;\">\n",
       "      <th></th>\n",
       "      <th>skin_disorder_name</th>\n",
       "      <th>images</th>\n",
       "    </tr>\n",
       "  </thead>\n",
       "  <tbody>\n",
       "    <tr>\n",
       "      <th>0</th>\n",
       "      <td>acne affecting the back images</td>\n",
       "      <td>acne affecting the back images0.jpg</td>\n",
       "    </tr>\n",
       "    <tr>\n",
       "      <th>1</th>\n",
       "      <td>acne affecting the back images</td>\n",
       "      <td>acne affecting the back images1.jpg</td>\n",
       "    </tr>\n",
       "    <tr>\n",
       "      <th>2</th>\n",
       "      <td>acne affecting the back images</td>\n",
       "      <td>acne affecting the back images10.jpg</td>\n",
       "    </tr>\n",
       "    <tr>\n",
       "      <th>3</th>\n",
       "      <td>acne affecting the back images</td>\n",
       "      <td>acne affecting the back images11.jpg</td>\n",
       "    </tr>\n",
       "    <tr>\n",
       "      <th>4</th>\n",
       "      <td>acne affecting the back images</td>\n",
       "      <td>acne affecting the back images12.jpg</td>\n",
       "    </tr>\n",
       "  </tbody>\n",
       "</table>\n",
       "</div>"
      ],
      "text/plain": [
       "               skin_disorder_name                                images\n",
       "0  acne affecting the back images   acne affecting the back images0.jpg\n",
       "1  acne affecting the back images   acne affecting the back images1.jpg\n",
       "2  acne affecting the back images  acne affecting the back images10.jpg\n",
       "3  acne affecting the back images  acne affecting the back images11.jpg\n",
       "4  acne affecting the back images  acne affecting the back images12.jpg"
      ]
     },
     "execution_count": 12,
     "metadata": {},
     "output_type": "execute_result"
    }
   ],
   "source": [
    "# Creating a dataframe with all of the acne images\n",
    "\n",
    "acne_df_complete = pd.concat([acne_df, extra_acne_df], axis=0).reset_index()\n",
    "acne_df_complete.drop('index', axis=1, inplace=True)\n",
    "print(acne_df_complete.info())\n",
    "acne_df_complete.head()"
   ]
  },
  {
   "attachments": {},
   "cell_type": "markdown",
   "metadata": {},
   "source": [
    "**iv. Combining the images into one folder**"
   ]
  },
  {
   "cell_type": "code",
   "execution_count": 13,
   "metadata": {},
   "outputs": [],
   "source": [
    "# This was done by moving the extra images into the acne folder\n",
    "for img in extra_acne:\n",
    "    origin = os.path.join('extra_images/extra_acne_images/', img)\n",
    "    destination = os.path.join('cleaned_images/acne_images/', img)\n",
    "    shutil.copy(origin, destination)"
   ]
  },
  {
   "cell_type": "code",
   "execution_count": 14,
   "metadata": {},
   "outputs": [
    {
     "name": "stdout",
     "output_type": "stream",
     "text": [
      "There are a total of 2540 acne images\n"
     ]
    }
   ],
   "source": [
    "# Confirming that the total acne images is 2540 before any cleaning\n",
    "\n",
    "acne_img = [image_name for image_name in os.listdir('cleaned_images/acne_images/')] \n",
    "print('There are a total of', len(acne_img),'acne images')"
   ]
  },
  {
   "attachments": {},
   "cell_type": "markdown",
   "metadata": {},
   "source": [
    "**v. Removing duplicated images from the folder**"
   ]
  },
  {
   "cell_type": "code",
   "execution_count": 15,
   "metadata": {},
   "outputs": [],
   "source": [
    "# Define a threshold for image similarity\n",
    "def drop_duplicated_images(folder):\n",
    "    threshold = 8\n",
    "    # Define a dictionary to store the hash values and file paths of the images\n",
    "    image_hashes = {}\n",
    "    duplicated_images = []\n",
    "    # Loop through all the image files in a directory\n",
    "    for filename in os.listdir(folder):\n",
    "        # Load the image file\n",
    "        image = Image.open(os.path.join(folder, filename))\n",
    "\n",
    "         # Compute the hash value of the image using the average hash algorithm\n",
    "        hash_value = imagehash.average_hash(image)\n",
    "\n",
    "        # Check if the hash value is already in the dictionary\n",
    "        if hash_value in image_hashes:\n",
    "            # If a similar hash value already exists, delete the duplicate image\n",
    "            duplicated_images.append(filename)\n",
    "            os.remove(os.path.join(folder, filename))\n",
    "        else:\n",
    "             # Otherwise, add the hash value and file path to the dictionary\n",
    "            image_hashes[hash_value] = os.path.join(folder, filename)\n",
    "    return duplicated_images"
   ]
  },
  {
   "cell_type": "code",
   "execution_count": 16,
   "metadata": {},
   "outputs": [
    {
     "data": {
      "text/plain": [
       "['07Acne0811011.jpg',\n",
       " '07AcnePittedScars1.jpg',\n",
       " '07RosaceaFulFAce1.jpg',\n",
       " '07RosaceaOK08280631.jpg',\n",
       " '07SteroidPerioral11.jpg']"
      ]
     },
     "execution_count": 16,
     "metadata": {},
     "output_type": "execute_result"
    }
   ],
   "source": [
    "# Dropping duplicates\n",
    "duplicated_images = drop_duplicated_images('cleaned_images/acne_images/')\n",
    "duplicated_images[:5]"
   ]
  },
  {
   "cell_type": "code",
   "execution_count": 17,
   "metadata": {},
   "outputs": [
    {
     "name": "stdout",
     "output_type": "stream",
     "text": [
      "There are 2169 acne images after removing duplicated images\n"
     ]
    }
   ],
   "source": [
    "acne_img = [image_name for image_name in os.listdir('cleaned_images/acne_images/')] \n",
    "print('There are', len(acne_img),'acne images after removing duplicated images')"
   ]
  },
  {
   "cell_type": "code",
   "execution_count": 18,
   "metadata": {},
   "outputs": [
    {
     "data": {
      "text/plain": [
       "[369, 377, 394, 430, 448, 449, 450, 451, 452, 453]"
      ]
     },
     "execution_count": 18,
     "metadata": {},
     "output_type": "execute_result"
    }
   ],
   "source": [
    "# Getting the indexes of the duplicated images so that they can be dropped from the acne_df_complete too.\n",
    "\n",
    "duplicated_indexes = [acne_df_complete[acne_df_complete['images'] == image_name].index[0] \\\n",
    "                      for image_name in acne_df_complete['images']\\\n",
    "                      if image_name in duplicated_images]\n",
    "duplicated_indexes[:10]"
   ]
  },
  {
   "cell_type": "code",
   "execution_count": 19,
   "metadata": {},
   "outputs": [
    {
     "name": "stdout",
     "output_type": "stream",
     "text": [
      "<class 'pandas.core.frame.DataFrame'>\n",
      "Int64Index: 2169 entries, 0 to 2538\n",
      "Data columns (total 2 columns):\n",
      " #   Column              Non-Null Count  Dtype \n",
      "---  ------              --------------  ----- \n",
      " 0   skin_disorder_name  2169 non-null   object\n",
      " 1   images              2169 non-null   object\n",
      "dtypes: object(2)\n",
      "memory usage: 50.8+ KB\n"
     ]
    }
   ],
   "source": [
    "# Dropping duplicated images from the dataframe.\n",
    "acne_df_complete = acne_df_complete.copy()\n",
    "acne_df_complete.drop(index=duplicated_indexes, inplace=True)\n",
    "acne_df_complete.info()"
   ]
  },
  {
   "attachments": {},
   "cell_type": "markdown",
   "metadata": {},
   "source": [
    "Acne affecting the back images, Acne affecting the face images all have correct images. The Only change that will be made is changing the name to acne. </br>\n",
    "Acne and other follicular disorder images has a collection of different images. Only images that have acne as a specific label will be included, the others will be dropped from the dataset. </br>\n",
    "***\n",
    "***Dealing with the collection of different images in Acne and other follicular disorder images***</br>\n",
    "After careful evaluation of the images, the images that represent acne are:</br>\n",
    ">>> **[299, 301, 302, 305, 306, 312, 324, 327, 331, 332, 334, 335, 336,</br>, 340, 352, 353, 356, 357, 358, 360, 365, 370, 379, 383, 386, 391, </br>, 394, 399, 400, 401, 404, 406, 407, 410, 410, 412, 414, 418, 435, </br> 439, 440, 442]**"
   ]
  },
  {
   "cell_type": "code",
   "execution_count": 20,
   "metadata": {},
   "outputs": [],
   "source": [
    "# Note 📝: The indexes were confirmed to be the same even after merging the two dataframes\n",
    "        #: This is because the acne_df is at the top in the complete dataframe\n",
    "\n",
    "# indexes of the images in 'acne and other follicular disorder images'\n",
    "indexes = acne_df[acne_df['skin_disorder_name'] == 'acne and other follicular disorder images'].index\n",
    "\n",
    "# indexes of the acne images in 'acne and other follicular disorder images'\n",
    "acne_indexes = [299, 301, 302, 305, 306, 312, 324, 327, 331, 332, 334, 335, 336,\n",
    "                340, 352, 353, 356, 357, 358, 360, 365, 370, 379, 383, 386, 391,\n",
    "                394, 399, 400, 401, 404, 406, 407, 410, 410, 412, 414, 418, 435,\n",
    "                439, 440, 442]\n",
    "\n",
    "# indexes of the other follicular disorder images in 'acne and other follicular disorder images'. This indexes will be dropped.\n",
    "to_drop = []\n",
    "\n",
    "for index in  indexes:\n",
    "    if (index not in acne_indexes) and (index not in duplicated_indexes):\n",
    "        to_drop.append(index)\n",
    "\n",
    "# dropping indexes in to_drop\n",
    "acne_df_complete.drop(to_drop, axis = 0, inplace=True)"
   ]
  },
  {
   "cell_type": "code",
   "execution_count": 21,
   "metadata": {},
   "outputs": [
    {
     "data": {
      "text/plain": [
       "(2060, 2)"
      ]
     },
     "execution_count": 21,
     "metadata": {},
     "output_type": "execute_result"
    }
   ],
   "source": [
    "# After dropping non-acne images, we still have 328 images left\n",
    "acne_df_complete.shape"
   ]
  },
  {
   "cell_type": "code",
   "execution_count": 22,
   "metadata": {},
   "outputs": [
    {
     "name": "stdout",
     "output_type": "stream",
     "text": [
      "There are 2060 acne images left.\n"
     ]
    }
   ],
   "source": [
    "# dropping those images from the acne_images folder\n",
    "\n",
    "# Finding the image file names to be dropped from the folder\n",
    "img_to_drop = []\n",
    "\n",
    "for index in to_drop:\n",
    "    for img_name in original_acne_img:\n",
    "        if str(index) in img_name:\n",
    "            img_to_drop.append(img_name)\n",
    "\n",
    "# Dropping those images form the acne_images folder\n",
    "for filename in img_to_drop:\n",
    "    os.remove(os.path.join(\"cleaned_images/acne_images/\", filename))\n",
    "\n",
    "# Confirming that the number of images left is 328\n",
    "acne_img = [image_name for image_name in os.listdir('cleaned_images/acne_images/')] \n",
    "print('There are', len(acne_img),'acne images left.')"
   ]
  },
  {
   "attachments": {},
   "cell_type": "markdown",
   "metadata": {},
   "source": [
    "**vi. Changing the label to just acne**"
   ]
  },
  {
   "cell_type": "code",
   "execution_count": 23,
   "metadata": {},
   "outputs": [
    {
     "data": {
      "text/html": [
       "<div>\n",
       "<style scoped>\n",
       "    .dataframe tbody tr th:only-of-type {\n",
       "        vertical-align: middle;\n",
       "    }\n",
       "\n",
       "    .dataframe tbody tr th {\n",
       "        vertical-align: top;\n",
       "    }\n",
       "\n",
       "    .dataframe thead th {\n",
       "        text-align: right;\n",
       "    }\n",
       "</style>\n",
       "<table border=\"1\" class=\"dataframe\">\n",
       "  <thead>\n",
       "    <tr style=\"text-align: right;\">\n",
       "      <th></th>\n",
       "      <th>skin_disorder_name</th>\n",
       "      <th>images</th>\n",
       "    </tr>\n",
       "  </thead>\n",
       "  <tbody>\n",
       "    <tr>\n",
       "      <th>0</th>\n",
       "      <td>acne</td>\n",
       "      <td>acne affecting the back images0.jpg</td>\n",
       "    </tr>\n",
       "    <tr>\n",
       "      <th>1</th>\n",
       "      <td>acne</td>\n",
       "      <td>acne affecting the back images1.jpg</td>\n",
       "    </tr>\n",
       "    <tr>\n",
       "      <th>2</th>\n",
       "      <td>acne</td>\n",
       "      <td>acne affecting the back images10.jpg</td>\n",
       "    </tr>\n",
       "    <tr>\n",
       "      <th>3</th>\n",
       "      <td>acne</td>\n",
       "      <td>acne affecting the back images11.jpg</td>\n",
       "    </tr>\n",
       "    <tr>\n",
       "      <th>4</th>\n",
       "      <td>acne</td>\n",
       "      <td>acne affecting the back images12.jpg</td>\n",
       "    </tr>\n",
       "    <tr>\n",
       "      <th>5</th>\n",
       "      <td>acne</td>\n",
       "      <td>acne affecting the back images13.jpg</td>\n",
       "    </tr>\n",
       "    <tr>\n",
       "      <th>6</th>\n",
       "      <td>acne</td>\n",
       "      <td>acne affecting the back images14.jpg</td>\n",
       "    </tr>\n",
       "    <tr>\n",
       "      <th>7</th>\n",
       "      <td>acne</td>\n",
       "      <td>acne affecting the back images15.jpg</td>\n",
       "    </tr>\n",
       "    <tr>\n",
       "      <th>8</th>\n",
       "      <td>acne</td>\n",
       "      <td>acne affecting the back images16.jpg</td>\n",
       "    </tr>\n",
       "    <tr>\n",
       "      <th>9</th>\n",
       "      <td>acne</td>\n",
       "      <td>acne affecting the back images17.jpg</td>\n",
       "    </tr>\n",
       "  </tbody>\n",
       "</table>\n",
       "</div>"
      ],
      "text/plain": [
       "  skin_disorder_name                                images\n",
       "0               acne   acne affecting the back images0.jpg\n",
       "1               acne   acne affecting the back images1.jpg\n",
       "2               acne  acne affecting the back images10.jpg\n",
       "3               acne  acne affecting the back images11.jpg\n",
       "4               acne  acne affecting the back images12.jpg\n",
       "5               acne  acne affecting the back images13.jpg\n",
       "6               acne  acne affecting the back images14.jpg\n",
       "7               acne  acne affecting the back images15.jpg\n",
       "8               acne  acne affecting the back images16.jpg\n",
       "9               acne  acne affecting the back images17.jpg"
      ]
     },
     "execution_count": 23,
     "metadata": {},
     "output_type": "execute_result"
    }
   ],
   "source": [
    "acne_df_complete['skin_disorder_name'] = 'acne'\n",
    "acne_df_complete.head(10)"
   ]
  },
  {
   "cell_type": "markdown",
   "metadata": {},
   "source": [
    "## **Cleaning  Eczema images**"
   ]
  },
  {
   "cell_type": "code",
   "execution_count": 24,
   "metadata": {},
   "outputs": [
    {
     "data": {
      "text/plain": [
       "8"
      ]
     },
     "execution_count": 24,
     "metadata": {},
     "output_type": "execute_result"
    }
   ],
   "source": [
    "# Labels representing eczema in Dermnet's scraped data.\n",
    "\n",
    "eczema_labels = image_df[(image_df['skin_disorder_name'].str.contains('eczema')) | \\\n",
    "                         (image_df['skin_disorder_name'].str.contains('atopic dermatitis images')) |\\\n",
    "                         (image_df['skin_disorder_name'].str.contains('hand dermatitis images')) |\\\n",
    "                         (image_df['skin_disorder_name'] == 'dermatitis images') |\\\n",
    "                         (image_df['skin_disorder_name'].str.contains('nummular dermatitis images'))] \\\n",
    "                         ['skin_disorder_name'].unique()\n",
    "len(eczema_labels)"
   ]
  },
  {
   "cell_type": "code",
   "execution_count": 25,
   "metadata": {},
   "outputs": [
    {
     "name": "stdout",
     "output_type": "stream",
     "text": [
      "<class 'pandas.core.frame.DataFrame'>\n",
      "Int64Index: 631 entries, 1058 to 8989\n",
      "Data columns (total 2 columns):\n",
      " #   Column              Non-Null Count  Dtype \n",
      "---  ------              --------------  ----- \n",
      " 0   skin_disorder_name  631 non-null    object\n",
      " 1   images              631 non-null    object\n",
      "dtypes: object(2)\n",
      "memory usage: 14.8+ KB\n"
     ]
    }
   ],
   "source": [
    "# Creating a dataframe with just eczema labels for easier cleaning\n",
    "\n",
    "eczema_df = image_df[(image_df['skin_disorder_name'] == eczema_labels[0]) | \\\n",
    "                     (image_df['skin_disorder_name'] == eczema_labels[1]) | \\\n",
    "                     (image_df['skin_disorder_name'] == eczema_labels[2]) | \\\n",
    "                     (image_df['skin_disorder_name'] == eczema_labels[3]) | \\\n",
    "                     (image_df['skin_disorder_name'] == eczema_labels[4]) | \\\n",
    "                     (image_df['skin_disorder_name'] == eczema_labels[5]) | \\\n",
    "                     (image_df['skin_disorder_name'] == eczema_labels[6]) | \\\n",
    "                     (image_df['skin_disorder_name'] == eczema_labels[7]) \n",
    "                 ]\n",
    "eczema_df.info()"
   ]
  },
  {
   "attachments": {},
   "cell_type": "markdown",
   "metadata": {},
   "source": [
    "##### **Extra eczema images**"
   ]
  },
  {
   "cell_type": "code",
   "execution_count": 26,
   "metadata": {},
   "outputs": [
    {
     "data": {
      "text/plain": [
       "['0_0.jpg',\n",
       " '0_1.jpg',\n",
       " '0_10.jpg',\n",
       " '0_11.jpg',\n",
       " '0_12.jpg',\n",
       " '0_13.jpg',\n",
       " '0_14.jpg',\n",
       " '0_15.jpg',\n",
       " '0_16.jpg',\n",
       " '0_17.jpg']"
      ]
     },
     "execution_count": 26,
     "metadata": {},
     "output_type": "execute_result"
    }
   ],
   "source": [
    "extra_eczema1 = [image_name for image_name in os.listdir('extra_images/extra_eczema')]\n",
    "extra_eczema1[:10]"
   ]
  },
  {
   "cell_type": "code",
   "execution_count": 27,
   "metadata": {},
   "outputs": [
    {
     "data": {
      "text/plain": [
       "['t-03eczema091205.jpg',\n",
       " 't-eczema-acute-1.jpg',\n",
       " 't-eczema-acute-11.jpg',\n",
       " 't-eczema-acute-12.jpg',\n",
       " 't-eczema-acute-13.jpg',\n",
       " 't-eczema-acute-14.jpg',\n",
       " 't-eczema-acute-15.jpg',\n",
       " 't-eczema-acute-2.jpg',\n",
       " 't-eczema-acute-20.jpg',\n",
       " 't-eczema-acute-21.jpg']"
      ]
     },
     "execution_count": 27,
     "metadata": {},
     "output_type": "execute_result"
    }
   ],
   "source": [
    "# The folder has a mixture of images. We will filter out the eczema images only\n",
    "\n",
    "extra_eczema_images = [image_name for image_name in extra_eczema1\\\n",
    "                        if ('dermatitis' in image_name) |\\\n",
    "                        ('eczema' in image_name) |\\\n",
    "                        ('pompholyx' in image_name) |\\\n",
    "                        ('dyshidrotic' in image_name)]\n",
    "extra_eczema_images[:10]"
   ]
  },
  {
   "cell_type": "code",
   "execution_count": 28,
   "metadata": {},
   "outputs": [],
   "source": [
    "# Moving this images into their own folder called 'extra_eczema_images_clean'\n",
    "folder_name = 'extra_images/extra_eczema_images_clean/'\n",
    "\n",
    "# Checking if the folder exists and deleting it if it exists\n",
    "if os.path.exists(folder_name):\n",
    "    # deleting the folder and its contents\n",
    "    shutil.rmtree(folder_name)\n",
    "\n",
    "# create the new folder\n",
    "os.mkdir(folder_name)\n",
    "\n",
    "for img in extra_eczema_images:\n",
    "    origin = os.path.join('extra_images/extra_eczema/', img)\n",
    "    destination = os.path.join(folder_name, img)\n",
    "    shutil.copy(origin, destination)"
   ]
  },
  {
   "cell_type": "code",
   "execution_count": 29,
   "metadata": {},
   "outputs": [
    {
     "name": "stdout",
     "output_type": "stream",
     "text": [
      "(1059, 2)\n"
     ]
    },
    {
     "data": {
      "text/html": [
       "<div>\n",
       "<style scoped>\n",
       "    .dataframe tbody tr th:only-of-type {\n",
       "        vertical-align: middle;\n",
       "    }\n",
       "\n",
       "    .dataframe tbody tr th {\n",
       "        vertical-align: top;\n",
       "    }\n",
       "\n",
       "    .dataframe thead th {\n",
       "        text-align: right;\n",
       "    }\n",
       "</style>\n",
       "<table border=\"1\" class=\"dataframe\">\n",
       "  <thead>\n",
       "    <tr style=\"text-align: right;\">\n",
       "      <th></th>\n",
       "      <th>skin_disorder_name</th>\n",
       "      <th>images</th>\n",
       "    </tr>\n",
       "  </thead>\n",
       "  <tbody>\n",
       "    <tr>\n",
       "      <th>0</th>\n",
       "      <td>eczema</td>\n",
       "      <td>t-03eczema091205.jpg</td>\n",
       "    </tr>\n",
       "    <tr>\n",
       "      <th>1</th>\n",
       "      <td>eczema</td>\n",
       "      <td>t-eczema-acute-1.jpg</td>\n",
       "    </tr>\n",
       "    <tr>\n",
       "      <th>2</th>\n",
       "      <td>eczema</td>\n",
       "      <td>t-eczema-acute-11.jpg</td>\n",
       "    </tr>\n",
       "    <tr>\n",
       "      <th>3</th>\n",
       "      <td>eczema</td>\n",
       "      <td>t-eczema-acute-12.jpg</td>\n",
       "    </tr>\n",
       "    <tr>\n",
       "      <th>4</th>\n",
       "      <td>eczema</td>\n",
       "      <td>t-eczema-acute-13.jpg</td>\n",
       "    </tr>\n",
       "  </tbody>\n",
       "</table>\n",
       "</div>"
      ],
      "text/plain": [
       "  skin_disorder_name                 images\n",
       "0             eczema   t-03eczema091205.jpg\n",
       "1             eczema   t-eczema-acute-1.jpg\n",
       "2             eczema  t-eczema-acute-11.jpg\n",
       "3             eczema  t-eczema-acute-12.jpg\n",
       "4             eczema  t-eczema-acute-13.jpg"
      ]
     },
     "execution_count": 29,
     "metadata": {},
     "output_type": "execute_result"
    }
   ],
   "source": [
    "#Creating a dataframe for the extra eczema images\n",
    "\n",
    "label =['eczema' for img in extra_eczema_images]\n",
    "extra_eczema_df = pd.DataFrame(extra_eczema_images, label).reset_index()\n",
    "extra_eczema_df.columns =['skin_disorder_name', 'images']\n",
    "print(extra_eczema_df.shape)\n",
    "extra_eczema_df.head()"
   ]
  },
  {
   "attachments": {},
   "cell_type": "markdown",
   "metadata": {},
   "source": [
    "**i. Moving eczema images in the Image folder to their own folder**"
   ]
  },
  {
   "cell_type": "code",
   "execution_count": 30,
   "metadata": {},
   "outputs": [
    {
     "name": "stdout",
     "output_type": "stream",
     "text": [
      "There are 631 eczema images\n"
     ]
    },
    {
     "data": {
      "text/plain": [
       "['atopic dermatitis images1058.jpg',\n",
       " 'atopic dermatitis images1059.jpg',\n",
       " 'atopic dermatitis images1060.jpg',\n",
       " 'atopic dermatitis images1061.jpg',\n",
       " 'atopic dermatitis images1062.jpg']"
      ]
     },
     "execution_count": 30,
     "metadata": {},
     "output_type": "execute_result"
    }
   ],
   "source": [
    "# Getting the eczema images file names\n",
    "eczema_img = [image_name for image_name in os.listdir('Images/') if ('eczema' in image_name) |\n",
    "                                                                    ('atopic dermatitis images' in image_name) |\n",
    "                                                                    ('hand dermatitis images' in image_name) | \n",
    "                                                                    (image_name.startswith('dermatitis images'))|\n",
    "                                                                    ('nummular dermatitis images' in image_name)\n",
    "                                                                     ] \n",
    "\n",
    "# Confirming the number of eczema images before any cleaning\n",
    "print('There are', len(eczema_img),'eczema images')\n",
    "eczema_img[:5]"
   ]
  },
  {
   "cell_type": "code",
   "execution_count": 31,
   "metadata": {},
   "outputs": [],
   "source": [
    "# Creating a new folder with just eczema images to make cleaning easier\n",
    "folder_name = 'cleaned_images/eczema_images/'\n",
    "\n",
    "# Checking if the folder exists and deleting it if it exists\n",
    "if os.path.exists(folder_name):\n",
    "    # deleting the folder and its contents\n",
    "    shutil.rmtree(folder_name)\n",
    "\n",
    "# create the new folder\n",
    "os.mkdir(folder_name)\n",
    "\n",
    "# Moving the images into that folder\n",
    "for img in eczema_img:\n",
    "    origin = os.path.join('Images/', img)\n",
    "    destination = os.path.join(folder_name, img)\n",
    "    shutil.copy(origin, destination)"
   ]
  },
  {
   "cell_type": "code",
   "execution_count": 32,
   "metadata": {},
   "outputs": [
    {
     "name": "stdout",
     "output_type": "stream",
     "text": [
      "There are 631  eczema images\n"
     ]
    }
   ],
   "source": [
    "# Confirming that the number of eczema images after moving them to a separate folder is still 631\n",
    "eczema_img = [image_name for image_name in os.listdir('cleaned_images/eczema_images/')] \n",
    "print('There are', len(eczema_img),' eczema images')"
   ]
  },
  {
   "attachments": {},
   "cell_type": "markdown",
   "metadata": {},
   "source": [
    "**ii. Dropping links from the 'images' column in the eczema_df and replacing them with the image name**"
   ]
  },
  {
   "cell_type": "code",
   "execution_count": 33,
   "metadata": {},
   "outputs": [
    {
     "data": {
      "text/html": [
       "<div>\n",
       "<style scoped>\n",
       "    .dataframe tbody tr th:only-of-type {\n",
       "        vertical-align: middle;\n",
       "    }\n",
       "\n",
       "    .dataframe tbody tr th {\n",
       "        vertical-align: top;\n",
       "    }\n",
       "\n",
       "    .dataframe thead th {\n",
       "        text-align: right;\n",
       "    }\n",
       "</style>\n",
       "<table border=\"1\" class=\"dataframe\">\n",
       "  <thead>\n",
       "    <tr style=\"text-align: right;\">\n",
       "      <th></th>\n",
       "      <th>skin_disorder_name</th>\n",
       "      <th>images</th>\n",
       "    </tr>\n",
       "  </thead>\n",
       "  <tbody>\n",
       "    <tr>\n",
       "      <th>1058</th>\n",
       "      <td>atopic dermatitis images</td>\n",
       "      <td>atopic dermatitis images1058.jpg</td>\n",
       "    </tr>\n",
       "    <tr>\n",
       "      <th>1059</th>\n",
       "      <td>atopic dermatitis images</td>\n",
       "      <td>atopic dermatitis images1059.jpg</td>\n",
       "    </tr>\n",
       "    <tr>\n",
       "      <th>1060</th>\n",
       "      <td>atopic dermatitis images</td>\n",
       "      <td>atopic dermatitis images1060.jpg</td>\n",
       "    </tr>\n",
       "    <tr>\n",
       "      <th>1061</th>\n",
       "      <td>atopic dermatitis images</td>\n",
       "      <td>atopic dermatitis images1061.jpg</td>\n",
       "    </tr>\n",
       "    <tr>\n",
       "      <th>1062</th>\n",
       "      <td>atopic dermatitis images</td>\n",
       "      <td>atopic dermatitis images1062.jpg</td>\n",
       "    </tr>\n",
       "  </tbody>\n",
       "</table>\n",
       "</div>"
      ],
      "text/plain": [
       "            skin_disorder_name                            images\n",
       "1058  atopic dermatitis images  atopic dermatitis images1058.jpg\n",
       "1059  atopic dermatitis images  atopic dermatitis images1059.jpg\n",
       "1060  atopic dermatitis images  atopic dermatitis images1060.jpg\n",
       "1061  atopic dermatitis images  atopic dermatitis images1061.jpg\n",
       "1062  atopic dermatitis images  atopic dermatitis images1062.jpg"
      ]
     },
     "execution_count": 33,
     "metadata": {},
     "output_type": "execute_result"
    }
   ],
   "source": [
    "# So that the two dataframes can match, we dropped the image links in  eczema_df \n",
    "# and replace them with the image names\n",
    "\n",
    "eczema_images = pd.DataFrame(eczema_img, columns=['images'])\n",
    "eczema_df = eczema_df.copy()\n",
    "eczema_df.drop('images', axis=1, inplace=True)\n",
    "eczema_df['images'] = eczema_images['images'].values\n",
    "eczema_df.head()"
   ]
  },
  {
   "attachments": {},
   "cell_type": "markdown",
   "metadata": {},
   "source": [
    "**iii. Joining the two dataframes**"
   ]
  },
  {
   "cell_type": "code",
   "execution_count": 34,
   "metadata": {},
   "outputs": [
    {
     "name": "stdout",
     "output_type": "stream",
     "text": [
      "<class 'pandas.core.frame.DataFrame'>\n",
      "RangeIndex: 1690 entries, 0 to 1689\n",
      "Data columns (total 2 columns):\n",
      " #   Column              Non-Null Count  Dtype \n",
      "---  ------              --------------  ----- \n",
      " 0   skin_disorder_name  1690 non-null   object\n",
      " 1   images              1690 non-null   object\n",
      "dtypes: object(2)\n",
      "memory usage: 26.5+ KB\n",
      "None\n"
     ]
    },
    {
     "data": {
      "text/html": [
       "<div>\n",
       "<style scoped>\n",
       "    .dataframe tbody tr th:only-of-type {\n",
       "        vertical-align: middle;\n",
       "    }\n",
       "\n",
       "    .dataframe tbody tr th {\n",
       "        vertical-align: top;\n",
       "    }\n",
       "\n",
       "    .dataframe thead th {\n",
       "        text-align: right;\n",
       "    }\n",
       "</style>\n",
       "<table border=\"1\" class=\"dataframe\">\n",
       "  <thead>\n",
       "    <tr style=\"text-align: right;\">\n",
       "      <th></th>\n",
       "      <th>skin_disorder_name</th>\n",
       "      <th>images</th>\n",
       "    </tr>\n",
       "  </thead>\n",
       "  <tbody>\n",
       "    <tr>\n",
       "      <th>0</th>\n",
       "      <td>atopic dermatitis images</td>\n",
       "      <td>atopic dermatitis images1058.jpg</td>\n",
       "    </tr>\n",
       "    <tr>\n",
       "      <th>1</th>\n",
       "      <td>atopic dermatitis images</td>\n",
       "      <td>atopic dermatitis images1059.jpg</td>\n",
       "    </tr>\n",
       "    <tr>\n",
       "      <th>2</th>\n",
       "      <td>atopic dermatitis images</td>\n",
       "      <td>atopic dermatitis images1060.jpg</td>\n",
       "    </tr>\n",
       "    <tr>\n",
       "      <th>3</th>\n",
       "      <td>atopic dermatitis images</td>\n",
       "      <td>atopic dermatitis images1061.jpg</td>\n",
       "    </tr>\n",
       "    <tr>\n",
       "      <th>4</th>\n",
       "      <td>atopic dermatitis images</td>\n",
       "      <td>atopic dermatitis images1062.jpg</td>\n",
       "    </tr>\n",
       "  </tbody>\n",
       "</table>\n",
       "</div>"
      ],
      "text/plain": [
       "         skin_disorder_name                            images\n",
       "0  atopic dermatitis images  atopic dermatitis images1058.jpg\n",
       "1  atopic dermatitis images  atopic dermatitis images1059.jpg\n",
       "2  atopic dermatitis images  atopic dermatitis images1060.jpg\n",
       "3  atopic dermatitis images  atopic dermatitis images1061.jpg\n",
       "4  atopic dermatitis images  atopic dermatitis images1062.jpg"
      ]
     },
     "execution_count": 34,
     "metadata": {},
     "output_type": "execute_result"
    }
   ],
   "source": [
    "# Creating a dataframe with all of the eczema images\n",
    "\n",
    "eczema_df_complete = pd.concat([eczema_df, extra_eczema_df], axis=0).reset_index()\n",
    "eczema_df_complete.drop('index', axis=1, inplace=True)\n",
    "print(eczema_df_complete.info())\n",
    "eczema_df_complete.head()"
   ]
  },
  {
   "attachments": {},
   "cell_type": "markdown",
   "metadata": {},
   "source": [
    "**iv. Combining the images into one folder**"
   ]
  },
  {
   "cell_type": "code",
   "execution_count": 35,
   "metadata": {},
   "outputs": [],
   "source": [
    "# This was done by moving the extra images into the eczema folder\n",
    "for img in extra_eczema_images:\n",
    "    origin = os.path.join('extra_images/extra_eczema_images_clean/', img)\n",
    "    destination = os.path.join('cleaned_images/eczema_images/', img)\n",
    "    shutil.copy(origin, destination)"
   ]
  },
  {
   "cell_type": "code",
   "execution_count": 36,
   "metadata": {},
   "outputs": [
    {
     "name": "stdout",
     "output_type": "stream",
     "text": [
      "There are a total of 1690 eczema images\n"
     ]
    }
   ],
   "source": [
    "# Confirming that the total acne images is 1690 before any cleaning\n",
    "\n",
    "eczema_img = [image_name for image_name in os.listdir('cleaned_images/eczema_images/')] \n",
    "print('There are a total of', len(eczema_img),'eczema images')"
   ]
  },
  {
   "attachments": {},
   "cell_type": "markdown",
   "metadata": {},
   "source": [
    "**v. Removing duplicated images from the folder**"
   ]
  },
  {
   "cell_type": "code",
   "execution_count": 37,
   "metadata": {},
   "outputs": [
    {
     "data": {
      "text/plain": [
       "['atopic eczema images1147.jpg',\n",
       " 'atopic eczema images1148.jpg',\n",
       " 'atopic eczema images1149.jpg',\n",
       " 'atopic eczema images1150.jpg',\n",
       " 'atopic eczema images1151.jpg']"
      ]
     },
     "execution_count": 37,
     "metadata": {},
     "output_type": "execute_result"
    }
   ],
   "source": [
    "# Using a function created earlier to drop duplicates\n",
    "\n",
    "duplicated_images = drop_duplicated_images('cleaned_images/eczema_images/')\n",
    "duplicated_images[:5]"
   ]
  },
  {
   "cell_type": "code",
   "execution_count": 38,
   "metadata": {},
   "outputs": [
    {
     "name": "stdout",
     "output_type": "stream",
     "text": [
      "There are 1298 eczema images after removing duplicated images\n"
     ]
    }
   ],
   "source": [
    "# Confirming the number of images after dropping duplicates\n",
    "\n",
    "eczema_img = [image_name for image_name in os.listdir('cleaned_images/eczema_images/')] \n",
    "print('There are', len(eczema_img),'eczema images after removing duplicated images')"
   ]
  },
  {
   "cell_type": "code",
   "execution_count": 39,
   "metadata": {},
   "outputs": [
    {
     "data": {
      "text/plain": [
       "[89, 90, 91, 92, 93, 94, 95, 96, 97, 98]"
      ]
     },
     "execution_count": 39,
     "metadata": {},
     "output_type": "execute_result"
    }
   ],
   "source": [
    "# Getting the indexes of the duplicated images so that they can be dropped from the eczema_df_complete too.\n",
    "\n",
    "duplicated_indexes = [eczema_df_complete[eczema_df_complete['images'] == image_name].index[0] \\\n",
    "                      for image_name in eczema_df_complete['images']\\\n",
    "                      if image_name in duplicated_images]\n",
    "duplicated_indexes[:10]"
   ]
  },
  {
   "cell_type": "code",
   "execution_count": 40,
   "metadata": {},
   "outputs": [
    {
     "name": "stdout",
     "output_type": "stream",
     "text": [
      "<class 'pandas.core.frame.DataFrame'>\n",
      "Int64Index: 1298 entries, 0 to 1689\n",
      "Data columns (total 2 columns):\n",
      " #   Column              Non-Null Count  Dtype \n",
      "---  ------              --------------  ----- \n",
      " 0   skin_disorder_name  1298 non-null   object\n",
      " 1   images              1298 non-null   object\n",
      "dtypes: object(2)\n",
      "memory usage: 30.4+ KB\n"
     ]
    }
   ],
   "source": [
    "# Dropping duplicated images from the dataframe.\n",
    "eczema_df_complete = eczema_df_complete .copy()\n",
    "eczema_df_complete .drop(duplicated_indexes, axis=0, inplace=True)\n",
    "eczema_df_complete .info()"
   ]
  },
  {
   "attachments": {},
   "cell_type": "markdown",
   "metadata": {},
   "source": [
    "**vi. Changing the label to just eczema**"
   ]
  },
  {
   "cell_type": "code",
   "execution_count": 42,
   "metadata": {},
   "outputs": [
    {
     "data": {
      "text/html": [
       "<div>\n",
       "<style scoped>\n",
       "    .dataframe tbody tr th:only-of-type {\n",
       "        vertical-align: middle;\n",
       "    }\n",
       "\n",
       "    .dataframe tbody tr th {\n",
       "        vertical-align: top;\n",
       "    }\n",
       "\n",
       "    .dataframe thead th {\n",
       "        text-align: right;\n",
       "    }\n",
       "</style>\n",
       "<table border=\"1\" class=\"dataframe\">\n",
       "  <thead>\n",
       "    <tr style=\"text-align: right;\">\n",
       "      <th></th>\n",
       "      <th>skin_disorder_name</th>\n",
       "      <th>images</th>\n",
       "    </tr>\n",
       "  </thead>\n",
       "  <tbody>\n",
       "    <tr>\n",
       "      <th>0</th>\n",
       "      <td>eczema</td>\n",
       "      <td>atopic dermatitis images1058.jpg</td>\n",
       "    </tr>\n",
       "    <tr>\n",
       "      <th>1</th>\n",
       "      <td>eczema</td>\n",
       "      <td>atopic dermatitis images1059.jpg</td>\n",
       "    </tr>\n",
       "    <tr>\n",
       "      <th>2</th>\n",
       "      <td>eczema</td>\n",
       "      <td>atopic dermatitis images1060.jpg</td>\n",
       "    </tr>\n",
       "    <tr>\n",
       "      <th>3</th>\n",
       "      <td>eczema</td>\n",
       "      <td>atopic dermatitis images1061.jpg</td>\n",
       "    </tr>\n",
       "    <tr>\n",
       "      <th>4</th>\n",
       "      <td>eczema</td>\n",
       "      <td>atopic dermatitis images1062.jpg</td>\n",
       "    </tr>\n",
       "    <tr>\n",
       "      <th>5</th>\n",
       "      <td>eczema</td>\n",
       "      <td>atopic dermatitis images1063.jpg</td>\n",
       "    </tr>\n",
       "    <tr>\n",
       "      <th>6</th>\n",
       "      <td>eczema</td>\n",
       "      <td>atopic dermatitis images1064.jpg</td>\n",
       "    </tr>\n",
       "    <tr>\n",
       "      <th>7</th>\n",
       "      <td>eczema</td>\n",
       "      <td>atopic dermatitis images1065.jpg</td>\n",
       "    </tr>\n",
       "    <tr>\n",
       "      <th>8</th>\n",
       "      <td>eczema</td>\n",
       "      <td>atopic dermatitis images1066.jpg</td>\n",
       "    </tr>\n",
       "    <tr>\n",
       "      <th>9</th>\n",
       "      <td>eczema</td>\n",
       "      <td>atopic dermatitis images1067.jpg</td>\n",
       "    </tr>\n",
       "  </tbody>\n",
       "</table>\n",
       "</div>"
      ],
      "text/plain": [
       "  skin_disorder_name                            images\n",
       "0             eczema  atopic dermatitis images1058.jpg\n",
       "1             eczema  atopic dermatitis images1059.jpg\n",
       "2             eczema  atopic dermatitis images1060.jpg\n",
       "3             eczema  atopic dermatitis images1061.jpg\n",
       "4             eczema  atopic dermatitis images1062.jpg\n",
       "5             eczema  atopic dermatitis images1063.jpg\n",
       "6             eczema  atopic dermatitis images1064.jpg\n",
       "7             eczema  atopic dermatitis images1065.jpg\n",
       "8             eczema  atopic dermatitis images1066.jpg\n",
       "9             eczema  atopic dermatitis images1067.jpg"
      ]
     },
     "execution_count": 42,
     "metadata": {},
     "output_type": "execute_result"
    }
   ],
   "source": [
    "eczema_df_complete['skin_disorder_name'] = 'eczema'\n",
    "eczema_df_complete.head(10)"
   ]
  },
  {
   "cell_type": "markdown",
   "metadata": {},
   "source": [
    "### Basal cell carcinoma and basal cell epithelioma"
   ]
  },
  {
   "cell_type": "markdown",
   "metadata": {},
   "source": [
    "**Meaning**<br>\n",
    "Basal cell epithelioma is a benign tumor that arises from the basal cells in the skin. It is usually slow-growing and rarely spreads to other parts of the body. <br>\n",
    "On the other hand, basal cell carcinoma (BCC) is a malignant tumor that also arises from the basal cells in the skin. It is the most common type of skin cancer. Malignant tumors are more dangerous than benign tumors because they can grow quickly and invade and destroy surrounding tissues, leading to significant damage to the body's normal functions. <br>\n",
    "\n",
    "**Causes**<br>\n",
    "Both basal cell epithelioma and basal cell carcinoma are primarily caused by exposure to ultraviolet (UV) radiation from the sun or tanning beds. Prolonged exposure to UV radiation damages the DNA in the skin cells, leading to mutations that can cause the cells to grow and divide uncontrollably, eventually forming a tumor. Other factors that may increase the risk of developing these skin cancers include having fair skin, a history of sunburns or intense sun exposure, a weakened immune system, a family history of skin cancer, and certain genetic conditions.\n",
    "\n",
    "**Symptoms**<br>\n",
    "Basal cell epithelioma and basal cell carcinoma can have similar symptoms, but there are some differences. Both conditions typically present as raised, pearly, or translucent bumps or lesions on the skin that may be pink, red, or white in color. These lesions can sometimes ulcerate or bleed, and may develop a crust or scab. However, basal cell carcinoma can sometimes appear as a flat, scaly, or pigmented patch on the skin, which is less common in basal cell epithelioma.\n",
    "\n",
    "**Treatment**<br>\n",
    "Basal cell epithelioma and basal cell carcinoma are treated similarly, but the treatment plan depends on the size, location, and extent of the tumor. Surgical removal of the tumor is the primary treatment, and there are different techniques available, such as excision, curettage and electrodesiccation, Mohs surgery, or radiation therapy. For small tumors, excision may be sufficient, while Mohs surgery is recommended for larger or more advanced tumors to ensure complete removal. Radiation therapy may be used as an alternative to surgery for some cases. Systemic chemotherapy or immunotherapy is rarely used for advanced basal cell carcinoma that has spread to other parts of the body."
   ]
  },
  {
   "cell_type": "markdown",
   "metadata": {},
   "source": [
    "#### i. Cleaning Basal Cell Carcinoma"
   ]
  },
  {
   "cell_type": "code",
   "execution_count": null,
   "metadata": {},
   "outputs": [
    {
     "name": "stdout",
     "output_type": "stream",
     "text": [
      "['basal cell carcinoma affecting the ear images'\n",
      " 'basal cell carcinoma affecting the eyelid images'\n",
      " 'basal cell carcinoma affecting the face images'\n",
      " 'basal cell carcinoma affecting the nose images'\n",
      " 'basal cell carcinoma affecting the trunk images'\n",
      " 'basal cell epithelioma affecting the ear images'\n",
      " 'basal cell epithelioma affecting the eyelid images'\n",
      " 'basal cell epithelioma affecting the face images'\n",
      " 'basal cell epithelioma affecting the nose images'\n",
      " 'basal cell epithelioma affecting the trunk images'\n",
      " 'basalioma affecting the ear images'\n",
      " 'basalioma affecting the eyelid images'\n",
      " 'basalioma affecting the face images'\n",
      " 'basalioma affecting the nose images'\n",
      " 'basalioma affecting the trunk images'\n",
      " 'nodular basal cell carcinoma images']\n",
      "****************************************\n",
      "['bcc affecting the ear images' 'bcc affecting the eyelid images'\n",
      " 'bcc affecting the face images' 'bcc affecting the nose images'\n",
      " 'bcc affecting the trunk images' 'nodular bcc images']\n"
     ]
    }
   ],
   "source": [
    "# image labels that contain the string basal and bcc\n",
    "print(image_df[image_df['skin_disorder_name'].str.contains('basal')]['skin_disorder_name'].unique())\n",
    "print('****************************************')\n",
    "print(image_df[image_df['skin_disorder_name'].str.contains('bcc')]['skin_disorder_name'].unique())"
   ]
  },
  {
   "cell_type": "code",
   "execution_count": null,
   "metadata": {},
   "outputs": [
    {
     "name": "stdout",
     "output_type": "stream",
     "text": [
      "(442, 2)\n"
     ]
    },
    {
     "data": {
      "text/html": [
       "<div>\n",
       "<style scoped>\n",
       "    .dataframe tbody tr th:only-of-type {\n",
       "        vertical-align: middle;\n",
       "    }\n",
       "\n",
       "    .dataframe tbody tr th {\n",
       "        vertical-align: top;\n",
       "    }\n",
       "\n",
       "    .dataframe thead th {\n",
       "        text-align: right;\n",
       "    }\n",
       "</style>\n",
       "<table border=\"1\" class=\"dataframe\">\n",
       "  <thead>\n",
       "    <tr style=\"text-align: right;\">\n",
       "      <th></th>\n",
       "      <th>skin_disorder_name</th>\n",
       "      <th>images</th>\n",
       "    </tr>\n",
       "  </thead>\n",
       "  <tbody>\n",
       "    <tr>\n",
       "      <th>1450</th>\n",
       "      <td>bcc affecting the ear images</td>\n",
       "      <td>https://dermnetnz.org/assets/Uploads/lesions/b...</td>\n",
       "    </tr>\n",
       "    <tr>\n",
       "      <th>1451</th>\n",
       "      <td>bcc affecting the ear images</td>\n",
       "      <td>https://dermnetnz.org/assets/Uploads/lesions/b...</td>\n",
       "    </tr>\n",
       "    <tr>\n",
       "      <th>1452</th>\n",
       "      <td>bcc affecting the ear images</td>\n",
       "      <td>https://dermnetnz.org/assets/Uploads/lesions/b...</td>\n",
       "    </tr>\n",
       "    <tr>\n",
       "      <th>1453</th>\n",
       "      <td>bcc affecting the ear images</td>\n",
       "      <td>https://dermnetnz.org/assets/Uploads/lesions/b...</td>\n",
       "    </tr>\n",
       "    <tr>\n",
       "      <th>1454</th>\n",
       "      <td>bcc affecting the ear images</td>\n",
       "      <td>https://dermnetnz.org/assets/Uploads/lesions/b...</td>\n",
       "    </tr>\n",
       "  </tbody>\n",
       "</table>\n",
       "</div>"
      ],
      "text/plain": [
       "                skin_disorder_name  \\\n",
       "1450  bcc affecting the ear images   \n",
       "1451  bcc affecting the ear images   \n",
       "1452  bcc affecting the ear images   \n",
       "1453  bcc affecting the ear images   \n",
       "1454  bcc affecting the ear images   \n",
       "\n",
       "                                                 images  \n",
       "1450  https://dermnetnz.org/assets/Uploads/lesions/b...  \n",
       "1451  https://dermnetnz.org/assets/Uploads/lesions/b...  \n",
       "1452  https://dermnetnz.org/assets/Uploads/lesions/b...  \n",
       "1453  https://dermnetnz.org/assets/Uploads/lesions/b...  \n",
       "1454  https://dermnetnz.org/assets/Uploads/lesions/b...  "
      ]
     },
     "execution_count": 4,
     "metadata": {},
     "output_type": "execute_result"
    }
   ],
   "source": [
    "# dataframe with bcc(basal cell carcinoma) labels\n",
    "bcc_df = image_df[(image_df['skin_disorder_name'].str.contains('basal cell carcinoma')) | \\\n",
    "                  (image_df['skin_disorder_name'].str.contains('bcc'))]\n",
    "print(bcc_df.shape)\n",
    "bcc_df.head()"
   ]
  },
  {
   "cell_type": "code",
   "execution_count": null,
   "metadata": {},
   "outputs": [
    {
     "name": "stdout",
     "output_type": "stream",
     "text": [
      "There are 442 bcc images\n"
     ]
    }
   ],
   "source": [
    "# Getting the bcc images file names\n",
    "bcc_img = [image_name for image_name in os.listdir('Images/') if ('basal cell carcinoma' in image_name) | ('bcc' in image_name)] \n",
    "\n",
    "# Creating a new folder with just bcc images to make cleaning easier\n",
    "os.mkdir('bcc_images/')\n",
    "for img in bcc_img:\n",
    "    origin = os.path.join('Images/', img)\n",
    "    destination = os.path.join('bcc_images/', img)\n",
    "    shutil.copy(origin, destination)\n",
    "    \n",
    "# Confirming that the number of bcc images after moving them to a separate folder is still 442\n",
    "bcc_img = [image_name for image_name in os.listdir('bcc_images/')] \n",
    "print('There are', len(bcc_img),'bcc images')"
   ]
  },
  {
   "cell_type": "markdown",
   "metadata": {},
   "source": [
    "Remove duplicate images"
   ]
  },
  {
   "cell_type": "code",
   "execution_count": null,
   "metadata": {},
   "outputs": [],
   "source": [
    "# function to remove duplicate images\n",
    "def drop_duplicates(disease_images, disease_df):\n",
    "    # Define a threshold for image similarity\n",
    "    threshold = 8\n",
    "\n",
    "    # Define a dictionary to store the hash values and file paths of the images\n",
    "    image_hashes = {}\n",
    "    duplicated_images = []\n",
    "    # Loop through all the image files in a directory\n",
    "    for filename in os.listdir(disease_images):\n",
    "        # Load the image file\n",
    "        image = Image.open(os.path.join(disease_images, filename))\n",
    "\n",
    "        # Compute the hash value of the image using the average hash algorithm\n",
    "        hash_value = imagehash.average_hash(image)\n",
    "\n",
    "        # Check if the hash value is already in the dictionary\n",
    "        if hash_value in image_hashes:\n",
    "            # If a similar hash value already exists, delete the duplicate image\n",
    "            duplicated_images.append(filename)\n",
    "            os.remove(os.path.join(disease_images, filename))\n",
    "            print(f\"Duplicate image deleted: {filename}\")\n",
    "        else:\n",
    "            # Otherwise, add the hash value and file path to the dictionary\n",
    "            image_hashes[hash_value] = os.path.join(disease_images, filename)\n",
    "\n",
    "    # Getting the indexes of the duplicated images so that they can be dropped from the disease_df too.\n",
    "    duplicated_indexes = []\n",
    "    for img_name in duplicated_images:\n",
    "        match = re.search(r'\\d+', img_name)\n",
    "        if match:\n",
    "            number = match.group()\n",
    "            duplicated_indexes.append(int(number))\n",
    "\n",
    "    # Dropping duplicated images from the dataframe.\n",
    "    disease_df = disease_df.drop(duplicated_indexes, axis=0)\n",
    "    \n",
    "    return disease_df"
   ]
  },
  {
   "cell_type": "code",
   "execution_count": null,
   "metadata": {},
   "outputs": [
    {
     "name": "stdout",
     "output_type": "stream",
     "text": [
      "Duplicate image deleted: basal cell carcinoma affecting the face images2003.jpg\n",
      "Duplicate image deleted: bcc affecting the ear images1450.jpg\n",
      "Duplicate image deleted: bcc affecting the ear images1451.jpg\n",
      "Duplicate image deleted: bcc affecting the ear images1452.jpg\n",
      "Duplicate image deleted: bcc affecting the ear images1453.jpg\n",
      "Duplicate image deleted: bcc affecting the ear images1454.jpg\n",
      "Duplicate image deleted: bcc affecting the ear images1455.jpg\n",
      "Duplicate image deleted: bcc affecting the eyelid images1456.jpg\n",
      "Duplicate image deleted: bcc affecting the eyelid images1457.jpg\n",
      "Duplicate image deleted: bcc affecting the eyelid images1458.jpg\n",
      "Duplicate image deleted: bcc affecting the eyelid images1459.jpg\n",
      "Duplicate image deleted: bcc affecting the eyelid images1460.jpg\n",
      "Duplicate image deleted: bcc affecting the eyelid images1461.jpg\n",
      "Duplicate image deleted: bcc affecting the eyelid images1462.jpg\n",
      "Duplicate image deleted: bcc affecting the eyelid images1463.jpg\n",
      "Duplicate image deleted: bcc affecting the eyelid images1464.jpg\n",
      "Duplicate image deleted: bcc affecting the face images1465.jpg\n",
      "Duplicate image deleted: bcc affecting the face images1466.jpg\n",
      "Duplicate image deleted: bcc affecting the face images1467.jpg\n",
      "Duplicate image deleted: bcc affecting the face images1468.jpg\n",
      "Duplicate image deleted: bcc affecting the face images1469.jpg\n",
      "Duplicate image deleted: bcc affecting the face images1470.jpg\n",
      "Duplicate image deleted: bcc affecting the face images1471.jpg\n",
      "Duplicate image deleted: bcc affecting the face images1472.jpg\n",
      "Duplicate image deleted: bcc affecting the face images1473.jpg\n",
      "Duplicate image deleted: bcc affecting the face images1474.jpg\n",
      "Duplicate image deleted: bcc affecting the face images1475.jpg\n",
      "Duplicate image deleted: bcc affecting the face images1476.jpg\n",
      "Duplicate image deleted: bcc affecting the face images1477.jpg\n",
      "Duplicate image deleted: bcc affecting the face images1478.jpg\n",
      "Duplicate image deleted: bcc affecting the face images1479.jpg\n",
      "Duplicate image deleted: bcc affecting the face images1480.jpg\n",
      "Duplicate image deleted: bcc affecting the face images1481.jpg\n",
      "Duplicate image deleted: bcc affecting the face images1482.jpg\n",
      "Duplicate image deleted: bcc affecting the face images1483.jpg\n",
      "Duplicate image deleted: bcc affecting the face images1484.jpg\n",
      "Duplicate image deleted: bcc affecting the face images1485.jpg\n",
      "Duplicate image deleted: bcc affecting the face images1486.jpg\n",
      "Duplicate image deleted: bcc affecting the face images1487.jpg\n",
      "Duplicate image deleted: bcc affecting the face images1488.jpg\n",
      "Duplicate image deleted: bcc affecting the face images1489.jpg\n",
      "Duplicate image deleted: bcc affecting the face images1490.jpg\n",
      "Duplicate image deleted: bcc affecting the face images1491.jpg\n",
      "Duplicate image deleted: bcc affecting the face images1492.jpg\n",
      "Duplicate image deleted: bcc affecting the face images1493.jpg\n",
      "Duplicate image deleted: bcc affecting the face images1494.jpg\n",
      "Duplicate image deleted: bcc affecting the face images1495.jpg\n",
      "Duplicate image deleted: bcc affecting the face images1496.jpg\n",
      "Duplicate image deleted: bcc affecting the face images1497.jpg\n",
      "Duplicate image deleted: bcc affecting the face images1498.jpg\n",
      "Duplicate image deleted: bcc affecting the face images1499.jpg\n",
      "Duplicate image deleted: bcc affecting the face images1500.jpg\n",
      "Duplicate image deleted: bcc affecting the face images1501.jpg\n",
      "Duplicate image deleted: bcc affecting the face images1502.jpg\n",
      "Duplicate image deleted: bcc affecting the face images1503.jpg\n",
      "Duplicate image deleted: bcc affecting the face images1504.jpg\n",
      "Duplicate image deleted: bcc affecting the face images1505.jpg\n",
      "Duplicate image deleted: bcc affecting the face images1506.jpg\n",
      "Duplicate image deleted: bcc affecting the face images1507.jpg\n",
      "Duplicate image deleted: bcc affecting the face images1508.jpg\n",
      "Duplicate image deleted: bcc affecting the face images1509.jpg\n",
      "Duplicate image deleted: bcc affecting the face images1510.jpg\n",
      "Duplicate image deleted: bcc affecting the face images1511.jpg\n",
      "Duplicate image deleted: bcc affecting the face images1512.jpg\n",
      "Duplicate image deleted: bcc affecting the face images1513.jpg\n",
      "Duplicate image deleted: bcc affecting the face images1514.jpg\n",
      "Duplicate image deleted: bcc affecting the face images1515.jpg\n",
      "Duplicate image deleted: bcc affecting the face images1516.jpg\n",
      "Duplicate image deleted: bcc affecting the face images1517.jpg\n",
      "Duplicate image deleted: bcc affecting the face images1518.jpg\n",
      "Duplicate image deleted: bcc affecting the face images1519.jpg\n",
      "Duplicate image deleted: bcc affecting the face images1520.jpg\n",
      "Duplicate image deleted: bcc affecting the face images1521.jpg\n",
      "Duplicate image deleted: bcc affecting the face images1522.jpg\n",
      "Duplicate image deleted: bcc affecting the face images1523.jpg\n",
      "Duplicate image deleted: bcc affecting the face images1524.jpg\n",
      "Duplicate image deleted: bcc affecting the face images1525.jpg\n",
      "Duplicate image deleted: bcc affecting the face images1526.jpg\n",
      "Duplicate image deleted: bcc affecting the face images1527.jpg\n",
      "Duplicate image deleted: bcc affecting the face images1528.jpg\n",
      "Duplicate image deleted: bcc affecting the face images1529.jpg\n",
      "Duplicate image deleted: bcc affecting the face images1530.jpg\n",
      "Duplicate image deleted: bcc affecting the face images1531.jpg\n",
      "Duplicate image deleted: bcc affecting the face images1532.jpg\n",
      "Duplicate image deleted: bcc affecting the face images1533.jpg\n",
      "Duplicate image deleted: bcc affecting the face images1534.jpg\n",
      "Duplicate image deleted: bcc affecting the face images1535.jpg\n",
      "Duplicate image deleted: bcc affecting the face images1536.jpg\n",
      "Duplicate image deleted: bcc affecting the face images1537.jpg\n",
      "Duplicate image deleted: bcc affecting the face images1538.jpg\n",
      "Duplicate image deleted: bcc affecting the face images1539.jpg\n",
      "Duplicate image deleted: bcc affecting the face images1540.jpg\n",
      "Duplicate image deleted: bcc affecting the face images1541.jpg\n",
      "Duplicate image deleted: bcc affecting the face images1542.jpg\n",
      "Duplicate image deleted: bcc affecting the face images1543.jpg\n",
      "Duplicate image deleted: bcc affecting the nose images1544.jpg\n",
      "Duplicate image deleted: bcc affecting the nose images1545.jpg\n",
      "Duplicate image deleted: bcc affecting the nose images1546.jpg\n",
      "Duplicate image deleted: bcc affecting the nose images1547.jpg\n",
      "Duplicate image deleted: bcc affecting the nose images1548.jpg\n",
      "Duplicate image deleted: bcc affecting the nose images1549.jpg\n",
      "Duplicate image deleted: bcc affecting the nose images1550.jpg\n",
      "Duplicate image deleted: bcc affecting the nose images1551.jpg\n",
      "Duplicate image deleted: bcc affecting the nose images1552.jpg\n",
      "Duplicate image deleted: bcc affecting the nose images1553.jpg\n",
      "Duplicate image deleted: bcc affecting the nose images1554.jpg\n",
      "Duplicate image deleted: bcc affecting the nose images1555.jpg\n",
      "Duplicate image deleted: bcc affecting the nose images1556.jpg\n",
      "Duplicate image deleted: bcc affecting the nose images1557.jpg\n",
      "Duplicate image deleted: bcc affecting the nose images1558.jpg\n",
      "Duplicate image deleted: bcc affecting the nose images1559.jpg\n",
      "Duplicate image deleted: bcc affecting the nose images1560.jpg\n",
      "Duplicate image deleted: bcc affecting the nose images1561.jpg\n",
      "Duplicate image deleted: bcc affecting the nose images1562.jpg\n",
      "Duplicate image deleted: bcc affecting the nose images1563.jpg\n",
      "Duplicate image deleted: bcc affecting the nose images1564.jpg\n",
      "Duplicate image deleted: bcc affecting the nose images1565.jpg\n",
      "Duplicate image deleted: bcc affecting the nose images1566.jpg\n",
      "Duplicate image deleted: bcc affecting the nose images1567.jpg\n",
      "Duplicate image deleted: bcc affecting the nose images1568.jpg\n",
      "Duplicate image deleted: bcc affecting the nose images1569.jpg\n",
      "Duplicate image deleted: bcc affecting the trunk images1570.jpg\n",
      "Duplicate image deleted: bcc affecting the trunk images1571.jpg\n",
      "Duplicate image deleted: bcc affecting the trunk images1572.jpg\n",
      "Duplicate image deleted: bcc affecting the trunk images1573.jpg\n",
      "Duplicate image deleted: bcc affecting the trunk images1574.jpg\n",
      "Duplicate image deleted: bcc affecting the trunk images1575.jpg\n",
      "Duplicate image deleted: bcc affecting the trunk images1576.jpg\n",
      "Duplicate image deleted: bcc affecting the trunk images1577.jpg\n",
      "Duplicate image deleted: bcc affecting the trunk images1578.jpg\n",
      "Duplicate image deleted: bcc affecting the trunk images1579.jpg\n",
      "Duplicate image deleted: bcc affecting the trunk images1580.jpg\n",
      "Duplicate image deleted: bcc affecting the trunk images1581.png\n"
     ]
    },
    {
     "name": "stdout",
     "output_type": "stream",
     "text": [
      "Duplicate image deleted: bcc affecting the trunk images1582.jpg\n",
      "Duplicate image deleted: bcc affecting the trunk images1583.jpg\n",
      "Duplicate image deleted: bcc affecting the trunk images1584.jpg\n",
      "Duplicate image deleted: bcc affecting the trunk images1585.jpg\n",
      "Duplicate image deleted: bcc affecting the trunk images1586.jpg\n",
      "Duplicate image deleted: bcc affecting the trunk images1587.jpg\n",
      "Duplicate image deleted: bcc affecting the trunk images1588.jpg\n",
      "Duplicate image deleted: bcc affecting the trunk images1589.jpg\n",
      "Duplicate image deleted: bcc affecting the trunk images1590.jpg\n",
      "Duplicate image deleted: bcc affecting the trunk images1591.jpg\n",
      "Duplicate image deleted: bcc affecting the trunk images1592.jpg\n",
      "Duplicate image deleted: bcc affecting the trunk images1593.jpg\n",
      "Duplicate image deleted: bcc affecting the trunk images1594.jpg\n",
      "Duplicate image deleted: bcc affecting the trunk images1595.jpg\n",
      "Duplicate image deleted: bcc affecting the trunk images1596.jpg\n",
      "Duplicate image deleted: bcc affecting the trunk images1597.jpg\n",
      "Duplicate image deleted: bcc affecting the trunk images1598.jpg\n",
      "Duplicate image deleted: bcc affecting the trunk images1599.jpg\n",
      "Duplicate image deleted: bcc affecting the trunk images1600.jpg\n",
      "Duplicate image deleted: bcc affecting the trunk images1601.jpg\n",
      "Duplicate image deleted: bcc affecting the trunk images1602.jpg\n",
      "Duplicate image deleted: bcc affecting the trunk images1603.jpg\n",
      "Duplicate image deleted: bcc affecting the trunk images1604.jpg\n",
      "Duplicate image deleted: bcc affecting the trunk images1605.jpg\n",
      "Duplicate image deleted: bcc affecting the trunk images1606.jpg\n",
      "Duplicate image deleted: bcc affecting the trunk images1607.jpg\n",
      "Duplicate image deleted: bcc affecting the trunk images1608.jpg\n",
      "Duplicate image deleted: bcc affecting the trunk images1609.jpg\n",
      "Duplicate image deleted: bcc affecting the trunk images1610.jpg\n",
      "Duplicate image deleted: nodular basal cell carcinoma images8766.jpg\n",
      "Duplicate image deleted: nodular basal cell carcinoma images8811.jpg\n",
      "Duplicate image deleted: nodular basal cell carcinoma images8815.jpg\n",
      "Duplicate image deleted: nodular bcc images8700.jpg\n",
      "Duplicate image deleted: nodular bcc images8701.jpg\n",
      "Duplicate image deleted: nodular bcc images8702.jpg\n",
      "Duplicate image deleted: nodular bcc images8703.jpg\n",
      "Duplicate image deleted: nodular bcc images8704.jpg\n",
      "Duplicate image deleted: nodular bcc images8705.jpg\n",
      "Duplicate image deleted: nodular bcc images8706.jpg\n",
      "Duplicate image deleted: nodular bcc images8707.jpg\n",
      "Duplicate image deleted: nodular bcc images8708.jpg\n",
      "Duplicate image deleted: nodular bcc images8709.jpg\n",
      "Duplicate image deleted: nodular bcc images8710.jpg\n",
      "Duplicate image deleted: nodular bcc images8711.jpg\n",
      "Duplicate image deleted: nodular bcc images8712.jpg\n",
      "Duplicate image deleted: nodular bcc images8713.jpg\n",
      "Duplicate image deleted: nodular bcc images8714.jpg\n",
      "Duplicate image deleted: nodular bcc images8715.jpg\n",
      "Duplicate image deleted: nodular bcc images8716.jpg\n",
      "Duplicate image deleted: nodular bcc images8717.jpg\n",
      "Duplicate image deleted: nodular bcc images8718.jpg\n",
      "Duplicate image deleted: nodular bcc images8719.jpg\n",
      "Duplicate image deleted: nodular bcc images8720.jpg\n",
      "Duplicate image deleted: nodular bcc images8721.jpg\n",
      "Duplicate image deleted: nodular bcc images8722.jpg\n",
      "Duplicate image deleted: nodular bcc images8723.jpg\n",
      "Duplicate image deleted: nodular bcc images8724.jpg\n",
      "Duplicate image deleted: nodular bcc images8725.jpg\n",
      "Duplicate image deleted: nodular bcc images8726.jpg\n",
      "Duplicate image deleted: nodular bcc images8727.jpg\n",
      "Duplicate image deleted: nodular bcc images8728.jpg\n",
      "Duplicate image deleted: nodular bcc images8729.jpg\n",
      "Duplicate image deleted: nodular bcc images8730.jpg\n",
      "Duplicate image deleted: nodular bcc images8731.png\n",
      "Duplicate image deleted: nodular bcc images8732.jpg\n",
      "Duplicate image deleted: nodular bcc images8733.jpg\n",
      "Duplicate image deleted: nodular bcc images8734.jpg\n",
      "Duplicate image deleted: nodular bcc images8735.jpg\n",
      "Duplicate image deleted: nodular bcc images8736.jpg\n",
      "Duplicate image deleted: nodular bcc images8737.jpg\n",
      "Duplicate image deleted: nodular bcc images8738.jpg\n",
      "Duplicate image deleted: nodular bcc images8739.jpg\n",
      "Duplicate image deleted: nodular bcc images8740.png\n",
      "Duplicate image deleted: nodular bcc images8741.png\n",
      "Duplicate image deleted: nodular bcc images8742.jpg\n",
      "Duplicate image deleted: nodular bcc images8743.jpg\n",
      "Duplicate image deleted: nodular bcc images8744.jpg\n",
      "Duplicate image deleted: nodular bcc images8745.png\n",
      "Duplicate image deleted: nodular bcc images8746.jpg\n",
      "Duplicate image deleted: nodular bcc images8747.jpg\n",
      "Duplicate image deleted: nodular bcc images8748.jpg\n",
      "Duplicate image deleted: nodular bcc images8749.jpg\n",
      "Duplicate image deleted: nodular bcc images8750.jpg\n",
      "Duplicate image deleted: nodular bcc images8751.jpg\n",
      "Duplicate image deleted: nodular bcc images8752.jpg\n",
      "Duplicate image deleted: nodular bcc images8753.jpg\n",
      "Duplicate image deleted: nodular bcc images8754.jpg\n",
      "Duplicate image deleted: nodular bcc images8755.jpg\n",
      "Duplicate image deleted: nodular bcc images8756.jpg\n",
      "Duplicate image deleted: nodular bcc images8757.jpg\n",
      "Duplicate image deleted: nodular bcc images8758.jpg\n",
      "Duplicate image deleted: nodular bcc images8759.jpg\n"
     ]
    }
   ],
   "source": [
    "# drop duplicates from image folder and dataframe\n",
    "bcc_df = drop_duplicates('bcc_images', bcc_df)"
   ]
  },
  {
   "cell_type": "code",
   "execution_count": null,
   "metadata": {},
   "outputs": [
    {
     "name": "stdout",
     "output_type": "stream",
     "text": [
      "Number of bcc images after removing duplicated images: 217\n",
      "Shape of bcc dataframe: (217, 2)\n"
     ]
    }
   ],
   "source": [
    "# number of images and shape of dataframe after removing duplicates\n",
    "bcc_img = [image_name for image_name in os.listdir('bcc_images/')] \n",
    "print('Number of bcc images after removing duplicated images:', len(bcc_img))\n",
    "print(f'Shape of bcc dataframe: {bcc_df.shape}')"
   ]
  },
  {
   "cell_type": "code",
   "execution_count": null,
   "metadata": {},
   "outputs": [
    {
     "data": {
      "text/html": [
       "<div>\n",
       "<style scoped>\n",
       "    .dataframe tbody tr th:only-of-type {\n",
       "        vertical-align: middle;\n",
       "    }\n",
       "\n",
       "    .dataframe tbody tr th {\n",
       "        vertical-align: top;\n",
       "    }\n",
       "\n",
       "    .dataframe thead th {\n",
       "        text-align: right;\n",
       "    }\n",
       "</style>\n",
       "<table border=\"1\" class=\"dataframe\">\n",
       "  <thead>\n",
       "    <tr style=\"text-align: right;\">\n",
       "      <th></th>\n",
       "      <th>skin_disorder_name</th>\n",
       "      <th>images</th>\n",
       "    </tr>\n",
       "  </thead>\n",
       "  <tbody>\n",
       "    <tr>\n",
       "      <th>1927</th>\n",
       "      <td>basal cell carcinoma</td>\n",
       "      <td>https://dermnetnz.org/assets/Uploads/lesions/b...</td>\n",
       "    </tr>\n",
       "    <tr>\n",
       "      <th>1928</th>\n",
       "      <td>basal cell carcinoma</td>\n",
       "      <td>https://dermnetnz.org/assets/Uploads/lesions/b...</td>\n",
       "    </tr>\n",
       "    <tr>\n",
       "      <th>1929</th>\n",
       "      <td>basal cell carcinoma</td>\n",
       "      <td>https://dermnetnz.org/assets/Uploads/lesions/b...</td>\n",
       "    </tr>\n",
       "    <tr>\n",
       "      <th>1930</th>\n",
       "      <td>basal cell carcinoma</td>\n",
       "      <td>https://dermnetnz.org/assets/Uploads/lesions/b...</td>\n",
       "    </tr>\n",
       "  </tbody>\n",
       "</table>\n",
       "</div>"
      ],
      "text/plain": [
       "        skin_disorder_name                                             images\n",
       "1927  basal cell carcinoma  https://dermnetnz.org/assets/Uploads/lesions/b...\n",
       "1928  basal cell carcinoma  https://dermnetnz.org/assets/Uploads/lesions/b...\n",
       "1929  basal cell carcinoma  https://dermnetnz.org/assets/Uploads/lesions/b...\n",
       "1930  basal cell carcinoma  https://dermnetnz.org/assets/Uploads/lesions/b..."
      ]
     },
     "execution_count": 9,
     "metadata": {},
     "output_type": "execute_result"
    }
   ],
   "source": [
    "# rename the values of skin_disorder_name column to basal cell carcinoma\n",
    "bcc_df['skin_disorder_name'] = bcc_df['skin_disorder_name'].replace(bcc_df['skin_disorder_name'].unique(), 'basal cell carcinoma')\n",
    "bcc_df.head(4)"
   ]
  },
  {
   "cell_type": "markdown",
   "metadata": {},
   "source": [
    "#### ii.Cleaning Basal Cell Epithelioma"
   ]
  },
  {
   "cell_type": "code",
   "execution_count": null,
   "metadata": {},
   "outputs": [
    {
     "name": "stdout",
     "output_type": "stream",
     "text": [
      "(161, 2)\n"
     ]
    },
    {
     "data": {
      "text/html": [
       "<div>\n",
       "<style scoped>\n",
       "    .dataframe tbody tr th:only-of-type {\n",
       "        vertical-align: middle;\n",
       "    }\n",
       "\n",
       "    .dataframe tbody tr th {\n",
       "        vertical-align: top;\n",
       "    }\n",
       "\n",
       "    .dataframe thead th {\n",
       "        text-align: right;\n",
       "    }\n",
       "</style>\n",
       "<table border=\"1\" class=\"dataframe\">\n",
       "  <thead>\n",
       "    <tr style=\"text-align: right;\">\n",
       "      <th></th>\n",
       "      <th>skin_disorder_name</th>\n",
       "      <th>images</th>\n",
       "    </tr>\n",
       "  </thead>\n",
       "  <tbody>\n",
       "    <tr>\n",
       "      <th>2088</th>\n",
       "      <td>basal cell epithelioma affecting the ear images</td>\n",
       "      <td>https://dermnetnz.org/assets/Uploads/lesions/b...</td>\n",
       "    </tr>\n",
       "    <tr>\n",
       "      <th>2089</th>\n",
       "      <td>basal cell epithelioma affecting the ear images</td>\n",
       "      <td>https://dermnetnz.org/assets/Uploads/lesions/b...</td>\n",
       "    </tr>\n",
       "    <tr>\n",
       "      <th>2090</th>\n",
       "      <td>basal cell epithelioma affecting the ear images</td>\n",
       "      <td>https://dermnetnz.org/assets/Uploads/lesions/b...</td>\n",
       "    </tr>\n",
       "    <tr>\n",
       "      <th>2091</th>\n",
       "      <td>basal cell epithelioma affecting the ear images</td>\n",
       "      <td>https://dermnetnz.org/assets/Uploads/lesions/b...</td>\n",
       "    </tr>\n",
       "    <tr>\n",
       "      <th>2092</th>\n",
       "      <td>basal cell epithelioma affecting the ear images</td>\n",
       "      <td>https://dermnetnz.org/assets/Uploads/lesions/b...</td>\n",
       "    </tr>\n",
       "  </tbody>\n",
       "</table>\n",
       "</div>"
      ],
      "text/plain": [
       "                                   skin_disorder_name  \\\n",
       "2088  basal cell epithelioma affecting the ear images   \n",
       "2089  basal cell epithelioma affecting the ear images   \n",
       "2090  basal cell epithelioma affecting the ear images   \n",
       "2091  basal cell epithelioma affecting the ear images   \n",
       "2092  basal cell epithelioma affecting the ear images   \n",
       "\n",
       "                                                 images  \n",
       "2088  https://dermnetnz.org/assets/Uploads/lesions/b...  \n",
       "2089  https://dermnetnz.org/assets/Uploads/lesions/b...  \n",
       "2090  https://dermnetnz.org/assets/Uploads/lesions/b...  \n",
       "2091  https://dermnetnz.org/assets/Uploads/lesions/b...  \n",
       "2092  https://dermnetnz.org/assets/Uploads/lesions/b...  "
      ]
     },
     "execution_count": 10,
     "metadata": {},
     "output_type": "execute_result"
    }
   ],
   "source": [
    "# dataframe with bce(basal cell epithelioma) labels\n",
    "bce_df = image_df[image_df['skin_disorder_name'].str.contains('basal cell epithelioma')] \n",
    "print(bce_df.shape)\n",
    "bce_df.head()"
   ]
  },
  {
   "cell_type": "code",
   "execution_count": null,
   "metadata": {},
   "outputs": [
    {
     "name": "stdout",
     "output_type": "stream",
     "text": [
      "There are 161 bce images\n"
     ]
    }
   ],
   "source": [
    "# Getting the bce images file names\n",
    "bce_img = [image_name for image_name in os.listdir('Images/') if 'basal cell epithelioma' in image_name] \n",
    "\n",
    "# Creating a new folder with just bce images to make cleaning easier\n",
    "os.mkdir('bce_images/')\n",
    "for img in bce_img:\n",
    "    origin = os.path.join('Images/', img)\n",
    "    destination = os.path.join('bce_images/', img)\n",
    "    shutil.copy(origin, destination)\n",
    "    \n",
    "# Confirming that the number of bce images after moving them to a separate folder is still 161\n",
    "bce_img = [image_name for image_name in os.listdir('bce_images/')] \n",
    "print('There are', len(bce_img),'bce images')"
   ]
  },
  {
   "cell_type": "code",
   "execution_count": null,
   "metadata": {},
   "outputs": [
    {
     "name": "stdout",
     "output_type": "stream",
     "text": [
      "Duplicate image deleted: basal cell epithelioma affecting the face images2164.jpg\n"
     ]
    }
   ],
   "source": [
    "# drop duplicates from image folder and dataframe\n",
    "bce_df= drop_duplicates('bce_images', bce_df)"
   ]
  },
  {
   "cell_type": "code",
   "execution_count": null,
   "metadata": {},
   "outputs": [
    {
     "name": "stdout",
     "output_type": "stream",
     "text": [
      "Number of bce images after removing duplicated images: 160\n",
      "Shape of bce dataframe: (160, 2)\n"
     ]
    }
   ],
   "source": [
    "# number of images and shape of dataframe after removing duplicates\n",
    "bce_img = [image_name for image_name in os.listdir('bce_images/')] \n",
    "print('Number of bce images after removing duplicated images:', len(bce_img))\n",
    "print(f'Shape of bce dataframe: {bce_df.shape}')"
   ]
  },
  {
   "cell_type": "code",
   "execution_count": null,
   "metadata": {},
   "outputs": [
    {
     "data": {
      "text/html": [
       "<div>\n",
       "<style scoped>\n",
       "    .dataframe tbody tr th:only-of-type {\n",
       "        vertical-align: middle;\n",
       "    }\n",
       "\n",
       "    .dataframe tbody tr th {\n",
       "        vertical-align: top;\n",
       "    }\n",
       "\n",
       "    .dataframe thead th {\n",
       "        text-align: right;\n",
       "    }\n",
       "</style>\n",
       "<table border=\"1\" class=\"dataframe\">\n",
       "  <thead>\n",
       "    <tr style=\"text-align: right;\">\n",
       "      <th></th>\n",
       "      <th>skin_disorder_name</th>\n",
       "      <th>images</th>\n",
       "    </tr>\n",
       "  </thead>\n",
       "  <tbody>\n",
       "    <tr>\n",
       "      <th>2088</th>\n",
       "      <td>basal cell epithelioma</td>\n",
       "      <td>https://dermnetnz.org/assets/Uploads/lesions/b...</td>\n",
       "    </tr>\n",
       "    <tr>\n",
       "      <th>2089</th>\n",
       "      <td>basal cell epithelioma</td>\n",
       "      <td>https://dermnetnz.org/assets/Uploads/lesions/b...</td>\n",
       "    </tr>\n",
       "    <tr>\n",
       "      <th>2090</th>\n",
       "      <td>basal cell epithelioma</td>\n",
       "      <td>https://dermnetnz.org/assets/Uploads/lesions/b...</td>\n",
       "    </tr>\n",
       "    <tr>\n",
       "      <th>2091</th>\n",
       "      <td>basal cell epithelioma</td>\n",
       "      <td>https://dermnetnz.org/assets/Uploads/lesions/b...</td>\n",
       "    </tr>\n",
       "  </tbody>\n",
       "</table>\n",
       "</div>"
      ],
      "text/plain": [
       "          skin_disorder_name  \\\n",
       "2088  basal cell epithelioma   \n",
       "2089  basal cell epithelioma   \n",
       "2090  basal cell epithelioma   \n",
       "2091  basal cell epithelioma   \n",
       "\n",
       "                                                 images  \n",
       "2088  https://dermnetnz.org/assets/Uploads/lesions/b...  \n",
       "2089  https://dermnetnz.org/assets/Uploads/lesions/b...  \n",
       "2090  https://dermnetnz.org/assets/Uploads/lesions/b...  \n",
       "2091  https://dermnetnz.org/assets/Uploads/lesions/b...  "
      ]
     },
     "execution_count": 14,
     "metadata": {},
     "output_type": "execute_result"
    }
   ],
   "source": [
    "# rename the values of skin_disorder_name column to basal cell epithelioma\n",
    "bce_df['skin_disorder_name'] = bce_df['skin_disorder_name'].replace(bce_df['skin_disorder_name'].unique(), 'basal cell epithelioma')\n",
    "bce_df.head(4)"
   ]
  },
  {
   "cell_type": "markdown",
   "metadata": {},
   "source": [
    "### Actinic keratosis"
   ]
  },
  {
   "cell_type": "markdown",
   "metadata": {},
   "source": [
    "**Meaning** <br>\n",
    "Actinic keratosis(AK) is a skin condition that is caused by long-term exposure to UV rays, resulting in the formation of rough, scaly patches on the skin. It is considered a precancerous condition because it has the potential to develop into squamous cell carcinoma, a type of skin cancer\n",
    "\n",
    "**Causes** <br>\n",
    "The primary cause of actinic keratosis is long-term exposure to UV rays from the sun or other sources such as tanning beds. People with fair skin, light-colored hair, and light-colored eyes are at a higher risk of developing AK. Other risk factors include a history of frequent sunburns, a weakened immune system, and exposure to chemicals such as coal tar or arsenic.\n",
    "\n",
    "**Symptoms** <br>\n",
    "The most common symptom of actinic keratosis is the formation of rough, scaly patches or lesions on the skin. These patches can be pink, red, or brown in color and may feel like sandpaper. They are usually found on areas of the skin that are frequently exposed to the sun, such as the face, scalp, ears, neck, hands, and arms. In some cases, the patches may itch or burn, and they may become inflamed or bleed if they are scratched or rubbed.\n",
    "\n",
    "**Treatment** <br>\n",
    "The treatment of actinic keratosis depends on the severity of the condition. Mild cases may be treated with topical creams or gels that contain medications such as imiquimod, fluorouracil, or diclofenac. These medications work by stimulating the immune system or causing the abnormal cells to die off. In more severe cases, cryotherapy (freezing the lesions with liquid nitrogen) or curettage (scraping off the lesions with a special tool) may be necessary. In rare cases where the lesions have developed into skin cancer, surgical removal may be required. It is also important to take steps to prevent further damage to the skin, such as wearing protective clothing and sunscreen, avoiding tanning beds, and staying out of the sun during peak hours.\n"
   ]
  },
  {
   "cell_type": "code",
   "execution_count": null,
   "metadata": {},
   "outputs": [
    {
     "name": "stdout",
     "output_type": "stream",
     "text": [
      "['actinic keratosis affecting the face images'\n",
      " 'actinic keratosis affecting the hand images'\n",
      " 'actinic keratosis affecting the legs and feet images'\n",
      " 'actinic keratosis affecting the scalp images'\n",
      " 'actinic keratosis dermoscopy images'\n",
      " 'actinic keratosis on the nose images'\n",
      " 'actinic keratosis treated with imiquimod images'\n",
      " 'granular parakeratosis images' 'keratosis pilaris images'\n",
      " 'seborrhoeic keratosis dermoscopy images' 'seborrhoeic keratosis images'\n",
      " 'solar keratosis affecting the face images'\n",
      " 'solar keratosis affecting the hand images'\n",
      " 'solar keratosis affecting the legs and feet images'\n",
      " 'solar keratosis affecting the scalp images'\n",
      " 'solar keratosis on the nose images'\n",
      " 'solar keratosis treated with imiquimod images']\n"
     ]
    }
   ],
   "source": [
    "# image labels with the name keratosis\n",
    "print(image_df[image_df['skin_disorder_name'].str.contains('keratosis')]['skin_disorder_name'].unique())"
   ]
  },
  {
   "cell_type": "markdown",
   "metadata": {},
   "source": [
    "Actinic keratosis is also known as solar keratosis or senile keratosis"
   ]
  },
  {
   "cell_type": "code",
   "execution_count": null,
   "metadata": {},
   "outputs": [
    {
     "name": "stdout",
     "output_type": "stream",
     "text": [
      "(427, 2)\n"
     ]
    },
    {
     "data": {
      "text/html": [
       "<div>\n",
       "<style scoped>\n",
       "    .dataframe tbody tr th:only-of-type {\n",
       "        vertical-align: middle;\n",
       "    }\n",
       "\n",
       "    .dataframe tbody tr th {\n",
       "        vertical-align: top;\n",
       "    }\n",
       "\n",
       "    .dataframe thead th {\n",
       "        text-align: right;\n",
       "    }\n",
       "</style>\n",
       "<table border=\"1\" class=\"dataframe\">\n",
       "  <thead>\n",
       "    <tr style=\"text-align: right;\">\n",
       "      <th></th>\n",
       "      <th>skin_disorder_name</th>\n",
       "      <th>images</th>\n",
       "    </tr>\n",
       "  </thead>\n",
       "  <tbody>\n",
       "    <tr>\n",
       "      <th>504</th>\n",
       "      <td>actinic keratosis affecting the face images</td>\n",
       "      <td>https://dermnetnz.org/assets/Uploads/lesions/a...</td>\n",
       "    </tr>\n",
       "    <tr>\n",
       "      <th>505</th>\n",
       "      <td>actinic keratosis affecting the face images</td>\n",
       "      <td>https://dermnetnz.org/assets/Uploads/lesions/a...</td>\n",
       "    </tr>\n",
       "    <tr>\n",
       "      <th>506</th>\n",
       "      <td>actinic keratosis affecting the face images</td>\n",
       "      <td>https://dermnetnz.org/assets/Uploads/lesions/a...</td>\n",
       "    </tr>\n",
       "    <tr>\n",
       "      <th>507</th>\n",
       "      <td>actinic keratosis affecting the face images</td>\n",
       "      <td>https://dermnetnz.org/assets/Uploads/lesions/a...</td>\n",
       "    </tr>\n",
       "    <tr>\n",
       "      <th>508</th>\n",
       "      <td>actinic keratosis affecting the face images</td>\n",
       "      <td>https://dermnetnz.org/assets/Uploads/lesions/a...</td>\n",
       "    </tr>\n",
       "  </tbody>\n",
       "</table>\n",
       "</div>"
      ],
      "text/plain": [
       "                              skin_disorder_name  \\\n",
       "504  actinic keratosis affecting the face images   \n",
       "505  actinic keratosis affecting the face images   \n",
       "506  actinic keratosis affecting the face images   \n",
       "507  actinic keratosis affecting the face images   \n",
       "508  actinic keratosis affecting the face images   \n",
       "\n",
       "                                                images  \n",
       "504  https://dermnetnz.org/assets/Uploads/lesions/a...  \n",
       "505  https://dermnetnz.org/assets/Uploads/lesions/a...  \n",
       "506  https://dermnetnz.org/assets/Uploads/lesions/a...  \n",
       "507  https://dermnetnz.org/assets/Uploads/lesions/a...  \n",
       "508  https://dermnetnz.org/assets/Uploads/lesions/a...  "
      ]
     },
     "execution_count": 16,
     "metadata": {},
     "output_type": "execute_result"
    }
   ],
   "source": [
    "# dataframe with actinic keratosis and solar keratosis labels\n",
    "keratosis_df = image_df[(image_df['skin_disorder_name'].str.contains('actinic keratosis')) | \\\n",
    "                  (image_df['skin_disorder_name'].str.contains('solar keratosis'))]\n",
    "print(keratosis_df.shape)\n",
    "keratosis_df.head()"
   ]
  },
  {
   "cell_type": "code",
   "execution_count": null,
   "metadata": {},
   "outputs": [
    {
     "name": "stdout",
     "output_type": "stream",
     "text": [
      "There are 427 keratosis images\n"
     ]
    }
   ],
   "source": [
    "# Getting the keratosis images file names\n",
    "keratosis_img = [image_name for image_name in os.listdir('Images/') if ('actinic keratosis' in image_name) | ('solar keratosis' in image_name)] \n",
    "\n",
    "# Creating a new folder with just keratosis images to make cleaning easier\n",
    "os.mkdir('keratosis_images/')\n",
    "for img in keratosis_img:\n",
    "    origin = os.path.join('Images/', img)\n",
    "    destination = os.path.join('keratosis_images/', img)\n",
    "    shutil.copy(origin, destination)\n",
    "    \n",
    "# Confirming that the number of keratosis images after moving them to a separate folder is still 161\n",
    "keratosis_img = [image_name for image_name in os.listdir('keratosis_images/')] \n",
    "print('There are', len(keratosis_img),'keratosis images')"
   ]
  },
  {
   "cell_type": "code",
   "execution_count": null,
   "metadata": {},
   "outputs": [
    {
     "name": "stdout",
     "output_type": "stream",
     "text": [
      "Duplicate image deleted: solar keratosis affecting the face images12220.jpg\n",
      "Duplicate image deleted: solar keratosis affecting the face images12221.jpg\n",
      "Duplicate image deleted: solar keratosis affecting the face images12222.jpg\n",
      "Duplicate image deleted: solar keratosis affecting the face images12223.jpg\n",
      "Duplicate image deleted: solar keratosis affecting the face images12224.jpg\n",
      "Duplicate image deleted: solar keratosis affecting the face images12225.jpg\n",
      "Duplicate image deleted: solar keratosis affecting the face images12226.jpg\n",
      "Duplicate image deleted: solar keratosis affecting the face images12227.jpg\n",
      "Duplicate image deleted: solar keratosis affecting the face images12228.jpg\n",
      "Duplicate image deleted: solar keratosis affecting the face images12229.jpg\n",
      "Duplicate image deleted: solar keratosis affecting the face images12230.jpg\n",
      "Duplicate image deleted: solar keratosis affecting the face images12231.jpg\n",
      "Duplicate image deleted: solar keratosis affecting the face images12232.jpg\n",
      "Duplicate image deleted: solar keratosis affecting the face images12233.jpg\n",
      "Duplicate image deleted: solar keratosis affecting the face images12234.jpg\n",
      "Duplicate image deleted: solar keratosis affecting the face images12235.jpg\n",
      "Duplicate image deleted: solar keratosis affecting the face images12236.jpg\n",
      "Duplicate image deleted: solar keratosis affecting the face images12237.jpg\n",
      "Duplicate image deleted: solar keratosis affecting the face images12238.jpg\n",
      "Duplicate image deleted: solar keratosis affecting the face images12239.jpg\n",
      "Duplicate image deleted: solar keratosis affecting the face images12240.jpg\n",
      "Duplicate image deleted: solar keratosis affecting the face images12241.jpg\n",
      "Duplicate image deleted: solar keratosis affecting the face images12242.jpg\n",
      "Duplicate image deleted: solar keratosis affecting the face images12243.jpg\n",
      "Duplicate image deleted: solar keratosis affecting the face images12244.jpg\n",
      "Duplicate image deleted: solar keratosis affecting the face images12245.jpg\n",
      "Duplicate image deleted: solar keratosis affecting the face images12246.jpg\n",
      "Duplicate image deleted: solar keratosis affecting the face images12247.jpg\n",
      "Duplicate image deleted: solar keratosis affecting the face images12248.jpg\n",
      "Duplicate image deleted: solar keratosis affecting the face images12249.jpg\n",
      "Duplicate image deleted: solar keratosis affecting the face images12250.jpg\n",
      "Duplicate image deleted: solar keratosis affecting the face images12251.jpg\n",
      "Duplicate image deleted: solar keratosis affecting the face images12252.jpg\n",
      "Duplicate image deleted: solar keratosis affecting the face images12253.jpg\n",
      "Duplicate image deleted: solar keratosis affecting the face images12254.jpg\n",
      "Duplicate image deleted: solar keratosis affecting the face images12255.jpg\n",
      "Duplicate image deleted: solar keratosis affecting the face images12256.jpg\n",
      "Duplicate image deleted: solar keratosis affecting the face images12257.jpg\n",
      "Duplicate image deleted: solar keratosis affecting the face images12258.jpg\n",
      "Duplicate image deleted: solar keratosis affecting the face images12259.jpg\n",
      "Duplicate image deleted: solar keratosis affecting the face images12260.jpg\n",
      "Duplicate image deleted: solar keratosis affecting the face images12261.jpg\n",
      "Duplicate image deleted: solar keratosis affecting the face images12262.jpg\n",
      "Duplicate image deleted: solar keratosis affecting the face images12263.jpg\n",
      "Duplicate image deleted: solar keratosis affecting the face images12264.jpg\n",
      "Duplicate image deleted: solar keratosis affecting the face images12265.jpg\n",
      "Duplicate image deleted: solar keratosis affecting the face images12266.jpg\n",
      "Duplicate image deleted: solar keratosis affecting the face images12267.jpg\n",
      "Duplicate image deleted: solar keratosis affecting the face images12268.jpg\n",
      "Duplicate image deleted: solar keratosis affecting the face images12269.jpg\n",
      "Duplicate image deleted: solar keratosis affecting the face images12270.jpg\n",
      "Duplicate image deleted: solar keratosis affecting the face images12271.jpg\n",
      "Duplicate image deleted: solar keratosis affecting the face images12272.jpg\n",
      "Duplicate image deleted: solar keratosis affecting the face images12273.jpg\n",
      "Duplicate image deleted: solar keratosis affecting the face images12274.jpg\n",
      "Duplicate image deleted: solar keratosis affecting the face images12275.jpg\n",
      "Duplicate image deleted: solar keratosis affecting the face images12276.jpg\n",
      "Duplicate image deleted: solar keratosis affecting the face images12277.jpg\n",
      "Duplicate image deleted: solar keratosis affecting the face images12278.jpg\n",
      "Duplicate image deleted: solar keratosis affecting the face images12279.jpg\n",
      "Duplicate image deleted: solar keratosis affecting the face images12280.jpg\n",
      "Duplicate image deleted: solar keratosis affecting the face images12281.jpg\n",
      "Duplicate image deleted: solar keratosis affecting the face images12282.jpg\n",
      "Duplicate image deleted: solar keratosis affecting the face images12283.jpg\n",
      "Duplicate image deleted: solar keratosis affecting the hand images12284.jpg\n",
      "Duplicate image deleted: solar keratosis affecting the hand images12285.jpg\n",
      "Duplicate image deleted: solar keratosis affecting the hand images12286.jpg\n",
      "Duplicate image deleted: solar keratosis affecting the hand images12287.jpg\n",
      "Duplicate image deleted: solar keratosis affecting the hand images12288.jpg\n",
      "Duplicate image deleted: solar keratosis affecting the hand images12289.jpg\n",
      "Duplicate image deleted: solar keratosis affecting the hand images12290.jpg\n",
      "Duplicate image deleted: solar keratosis affecting the hand images12291.jpg\n",
      "Duplicate image deleted: solar keratosis affecting the hand images12292.jpg\n",
      "Duplicate image deleted: solar keratosis affecting the hand images12293.jpg\n",
      "Duplicate image deleted: solar keratosis affecting the hand images12294.jpg\n",
      "Duplicate image deleted: solar keratosis affecting the hand images12295.jpg\n",
      "Duplicate image deleted: solar keratosis affecting the hand images12296.jpg\n",
      "Duplicate image deleted: solar keratosis affecting the hand images12297.jpg\n",
      "Duplicate image deleted: solar keratosis affecting the hand images12298.jpg\n",
      "Duplicate image deleted: solar keratosis affecting the hand images12299.jpg\n",
      "Duplicate image deleted: solar keratosis affecting the hand images12300.jpg\n",
      "Duplicate image deleted: solar keratosis affecting the hand images12301.jpg\n",
      "Duplicate image deleted: solar keratosis affecting the hand images12302.jpg\n",
      "Duplicate image deleted: solar keratosis affecting the hand images12303.jpg\n",
      "Duplicate image deleted: solar keratosis affecting the hand images12304.jpg\n",
      "Duplicate image deleted: solar keratosis affecting the hand images12305.jpg\n",
      "Duplicate image deleted: solar keratosis affecting the hand images12306.jpg\n",
      "Duplicate image deleted: solar keratosis affecting the hand images12307.jpg\n",
      "Duplicate image deleted: solar keratosis affecting the hand images12308.jpg\n",
      "Duplicate image deleted: solar keratosis affecting the hand images12309.jpg\n",
      "Duplicate image deleted: solar keratosis affecting the hand images12310.jpg\n",
      "Duplicate image deleted: solar keratosis affecting the hand images12311.jpg\n",
      "Duplicate image deleted: solar keratosis affecting the hand images12312.jpg\n",
      "Duplicate image deleted: solar keratosis affecting the hand images12313.jpg\n",
      "Duplicate image deleted: solar keratosis affecting the hand images12314.jpg\n",
      "Duplicate image deleted: solar keratosis affecting the hand images12315.jpg\n",
      "Duplicate image deleted: solar keratosis affecting the hand images12316.jpg\n",
      "Duplicate image deleted: solar keratosis affecting the hand images12317.jpg\n",
      "Duplicate image deleted: solar keratosis affecting the hand images12318.jpg\n",
      "Duplicate image deleted: solar keratosis affecting the hand images12319.jpg\n",
      "Duplicate image deleted: solar keratosis affecting the hand images12320.jpg\n",
      "Duplicate image deleted: solar keratosis affecting the hand images12321.jpg\n",
      "Duplicate image deleted: solar keratosis affecting the hand images12322.jpg\n",
      "Duplicate image deleted: solar keratosis affecting the hand images12323.jpg\n",
      "Duplicate image deleted: solar keratosis affecting the legs and feet images12324.jpg\n",
      "Duplicate image deleted: solar keratosis affecting the legs and feet images12325.jpg\n",
      "Duplicate image deleted: solar keratosis affecting the legs and feet images12326.jpg\n",
      "Duplicate image deleted: solar keratosis affecting the legs and feet images12327.jpg\n",
      "Duplicate image deleted: solar keratosis affecting the legs and feet images12328.jpg\n",
      "Duplicate image deleted: solar keratosis affecting the legs and feet images12329.jpg\n"
     ]
    },
    {
     "name": "stdout",
     "output_type": "stream",
     "text": [
      "Duplicate image deleted: solar keratosis affecting the legs and feet images12330.jpg\n",
      "Duplicate image deleted: solar keratosis affecting the legs and feet images12331.jpg\n",
      "Duplicate image deleted: solar keratosis affecting the legs and feet images12332.jpg\n",
      "Duplicate image deleted: solar keratosis affecting the legs and feet images12333.jpg\n",
      "Duplicate image deleted: solar keratosis affecting the legs and feet images12334.jpg\n",
      "Duplicate image deleted: solar keratosis affecting the legs and feet images12335.jpg\n",
      "Duplicate image deleted: solar keratosis affecting the legs and feet images12336.jpg\n",
      "Duplicate image deleted: solar keratosis affecting the legs and feet images12337.jpg\n",
      "Duplicate image deleted: solar keratosis affecting the legs and feet images12338.jpg\n",
      "Duplicate image deleted: solar keratosis affecting the legs and feet images12339.jpg\n",
      "Duplicate image deleted: solar keratosis affecting the legs and feet images12340.jpg\n",
      "Duplicate image deleted: solar keratosis affecting the legs and feet images12341.jpg\n",
      "Duplicate image deleted: solar keratosis affecting the legs and feet images12342.jpg\n",
      "Duplicate image deleted: solar keratosis affecting the legs and feet images12343.jpg\n",
      "Duplicate image deleted: solar keratosis affecting the legs and feet images12344.jpg\n",
      "Duplicate image deleted: solar keratosis affecting the legs and feet images12345.jpg\n",
      "Duplicate image deleted: solar keratosis affecting the scalp images12346.jpg\n",
      "Duplicate image deleted: solar keratosis affecting the scalp images12347.jpg\n",
      "Duplicate image deleted: solar keratosis affecting the scalp images12348.jpg\n",
      "Duplicate image deleted: solar keratosis affecting the scalp images12349.jpg\n",
      "Duplicate image deleted: solar keratosis affecting the scalp images12350.jpg\n",
      "Duplicate image deleted: solar keratosis affecting the scalp images12351.jpg\n",
      "Duplicate image deleted: solar keratosis affecting the scalp images12352.jpg\n",
      "Duplicate image deleted: solar keratosis affecting the scalp images12353.jpg\n",
      "Duplicate image deleted: solar keratosis affecting the scalp images12354.jpg\n",
      "Duplicate image deleted: solar keratosis affecting the scalp images12355.jpg\n",
      "Duplicate image deleted: solar keratosis affecting the scalp images12356.jpg\n",
      "Duplicate image deleted: solar keratosis affecting the scalp images12357.jpg\n",
      "Duplicate image deleted: solar keratosis affecting the scalp images12358.jpg\n",
      "Duplicate image deleted: solar keratosis affecting the scalp images12359.jpg\n",
      "Duplicate image deleted: solar keratosis affecting the scalp images12360.jpg\n",
      "Duplicate image deleted: solar keratosis affecting the scalp images12361.jpg\n",
      "Duplicate image deleted: solar keratosis affecting the scalp images12362.jpg\n",
      "Duplicate image deleted: solar keratosis affecting the scalp images12363.jpg\n",
      "Duplicate image deleted: solar keratosis affecting the scalp images12364.jpg\n",
      "Duplicate image deleted: solar keratosis affecting the scalp images12365.jpg\n",
      "Duplicate image deleted: solar keratosis affecting the scalp images12366.jpg\n",
      "Duplicate image deleted: solar keratosis on the nose images12367.jpg\n",
      "Duplicate image deleted: solar keratosis on the nose images12368.jpg\n",
      "Duplicate image deleted: solar keratosis on the nose images12369.jpg\n",
      "Duplicate image deleted: solar keratosis on the nose images12370.jpg\n",
      "Duplicate image deleted: solar keratosis on the nose images12371.jpg\n",
      "Duplicate image deleted: solar keratosis treated with imiquimod images12372.jpg\n",
      "Duplicate image deleted: solar keratosis treated with imiquimod images12373.jpg\n",
      "Duplicate image deleted: solar keratosis treated with imiquimod images12374.jpg\n",
      "Duplicate image deleted: solar keratosis treated with imiquimod images12375.jpg\n",
      "Duplicate image deleted: solar keratosis treated with imiquimod images12376.jpg\n",
      "Duplicate image deleted: solar keratosis treated with imiquimod images12377.jpg\n",
      "Duplicate image deleted: solar keratosis treated with imiquimod images12378.jpg\n",
      "Duplicate image deleted: solar keratosis treated with imiquimod images12379.jpg\n",
      "Duplicate image deleted: solar keratosis treated with imiquimod images12380.jpg\n",
      "Duplicate image deleted: solar keratosis treated with imiquimod images12381.jpg\n",
      "Duplicate image deleted: solar keratosis treated with imiquimod images12382.jpg\n",
      "Duplicate image deleted: solar keratosis treated with imiquimod images12383.jpg\n",
      "Duplicate image deleted: solar keratosis treated with imiquimod images12384.jpg\n",
      "Duplicate image deleted: solar keratosis treated with imiquimod images12385.jpg\n",
      "Duplicate image deleted: solar keratosis treated with imiquimod images12386.jpg\n",
      "Duplicate image deleted: solar keratosis treated with imiquimod images12387.jpg\n",
      "Duplicate image deleted: solar keratosis treated with imiquimod images12388.jpg\n",
      "Duplicate image deleted: solar keratosis treated with imiquimod images12389.jpg\n",
      "Duplicate image deleted: solar keratosis treated with imiquimod images12390.jpg\n",
      "Duplicate image deleted: solar keratosis treated with imiquimod images12391.jpg\n",
      "Duplicate image deleted: solar keratosis treated with imiquimod images12392.jpg\n",
      "Duplicate image deleted: solar keratosis treated with imiquimod images12393.jpg\n",
      "Duplicate image deleted: solar keratosis treated with imiquimod images12394.jpg\n",
      "Duplicate image deleted: solar keratosis treated with imiquimod images12395.jpg\n",
      "Duplicate image deleted: solar keratosis treated with imiquimod images12396.jpg\n",
      "Duplicate image deleted: solar keratosis treated with imiquimod images12397.jpg\n",
      "Duplicate image deleted: solar keratosis treated with imiquimod images12398.jpg\n",
      "Duplicate image deleted: solar keratosis treated with imiquimod images12399.jpg\n",
      "Duplicate image deleted: solar keratosis treated with imiquimod images12400.jpg\n",
      "Duplicate image deleted: solar keratosis treated with imiquimod images12401.jpg\n",
      "Duplicate image deleted: solar keratosis treated with imiquimod images12402.jpg\n",
      "Duplicate image deleted: solar keratosis treated with imiquimod images12403.jpg\n",
      "Duplicate image deleted: solar keratosis treated with imiquimod images12404.jpg\n",
      "Duplicate image deleted: solar keratosis treated with imiquimod images12405.jpg\n",
      "Duplicate image deleted: solar keratosis treated with imiquimod images12406.jpg\n",
      "Duplicate image deleted: solar keratosis treated with imiquimod images12407.jpg\n",
      "Duplicate image deleted: solar keratosis treated with imiquimod images12408.jpg\n",
      "Duplicate image deleted: solar keratosis treated with imiquimod images12409.jpg\n",
      "Duplicate image deleted: solar keratosis treated with imiquimod images12410.jpg\n",
      "Duplicate image deleted: solar keratosis treated with imiquimod images12411.jpg\n",
      "Duplicate image deleted: solar keratosis treated with imiquimod images12412.jpg\n",
      "Duplicate image deleted: solar keratosis treated with imiquimod images12413.jpg\n",
      "Duplicate image deleted: solar keratosis treated with imiquimod images12414.jpg\n",
      "Duplicate image deleted: solar keratosis treated with imiquimod images12415.jpg\n",
      "Duplicate image deleted: solar keratosis treated with imiquimod images12416.jpg\n",
      "Duplicate image deleted: solar keratosis treated with imiquimod images12417.jpg\n",
      "Duplicate image deleted: solar keratosis treated with imiquimod images12418.jpg\n",
      "Duplicate image deleted: solar keratosis treated with imiquimod images12419.jpg\n",
      "Duplicate image deleted: solar keratosis treated with imiquimod images12420.jpg\n",
      "Duplicate image deleted: solar keratosis treated with imiquimod images12421.jpg\n",
      "Duplicate image deleted: solar keratosis treated with imiquimod images12422.jpg\n"
     ]
    }
   ],
   "source": [
    "# drop duplicates from image folder and dataframe\n",
    "keratosis_df= drop_duplicates('keratosis_images', keratosis_df)"
   ]
  },
  {
   "cell_type": "code",
   "execution_count": null,
   "metadata": {},
   "outputs": [
    {
     "name": "stdout",
     "output_type": "stream",
     "text": [
      "Number of keratosis images after removing duplicated images: 224\n",
      "Shape of keratosis dataframe: (224, 2)\n"
     ]
    }
   ],
   "source": [
    "# number of images and shape of dataframe after removing duplicates\n",
    "keratosis_img = [image_name for image_name in os.listdir('keratosis_images/')] \n",
    "print('Number of keratosis images after removing duplicated images:', len(keratosis_img))\n",
    "print(f'Shape of keratosis dataframe: {keratosis_df.shape}')"
   ]
  },
  {
   "cell_type": "code",
   "execution_count": null,
   "metadata": {},
   "outputs": [
    {
     "data": {
      "text/html": [
       "<div>\n",
       "<style scoped>\n",
       "    .dataframe tbody tr th:only-of-type {\n",
       "        vertical-align: middle;\n",
       "    }\n",
       "\n",
       "    .dataframe tbody tr th {\n",
       "        vertical-align: top;\n",
       "    }\n",
       "\n",
       "    .dataframe thead th {\n",
       "        text-align: right;\n",
       "    }\n",
       "</style>\n",
       "<table border=\"1\" class=\"dataframe\">\n",
       "  <thead>\n",
       "    <tr style=\"text-align: right;\">\n",
       "      <th></th>\n",
       "      <th>skin_disorder_name</th>\n",
       "      <th>images</th>\n",
       "    </tr>\n",
       "  </thead>\n",
       "  <tbody>\n",
       "    <tr>\n",
       "      <th>504</th>\n",
       "      <td>actinic keratosis</td>\n",
       "      <td>https://dermnetnz.org/assets/Uploads/lesions/a...</td>\n",
       "    </tr>\n",
       "    <tr>\n",
       "      <th>505</th>\n",
       "      <td>actinic keratosis</td>\n",
       "      <td>https://dermnetnz.org/assets/Uploads/lesions/a...</td>\n",
       "    </tr>\n",
       "    <tr>\n",
       "      <th>506</th>\n",
       "      <td>actinic keratosis</td>\n",
       "      <td>https://dermnetnz.org/assets/Uploads/lesions/a...</td>\n",
       "    </tr>\n",
       "    <tr>\n",
       "      <th>507</th>\n",
       "      <td>actinic keratosis</td>\n",
       "      <td>https://dermnetnz.org/assets/Uploads/lesions/a...</td>\n",
       "    </tr>\n",
       "  </tbody>\n",
       "</table>\n",
       "</div>"
      ],
      "text/plain": [
       "    skin_disorder_name                                             images\n",
       "504  actinic keratosis  https://dermnetnz.org/assets/Uploads/lesions/a...\n",
       "505  actinic keratosis  https://dermnetnz.org/assets/Uploads/lesions/a...\n",
       "506  actinic keratosis  https://dermnetnz.org/assets/Uploads/lesions/a...\n",
       "507  actinic keratosis  https://dermnetnz.org/assets/Uploads/lesions/a..."
      ]
     },
     "execution_count": 20,
     "metadata": {},
     "output_type": "execute_result"
    }
   ],
   "source": [
    "# rename the values of skin_disorder_name column to actinic keratosis\n",
    "keratosis_df['skin_disorder_name'] = keratosis_df['skin_disorder_name'].replace(keratosis_df['skin_disorder_name'].unique(), 'actinic keratosis')\n",
    "keratosis_df.head(4)"
   ]
  }
 ],
 "metadata": {
  "kernelspec": {
   "display_name": "learn-env",
   "language": "python",
   "name": "learn-env"
  },
  "language_info": {
   "codemirror_mode": {
    "name": "ipython",
    "version": 3
   },
   "file_extension": ".py",
   "mimetype": "text/x-python",
   "name": "python",
   "nbconvert_exporter": "python",
   "pygments_lexer": "ipython3",
   "version": "3.8.5"
  }
 },
 "nbformat": 4,
 "nbformat_minor": 2
}
