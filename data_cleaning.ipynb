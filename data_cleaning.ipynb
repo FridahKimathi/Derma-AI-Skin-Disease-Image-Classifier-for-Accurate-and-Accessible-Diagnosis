{
 "cells": [
  {
   "attachments": {},
   "cell_type": "markdown",
   "metadata": {},
   "source": [
    "**Data cleaning**"
   ]
  },
  {
   "cell_type": "code",
   "execution_count": 1,
   "metadata": {},
   "outputs": [],
   "source": [
    "import pandas as pd\n",
    "import shutil\n",
    "import os\n",
    "from PIL import Image\n",
    "import imagehash\n",
    "import re"
   ]
  },
  {
   "cell_type": "code",
   "execution_count": 2,
   "metadata": {},
   "outputs": [
    {
     "data": {
      "text/html": [
       "<div>\n",
       "<style scoped>\n",
       "    .dataframe tbody tr th:only-of-type {\n",
       "        vertical-align: middle;\n",
       "    }\n",
       "\n",
       "    .dataframe tbody tr th {\n",
       "        vertical-align: top;\n",
       "    }\n",
       "\n",
       "    .dataframe thead th {\n",
       "        text-align: right;\n",
       "    }\n",
       "</style>\n",
       "<table border=\"1\" class=\"dataframe\">\n",
       "  <thead>\n",
       "    <tr style=\"text-align: right;\">\n",
       "      <th></th>\n",
       "      <th>skin_disorder_name</th>\n",
       "      <th>images</th>\n",
       "    </tr>\n",
       "  </thead>\n",
       "  <tbody>\n",
       "    <tr>\n",
       "      <th>0</th>\n",
       "      <td>acne affecting the back images</td>\n",
       "      <td>https://dermnetnz.org/assets/Uploads/acne/acne...</td>\n",
       "    </tr>\n",
       "    <tr>\n",
       "      <th>1</th>\n",
       "      <td>acne affecting the back images</td>\n",
       "      <td>https://dermnetnz.org/assets/Uploads/acne/acne...</td>\n",
       "    </tr>\n",
       "    <tr>\n",
       "      <th>2</th>\n",
       "      <td>acne affecting the back images</td>\n",
       "      <td>https://dermnetnz.org/assets/Uploads/acne/acne...</td>\n",
       "    </tr>\n",
       "    <tr>\n",
       "      <th>3</th>\n",
       "      <td>acne affecting the back images</td>\n",
       "      <td>https://dermnetnz.org/assets/Uploads/acne/acne...</td>\n",
       "    </tr>\n",
       "    <tr>\n",
       "      <th>4</th>\n",
       "      <td>acne affecting the back images</td>\n",
       "      <td>https://dermnetnz.org/assets/Uploads/acne/acne...</td>\n",
       "    </tr>\n",
       "  </tbody>\n",
       "</table>\n",
       "</div>"
      ],
      "text/plain": [
       "               skin_disorder_name  \\\n",
       "0  acne affecting the back images   \n",
       "1  acne affecting the back images   \n",
       "2  acne affecting the back images   \n",
       "3  acne affecting the back images   \n",
       "4  acne affecting the back images   \n",
       "\n",
       "                                              images  \n",
       "0  https://dermnetnz.org/assets/Uploads/acne/acne...  \n",
       "1  https://dermnetnz.org/assets/Uploads/acne/acne...  \n",
       "2  https://dermnetnz.org/assets/Uploads/acne/acne...  \n",
       "3  https://dermnetnz.org/assets/Uploads/acne/acne...  \n",
       "4  https://dermnetnz.org/assets/Uploads/acne/acne...  "
      ]
     },
     "execution_count": 2,
     "metadata": {},
     "output_type": "execute_result"
    }
   ],
   "source": [
    "image_df = pd.read_csv('Data/data1-294.csv')\n",
    "image_df.head()"
   ]
  },
  {
   "attachments": {},
   "cell_type": "markdown",
   "metadata": {},
   "source": [
    "## **Cleaning  acne images**"
   ]
  },
  {
   "cell_type": "code",
   "execution_count": 3,
   "metadata": {},
   "outputs": [
    {
     "data": {
      "text/plain": [
       "array(['acne affecting the back images', 'acne affecting the face images',\n",
       "       'acne and other follicular disorder images', 'facial acne images',\n",
       "       'infantile acne images', 'steroid acne images'], dtype=object)"
      ]
     },
     "execution_count": 3,
     "metadata": {},
     "output_type": "execute_result"
    }
   ],
   "source": [
    "acne_labels = image_df[image_df['skin_disorder_name'].str.contains('acne')]['skin_disorder_name'].unique()\n",
    "acne_labels"
   ]
  },
  {
   "cell_type": "code",
   "execution_count": 4,
   "metadata": {},
   "outputs": [
    {
     "data": {
      "text/plain": [
       "6"
      ]
     },
     "execution_count": 4,
     "metadata": {},
     "output_type": "execute_result"
    }
   ],
   "source": [
    "# There are six labels representing acne\n",
    "len(acne_labels)"
   ]
  },
  {
   "cell_type": "code",
   "execution_count": 5,
   "metadata": {},
   "outputs": [
    {
     "name": "stdout",
     "output_type": "stream",
     "text": [
      "<class 'pandas.core.frame.DataFrame'>\n",
      "Int64Index: 718 entries, 0 to 12648\n",
      "Data columns (total 2 columns):\n",
      " #   Column              Non-Null Count  Dtype \n",
      "---  ------              --------------  ----- \n",
      " 0   skin_disorder_name  718 non-null    object\n",
      " 1   images              718 non-null    object\n",
      "dtypes: object(2)\n",
      "memory usage: 16.8+ KB\n"
     ]
    }
   ],
   "source": [
    "# Crating a dataframe with just acne labels for easier cleaning\n",
    "\n",
    "acne_df = image_df[(image_df['skin_disorder_name'] == acne_labels[0]) | \\\n",
    "                   (image_df['skin_disorder_name'] == acne_labels[1]) | \\\n",
    "                   (image_df['skin_disorder_name'] == acne_labels[2]) | \\\n",
    "                   (image_df['skin_disorder_name'] == acne_labels[3]) | \\\n",
    "                   (image_df['skin_disorder_name'] == acne_labels[4]) | \\\n",
    "                   (image_df['skin_disorder_name'] == acne_labels[5]) \n",
    "                 ]\n",
    "acne_df.info()"
   ]
  },
  {
   "attachments": {},
   "cell_type": "markdown",
   "metadata": {},
   "source": [
    "**extra acne images:**"
   ]
  },
  {
   "cell_type": "code",
   "execution_count": 6,
   "metadata": {},
   "outputs": [
    {
     "data": {
      "text/plain": [
       "['07Acne081101.jpg',\n",
       " '07Acne0811011 - Copy.jpg',\n",
       " '07Acne0811011.jpg',\n",
       " '07AcnePittedScars.jpg',\n",
       " '07AcnePittedScars1 - Copy.jpg',\n",
       " '07AcnePittedScars1.jpg',\n",
       " '07RosaceaFulFAce.jpg',\n",
       " '07RosaceaFulFAce1 - Copy.jpg',\n",
       " '07RosaceaFulFAce1.jpg',\n",
       " '07RosaceaOK0828063.jpg']"
      ]
     },
     "execution_count": 6,
     "metadata": {},
     "output_type": "execute_result"
    }
   ],
   "source": [
    "extra_acne = [image_name for image_name in os.listdir('extra_acne_images')]\n",
    "extra_acne[:10]"
   ]
  },
  {
   "cell_type": "code",
   "execution_count": 7,
   "metadata": {},
   "outputs": [
    {
     "data": {
      "text/html": [
       "<div>\n",
       "<style scoped>\n",
       "    .dataframe tbody tr th:only-of-type {\n",
       "        vertical-align: middle;\n",
       "    }\n",
       "\n",
       "    .dataframe tbody tr th {\n",
       "        vertical-align: top;\n",
       "    }\n",
       "\n",
       "    .dataframe thead th {\n",
       "        text-align: right;\n",
       "    }\n",
       "</style>\n",
       "<table border=\"1\" class=\"dataframe\">\n",
       "  <thead>\n",
       "    <tr style=\"text-align: right;\">\n",
       "      <th></th>\n",
       "      <th>skin_disorder_name</th>\n",
       "      <th>images</th>\n",
       "    </tr>\n",
       "  </thead>\n",
       "  <tbody>\n",
       "    <tr>\n",
       "      <th>0</th>\n",
       "      <td>acne</td>\n",
       "      <td>07Acne081101.jpg</td>\n",
       "    </tr>\n",
       "    <tr>\n",
       "      <th>1</th>\n",
       "      <td>acne</td>\n",
       "      <td>07Acne0811011 - Copy.jpg</td>\n",
       "    </tr>\n",
       "    <tr>\n",
       "      <th>2</th>\n",
       "      <td>acne</td>\n",
       "      <td>07Acne0811011.jpg</td>\n",
       "    </tr>\n",
       "    <tr>\n",
       "      <th>3</th>\n",
       "      <td>acne</td>\n",
       "      <td>07AcnePittedScars.jpg</td>\n",
       "    </tr>\n",
       "    <tr>\n",
       "      <th>4</th>\n",
       "      <td>acne</td>\n",
       "      <td>07AcnePittedScars1 - Copy.jpg</td>\n",
       "    </tr>\n",
       "  </tbody>\n",
       "</table>\n",
       "</div>"
      ],
      "text/plain": [
       "  skin_disorder_name                         images\n",
       "0               acne               07Acne081101.jpg\n",
       "1               acne       07Acne0811011 - Copy.jpg\n",
       "2               acne              07Acne0811011.jpg\n",
       "3               acne          07AcnePittedScars.jpg\n",
       "4               acne  07AcnePittedScars1 - Copy.jpg"
      ]
     },
     "execution_count": 7,
     "metadata": {},
     "output_type": "execute_result"
    }
   ],
   "source": [
    "#Creating a dataframe for the extra acne images\n",
    "label =['acne' for img in extra_acne]\n",
    "extra_acne_df = pd.DataFrame(extra_acne, label).reset_index()\n",
    "extra_acne_df.columns =['skin_disorder_name', 'images']\n",
    "extra_acne_df.head()"
   ]
  },
  {
   "attachments": {},
   "cell_type": "markdown",
   "metadata": {},
   "source": [
    "**Moving acne images to their own folder**"
   ]
  },
  {
   "cell_type": "code",
   "execution_count": 8,
   "metadata": {},
   "outputs": [
    {
     "name": "stdout",
     "output_type": "stream",
     "text": [
      "There are 718 acne images\n"
     ]
    },
    {
     "data": {
      "text/plain": [
       "['acne affecting the back images0.jpg',\n",
       " 'acne affecting the back images1.jpg',\n",
       " 'acne affecting the back images10.jpg',\n",
       " 'acne affecting the back images11.jpg',\n",
       " 'acne affecting the back images12.jpg',\n",
       " 'acne affecting the back images13.jpg',\n",
       " 'acne affecting the back images14.jpg',\n",
       " 'acne affecting the back images15.jpg',\n",
       " 'acne affecting the back images16.jpg',\n",
       " 'acne affecting the back images17.jpg']"
      ]
     },
     "execution_count": 8,
     "metadata": {},
     "output_type": "execute_result"
    }
   ],
   "source": [
    "# Getting the acne images file names\n",
    "acne_img = [image_name for image_name in os.listdir('Images/') if 'acne' in image_name] \n",
    "\n",
    "# Confirming the number of acne images before any cleaning\n",
    "print('There are', len(acne_img),'acne images')\n",
    "acne_img[:10]"
   ]
  },
  {
   "cell_type": "code",
   "execution_count": 9,
   "metadata": {},
   "outputs": [],
   "source": [
    "# Creating a new folder with just acne images to make cleaning easier\n",
    "\n",
    "os.mkdir('acne_images/')\n",
    "for img in acne_img:\n",
    "    origin = os.path.join('Images/', img)\n",
    "    destination = os.path.join('acne_images/', img)\n",
    "    shutil.copy(origin, destination)"
   ]
  },
  {
   "cell_type": "code",
   "execution_count": 10,
   "metadata": {},
   "outputs": [
    {
     "name": "stdout",
     "output_type": "stream",
     "text": [
      "There are 718 acne images\n"
     ]
    }
   ],
   "source": [
    "# Confirming that the number of acne images after moving them to a separate folder is still 718\n",
    "original_acne_img = [image_name for image_name in os.listdir('acne_images/')] \n",
    "print('There are', len(original_acne_img),'acne images')"
   ]
  },
  {
   "attachments": {},
   "cell_type": "markdown",
   "metadata": {},
   "source": [
    "**Dropping links from the 'images' column in the acne and replacing them with the image name**"
   ]
  },
  {
   "cell_type": "code",
   "execution_count": 11,
   "metadata": {},
   "outputs": [
    {
     "data": {
      "text/html": [
       "<div>\n",
       "<style scoped>\n",
       "    .dataframe tbody tr th:only-of-type {\n",
       "        vertical-align: middle;\n",
       "    }\n",
       "\n",
       "    .dataframe tbody tr th {\n",
       "        vertical-align: top;\n",
       "    }\n",
       "\n",
       "    .dataframe thead th {\n",
       "        text-align: right;\n",
       "    }\n",
       "</style>\n",
       "<table border=\"1\" class=\"dataframe\">\n",
       "  <thead>\n",
       "    <tr style=\"text-align: right;\">\n",
       "      <th></th>\n",
       "      <th>skin_disorder_name</th>\n",
       "      <th>images</th>\n",
       "    </tr>\n",
       "  </thead>\n",
       "  <tbody>\n",
       "    <tr>\n",
       "      <th>0</th>\n",
       "      <td>acne affecting the back images</td>\n",
       "      <td>acne affecting the back images0.jpg</td>\n",
       "    </tr>\n",
       "    <tr>\n",
       "      <th>1</th>\n",
       "      <td>acne affecting the back images</td>\n",
       "      <td>acne affecting the back images1.jpg</td>\n",
       "    </tr>\n",
       "    <tr>\n",
       "      <th>2</th>\n",
       "      <td>acne affecting the back images</td>\n",
       "      <td>acne affecting the back images10.jpg</td>\n",
       "    </tr>\n",
       "    <tr>\n",
       "      <th>3</th>\n",
       "      <td>acne affecting the back images</td>\n",
       "      <td>acne affecting the back images11.jpg</td>\n",
       "    </tr>\n",
       "    <tr>\n",
       "      <th>4</th>\n",
       "      <td>acne affecting the back images</td>\n",
       "      <td>acne affecting the back images12.jpg</td>\n",
       "    </tr>\n",
       "  </tbody>\n",
       "</table>\n",
       "</div>"
      ],
      "text/plain": [
       "               skin_disorder_name                                images\n",
       "0  acne affecting the back images   acne affecting the back images0.jpg\n",
       "1  acne affecting the back images   acne affecting the back images1.jpg\n",
       "2  acne affecting the back images  acne affecting the back images10.jpg\n",
       "3  acne affecting the back images  acne affecting the back images11.jpg\n",
       "4  acne affecting the back images  acne affecting the back images12.jpg"
      ]
     },
     "execution_count": 11,
     "metadata": {},
     "output_type": "execute_result"
    }
   ],
   "source": [
    "# So that the two dataframes can match, we dropped the image links in  acne_df \n",
    "# and replaced them with the image names\n",
    "\n",
    "acne_images = pd.DataFrame(acne_img, columns=['images'])\n",
    "acne_df = acne_df.copy()\n",
    "acne_df.drop('images', axis=1, inplace=True)\n",
    "acne_df['images'] = acne_images['images'].values\n",
    "acne_df.head()"
   ]
  },
  {
   "attachments": {},
   "cell_type": "markdown",
   "metadata": {},
   "source": [
    "**Joining the two dataframes**"
   ]
  },
  {
   "cell_type": "code",
   "execution_count": 16,
   "metadata": {},
   "outputs": [
    {
     "name": "stdout",
     "output_type": "stream",
     "text": [
      "<class 'pandas.core.frame.DataFrame'>\n",
      "RangeIndex: 2540 entries, 0 to 2539\n",
      "Data columns (total 2 columns):\n",
      " #   Column              Non-Null Count  Dtype \n",
      "---  ------              --------------  ----- \n",
      " 0   skin_disorder_name  2540 non-null   object\n",
      " 1   images              2540 non-null   object\n",
      "dtypes: object(2)\n",
      "memory usage: 39.8+ KB\n",
      "None\n"
     ]
    },
    {
     "data": {
      "text/html": [
       "<div>\n",
       "<style scoped>\n",
       "    .dataframe tbody tr th:only-of-type {\n",
       "        vertical-align: middle;\n",
       "    }\n",
       "\n",
       "    .dataframe tbody tr th {\n",
       "        vertical-align: top;\n",
       "    }\n",
       "\n",
       "    .dataframe thead th {\n",
       "        text-align: right;\n",
       "    }\n",
       "</style>\n",
       "<table border=\"1\" class=\"dataframe\">\n",
       "  <thead>\n",
       "    <tr style=\"text-align: right;\">\n",
       "      <th></th>\n",
       "      <th>skin_disorder_name</th>\n",
       "      <th>images</th>\n",
       "    </tr>\n",
       "  </thead>\n",
       "  <tbody>\n",
       "    <tr>\n",
       "      <th>0</th>\n",
       "      <td>acne affecting the back images</td>\n",
       "      <td>acne affecting the back images0.jpg</td>\n",
       "    </tr>\n",
       "    <tr>\n",
       "      <th>1</th>\n",
       "      <td>acne affecting the back images</td>\n",
       "      <td>acne affecting the back images1.jpg</td>\n",
       "    </tr>\n",
       "    <tr>\n",
       "      <th>2</th>\n",
       "      <td>acne affecting the back images</td>\n",
       "      <td>acne affecting the back images10.jpg</td>\n",
       "    </tr>\n",
       "    <tr>\n",
       "      <th>3</th>\n",
       "      <td>acne affecting the back images</td>\n",
       "      <td>acne affecting the back images11.jpg</td>\n",
       "    </tr>\n",
       "    <tr>\n",
       "      <th>4</th>\n",
       "      <td>acne affecting the back images</td>\n",
       "      <td>acne affecting the back images12.jpg</td>\n",
       "    </tr>\n",
       "    <tr>\n",
       "      <th>...</th>\n",
       "      <td>...</td>\n",
       "      <td>...</td>\n",
       "    </tr>\n",
       "    <tr>\n",
       "      <th>2535</th>\n",
       "      <td>acne</td>\n",
       "      <td>unnamed.jpg</td>\n",
       "    </tr>\n",
       "    <tr>\n",
       "      <th>2536</th>\n",
       "      <td>acne</td>\n",
       "      <td>uq3mypax59u51.png</td>\n",
       "    </tr>\n",
       "    <tr>\n",
       "      <th>2537</th>\n",
       "      <td>acne</td>\n",
       "      <td>What-Is-Adult-Acne.jpg</td>\n",
       "    </tr>\n",
       "    <tr>\n",
       "      <th>2538</th>\n",
       "      <td>acne</td>\n",
       "      <td>What-is-Cystic-Acne-and-Why-is-It-Caused (1).jpg</td>\n",
       "    </tr>\n",
       "    <tr>\n",
       "      <th>2539</th>\n",
       "      <td>acne</td>\n",
       "      <td>What-is-Cystic-Acne-and-Why-is-It-Caused.jpg</td>\n",
       "    </tr>\n",
       "  </tbody>\n",
       "</table>\n",
       "<p>2540 rows × 2 columns</p>\n",
       "</div>"
      ],
      "text/plain": [
       "                  skin_disorder_name  \\\n",
       "0     acne affecting the back images   \n",
       "1     acne affecting the back images   \n",
       "2     acne affecting the back images   \n",
       "3     acne affecting the back images   \n",
       "4     acne affecting the back images   \n",
       "...                              ...   \n",
       "2535                            acne   \n",
       "2536                            acne   \n",
       "2537                            acne   \n",
       "2538                            acne   \n",
       "2539                            acne   \n",
       "\n",
       "                                                images  \n",
       "0                  acne affecting the back images0.jpg  \n",
       "1                  acne affecting the back images1.jpg  \n",
       "2                 acne affecting the back images10.jpg  \n",
       "3                 acne affecting the back images11.jpg  \n",
       "4                 acne affecting the back images12.jpg  \n",
       "...                                                ...  \n",
       "2535                                       unnamed.jpg  \n",
       "2536                                 uq3mypax59u51.png  \n",
       "2537                            What-Is-Adult-Acne.jpg  \n",
       "2538  What-is-Cystic-Acne-and-Why-is-It-Caused (1).jpg  \n",
       "2539      What-is-Cystic-Acne-and-Why-is-It-Caused.jpg  \n",
       "\n",
       "[2540 rows x 2 columns]"
      ]
     },
     "execution_count": 16,
     "metadata": {},
     "output_type": "execute_result"
    }
   ],
   "source": [
    "# Creating a dataframe with all of the acne images\n",
    "\n",
    "acne_df_complete = pd.concat([acne_df, extra_acne_df], axis=0).reset_index()\n",
    "acne_df_complete.drop('index', axis=1, inplace=True)\n",
    "print(acne_df_complete.info())\n",
    "acne_df_complete.head()"
   ]
  },
  {
   "attachments": {},
   "cell_type": "markdown",
   "metadata": {},
   "source": [
    "**Combining the images into one folder**"
   ]
  },
  {
   "cell_type": "code",
   "execution_count": 17,
   "metadata": {},
   "outputs": [],
   "source": [
    "# This was done by moving the extra images into the acne folder\n",
    "for img in extra_acne:\n",
    "    origin = os.path.join('extra_acne_images/', img)\n",
    "    destination = os.path.join('acne_images/', img)\n",
    "    shutil.copy(origin, destination)"
   ]
  },
  {
   "cell_type": "code",
   "execution_count": 18,
   "metadata": {},
   "outputs": [
    {
     "name": "stdout",
     "output_type": "stream",
     "text": [
      "There are a total of 2540 acne images\n"
     ]
    }
   ],
   "source": [
    "# Confirming that the total acne images is 2540 before any cleaning\n",
    "\n",
    "acne_img = [image_name for image_name in os.listdir('acne_images/')] \n",
    "print('There are a total of', len(acne_img),'acne images')"
   ]
  },
  {
   "attachments": {},
   "cell_type": "markdown",
   "metadata": {},
   "source": [
    "**Removing duplicated images from the folder**"
   ]
  },
  {
   "cell_type": "code",
   "execution_count": 19,
   "metadata": {},
   "outputs": [],
   "source": [
    "# Define a threshold for image similarity\n",
    "threshold = 8\n",
    "\n",
    "\n",
    "# Define a dictionary to store the hash values and file paths of the images\n",
    "image_hashes = {}\n",
    "duplicated_images = []\n",
    "# Loop through all the image files in a directory\n",
    "for filename in os.listdir(\"acne_images\"):\n",
    "    # Load the image file\n",
    "    image = Image.open(os.path.join(\"acne_images\", filename))\n",
    "\n",
    "    # Compute the hash value of the image using the average hash algorithm\n",
    "    hash_value = imagehash.average_hash(image)\n",
    "\n",
    "    # Check if the hash value is already in the dictionary\n",
    "    if hash_value in image_hashes:\n",
    "        # If a similar hash value already exists, delete the duplicate image\n",
    "        duplicated_images.append(filename)\n",
    "        os.remove(os.path.join(\"acne_images\", filename))\n",
    "    else:\n",
    "        # Otherwise, add the hash value and file path to the dictionary\n",
    "        image_hashes[hash_value] = os.path.join(\"acne_images\", filename)"
   ]
  },
  {
   "cell_type": "code",
   "execution_count": 20,
   "metadata": {},
   "outputs": [
    {
     "name": "stdout",
     "output_type": "stream",
     "text": [
      "There are 2169 acne images after removing duplicated images\n"
     ]
    }
   ],
   "source": [
    "acne_img = [image_name for image_name in os.listdir('acne_images/')] \n",
    "print('There are', len(acne_img),'acne images after removing duplicated images')"
   ]
  },
  {
   "cell_type": "code",
   "execution_count": 21,
   "metadata": {},
   "outputs": [
    {
     "data": {
      "text/plain": [
       "[369, 377, 394, 430, 448, 449, 450, 451, 452, 453]"
      ]
     },
     "execution_count": 21,
     "metadata": {},
     "output_type": "execute_result"
    }
   ],
   "source": [
    "# Getting the indexes of the duplicated images so that they can be dropped from the acne_df_complete too.\n",
    "\n",
    "duplicated_indexes = [acne_df_complete[acne_df_complete['images'] == image_name].index[0] \\\n",
    "                      for image_name in acne_df_complete['images']\\\n",
    "                      if image_name in duplicated_images]\n",
    "duplicated_indexes[:10]"
   ]
  },
  {
   "cell_type": "code",
   "execution_count": 22,
   "metadata": {},
   "outputs": [
    {
     "name": "stdout",
     "output_type": "stream",
     "text": [
      "<class 'pandas.core.frame.DataFrame'>\n",
      "Int64Index: 2169 entries, 0 to 2538\n",
      "Data columns (total 2 columns):\n",
      " #   Column              Non-Null Count  Dtype \n",
      "---  ------              --------------  ----- \n",
      " 0   skin_disorder_name  2169 non-null   object\n",
      " 1   images              2169 non-null   object\n",
      "dtypes: object(2)\n",
      "memory usage: 50.8+ KB\n"
     ]
    }
   ],
   "source": [
    "# Dropping duplicated images from the dataframe.\n",
    "acne_df_complete = acne_df_complete.copy()\n",
    "acne_df_complete.drop(index=duplicated_indexes, inplace=True)\n",
    "acne_df_complete.info()"
   ]
  },
  {
   "attachments": {},
   "cell_type": "markdown",
   "metadata": {},
   "source": [
    "Acne affecting the back images, Acne affecting the face images all have correct images. The Only change that will be made is changing the name to acne. </br>\n",
    "Acne and other follicular disorder images has a collection of different images. Only images that have acne as a specific label will be included, the others will be dropped from the dataset. </br>\n",
    "***\n",
    "***Dealing with the collection of different images in Acne and other follicular disorder images***</br>\n",
    "After careful evaluation of the images, the images that represent acne are:</br>\n",
    ">>> ***[299, 301, 302, 305, 306, 312, 324, 327, 331, 332, 334, 335, 336,</br>, 340, 352, 353, 356, 357, 358, 360, 365, 370, 379, 383, 386, 391, </br>, 394, 399, 400, 401, 404, 406, 407, 410, 410, 412, 414, 418, 435, </br> 439, 440, 442]***"
   ]
  },
  {
   "cell_type": "code",
   "execution_count": 23,
   "metadata": {},
   "outputs": [],
   "source": [
    "# Note 📝: The indexes were confirmed to be the same even after merging the two dataframes\n",
    "        #: This is because the acne_df is at the top in the complete dataframe\n",
    "\n",
    "# indexes of the images in 'acne and other follicular disorder images'\n",
    "indexes = acne_df[acne_df['skin_disorder_name'] == 'acne and other follicular disorder images'].index\n",
    "\n",
    "# indexes of the acne images in 'acne and other follicular disorder images'\n",
    "acne_indexes = [299, 301, 302, 305, 306, 312, 324, 327, 331, 332, 334, 335, 336,\n",
    "                340, 352, 353, 356, 357, 358, 360, 365, 370, 379, 383, 386, 391,\n",
    "                394, 399, 400, 401, 404, 406, 407, 410, 410, 412, 414, 418, 435,\n",
    "                439, 440, 442]\n",
    "\n",
    "# indexes of the other follicular disorder images in 'acne and other follicular disorder images'. This indexes will be dropped.\n",
    "to_drop = []\n",
    "\n",
    "for index in  indexes:\n",
    "    if (index not in acne_indexes) and (index not in duplicated_indexes):\n",
    "        to_drop.append(index)\n",
    "\n",
    "# dropping indexes in to_drop\n",
    "acne_df_complete.drop(to_drop, axis = 0, inplace=True)"
   ]
  },
  {
   "cell_type": "code",
   "execution_count": 24,
   "metadata": {},
   "outputs": [
    {
     "data": {
      "text/plain": [
       "(2060, 2)"
      ]
     },
     "execution_count": 24,
     "metadata": {},
     "output_type": "execute_result"
    }
   ],
   "source": [
    "# After dropping non-acne images, we still have 328 images left\n",
    "acne_df_complete.shape"
   ]
  },
  {
   "cell_type": "code",
   "execution_count": 25,
   "metadata": {},
   "outputs": [
    {
     "name": "stdout",
     "output_type": "stream",
     "text": [
      "There are 2060 acne images left.\n"
     ]
    }
   ],
   "source": [
    "# dropping those images from the acne_images folder\n",
    "\n",
    "# Finding the image file names to be dropped from the folder\n",
    "img_to_drop = []\n",
    "\n",
    "for index in to_drop:\n",
    "    for img_name in original_acne_img:\n",
    "        if str(index) in img_name:\n",
    "            img_to_drop.append(img_name)\n",
    "\n",
    "# Dropping those images form the acne_images folder\n",
    "for filename in img_to_drop:\n",
    "    os.remove(os.path.join(\"acne_images\", filename))\n",
    "\n",
    "# Confirming that the number of images left is 328\n",
    "acne_img = [image_name for image_name in os.listdir('acne_images/')] \n",
    "print('There are', len(acne_img),'acne images left.')"
   ]
  },
  {
   "attachments": {},
   "cell_type": "markdown",
   "metadata": {},
   "source": [
    "**Changing the label to just acne**"
   ]
  },
  {
   "cell_type": "code",
   "execution_count": 26,
   "metadata": {},
   "outputs": [
    {
     "data": {
      "text/html": [
       "<div>\n",
       "<style scoped>\n",
       "    .dataframe tbody tr th:only-of-type {\n",
       "        vertical-align: middle;\n",
       "    }\n",
       "\n",
       "    .dataframe tbody tr th {\n",
       "        vertical-align: top;\n",
       "    }\n",
       "\n",
       "    .dataframe thead th {\n",
       "        text-align: right;\n",
       "    }\n",
       "</style>\n",
       "<table border=\"1\" class=\"dataframe\">\n",
       "  <thead>\n",
       "    <tr style=\"text-align: right;\">\n",
       "      <th></th>\n",
       "      <th>skin_disorder_name</th>\n",
       "      <th>images</th>\n",
       "    </tr>\n",
       "  </thead>\n",
       "  <tbody>\n",
       "    <tr>\n",
       "      <th>0</th>\n",
       "      <td>acne</td>\n",
       "      <td>acne affecting the back images0.jpg</td>\n",
       "    </tr>\n",
       "    <tr>\n",
       "      <th>1</th>\n",
       "      <td>acne</td>\n",
       "      <td>acne affecting the back images1.jpg</td>\n",
       "    </tr>\n",
       "    <tr>\n",
       "      <th>2</th>\n",
       "      <td>acne</td>\n",
       "      <td>acne affecting the back images10.jpg</td>\n",
       "    </tr>\n",
       "    <tr>\n",
       "      <th>3</th>\n",
       "      <td>acne</td>\n",
       "      <td>acne affecting the back images11.jpg</td>\n",
       "    </tr>\n",
       "    <tr>\n",
       "      <th>4</th>\n",
       "      <td>acne</td>\n",
       "      <td>acne affecting the back images12.jpg</td>\n",
       "    </tr>\n",
       "    <tr>\n",
       "      <th>...</th>\n",
       "      <td>...</td>\n",
       "      <td>...</td>\n",
       "    </tr>\n",
       "    <tr>\n",
       "      <th>2533</th>\n",
       "      <td>acne</td>\n",
       "      <td>uaxnc5tsay351.jpg</td>\n",
       "    </tr>\n",
       "    <tr>\n",
       "      <th>2534</th>\n",
       "      <td>acne</td>\n",
       "      <td>unnamed (1).jpg</td>\n",
       "    </tr>\n",
       "    <tr>\n",
       "      <th>2536</th>\n",
       "      <td>acne</td>\n",
       "      <td>uq3mypax59u51.png</td>\n",
       "    </tr>\n",
       "    <tr>\n",
       "      <th>2537</th>\n",
       "      <td>acne</td>\n",
       "      <td>What-Is-Adult-Acne.jpg</td>\n",
       "    </tr>\n",
       "    <tr>\n",
       "      <th>2538</th>\n",
       "      <td>acne</td>\n",
       "      <td>What-is-Cystic-Acne-and-Why-is-It-Caused (1).jpg</td>\n",
       "    </tr>\n",
       "  </tbody>\n",
       "</table>\n",
       "<p>2060 rows × 2 columns</p>\n",
       "</div>"
      ],
      "text/plain": [
       "     skin_disorder_name                                            images\n",
       "0                  acne               acne affecting the back images0.jpg\n",
       "1                  acne               acne affecting the back images1.jpg\n",
       "2                  acne              acne affecting the back images10.jpg\n",
       "3                  acne              acne affecting the back images11.jpg\n",
       "4                  acne              acne affecting the back images12.jpg\n",
       "...                 ...                                               ...\n",
       "2533               acne                                 uaxnc5tsay351.jpg\n",
       "2534               acne                                   unnamed (1).jpg\n",
       "2536               acne                                 uq3mypax59u51.png\n",
       "2537               acne                            What-Is-Adult-Acne.jpg\n",
       "2538               acne  What-is-Cystic-Acne-and-Why-is-It-Caused (1).jpg\n",
       "\n",
       "[2060 rows x 2 columns]"
      ]
     },
     "execution_count": 26,
     "metadata": {},
     "output_type": "execute_result"
    }
   ],
   "source": [
    "acne_df_complete['skin_disorder_name'] = 'acne'\n",
    "acne_df_complete"
   ]
  },
  {
   "attachments": {},
   "cell_type": "markdown",
   "metadata": {},
   "source": [
    "## **Cleaning  Eczema images**"
   ]
  },
  {
   "cell_type": "code",
   "execution_count": 31,
   "metadata": {},
   "outputs": [
    {
     "data": {
      "text/plain": [
       "8"
      ]
     },
     "execution_count": 31,
     "metadata": {},
     "output_type": "execute_result"
    }
   ],
   "source": [
    "eczema_labels = image_df[(image_df['skin_disorder_name'].str.contains('eczema')) | \\\n",
    "                         (image_df['skin_disorder_name'].str.contains('atopic dermatitis images')) |\\\n",
    "                         (image_df['skin_disorder_name'].str.contains('hand dermatitis images')) |\\\n",
    "                         (image_df['skin_disorder_name'] == 'dermatitis images') |\\\n",
    "                         (image_df['skin_disorder_name'].str.contains('nummular dermatitis images'))] \\\n",
    "                         ['skin_disorder_name'].unique()\n",
    "len(eczema_labels)"
   ]
  },
  {
   "cell_type": "code",
   "execution_count": 32,
   "metadata": {},
   "outputs": [
    {
     "name": "stdout",
     "output_type": "stream",
     "text": [
      "<class 'pandas.core.frame.DataFrame'>\n",
      "Int64Index: 631 entries, 1058 to 8989\n",
      "Data columns (total 2 columns):\n",
      " #   Column              Non-Null Count  Dtype \n",
      "---  ------              --------------  ----- \n",
      " 0   skin_disorder_name  631 non-null    object\n",
      " 1   images              631 non-null    object\n",
      "dtypes: object(2)\n",
      "memory usage: 14.8+ KB\n"
     ]
    }
   ],
   "source": [
    "# Crating a dataframe with just eczema labels for easier cleaning\n",
    "\n",
    "eczema_df = image_df[(image_df['skin_disorder_name'] == eczema_labels[0]) | \\\n",
    "                     (image_df['skin_disorder_name'] == eczema_labels[1]) | \\\n",
    "                     (image_df['skin_disorder_name'] == eczema_labels[2]) | \\\n",
    "                     (image_df['skin_disorder_name'] == eczema_labels[3]) | \\\n",
    "                     (image_df['skin_disorder_name'] == eczema_labels[4]) | \\\n",
    "                     (image_df['skin_disorder_name'] == eczema_labels[5]) | \\\n",
    "                     (image_df['skin_disorder_name'] == eczema_labels[6]) | \\\n",
    "                     (image_df['skin_disorder_name'] == eczema_labels[7]) \n",
    "                 ]\n",
    "eczema_df.info()"
   ]
  },
  {
   "attachments": {},
   "cell_type": "markdown",
   "metadata": {},
   "source": [
    "**i. Moving eczema images to their own folder**"
   ]
  },
  {
   "cell_type": "code",
   "execution_count": 33,
   "metadata": {},
   "outputs": [
    {
     "name": "stdout",
     "output_type": "stream",
     "text": [
      "There are 631 eczema images\n"
     ]
    },
    {
     "data": {
      "text/plain": [
       "['atopic dermatitis images1058.jpg',\n",
       " 'atopic dermatitis images1059.jpg',\n",
       " 'atopic dermatitis images1060.jpg',\n",
       " 'atopic dermatitis images1061.jpg',\n",
       " 'atopic dermatitis images1062.jpg',\n",
       " 'atopic dermatitis images1063.jpg',\n",
       " 'atopic dermatitis images1064.jpg',\n",
       " 'atopic dermatitis images1065.jpg',\n",
       " 'atopic dermatitis images1066.jpg',\n",
       " 'atopic dermatitis images1067.jpg']"
      ]
     },
     "execution_count": 33,
     "metadata": {},
     "output_type": "execute_result"
    }
   ],
   "source": [
    "# Getting the eczema images file names\n",
    "eczema_img = [image_name for image_name in os.listdir('Images/') if ('eczema' in image_name) |\n",
    "                                                                    ('atopic dermatitis images' in image_name) |\n",
    "                                                                    ('hand dermatitis images' in image_name) | \n",
    "                                                                    (image_name.startswith('dermatitis images'))|\n",
    "                                                                    ('nummular dermatitis images' in image_name)\n",
    "                                                                     ] \n",
    "\n",
    "# Confirming the number of eczema images before any cleaning\n",
    "print('There are', len(eczema_img),'eczema images')\n",
    "eczema_img[:10]"
   ]
  },
  {
   "cell_type": "code",
   "execution_count": 35,
   "metadata": {},
   "outputs": [],
   "source": [
    "# Creating a new folder with just eczema images to make cleaning easier\n",
    "\n",
    "os.mkdir('eczema_images/')\n",
    "for img in eczema_img:\n",
    "    origin = os.path.join('Images/', img)\n",
    "    destination = os.path.join('eczema_images/', img)\n",
    "    shutil.copy(origin, destination)"
   ]
  },
  {
   "cell_type": "code",
   "execution_count": 36,
   "metadata": {},
   "outputs": [
    {
     "name": "stdout",
     "output_type": "stream",
     "text": [
      "There are 631  eczema images\n"
     ]
    }
   ],
   "source": [
    "# Confirming that the number of eczema images after moving them to a separate folder is still 631\n",
    "eczema_img = [image_name for image_name in os.listdir('eczema_images/')] \n",
    "print('There are', len(eczema_img),' eczema images')"
   ]
  },
  {
   "attachments": {},
   "cell_type": "markdown",
   "metadata": {},
   "source": [
    "**ii. Removing duplicated images from the folder**"
   ]
  },
  {
   "cell_type": "code",
   "execution_count": 37,
   "metadata": {},
   "outputs": [],
   "source": [
    "# Define a threshold for image similarity\n",
    "threshold = 8\n",
    "\n",
    "\n",
    "# Define a dictionary to store the hash values and file paths of the images\n",
    "image_hashes = {}\n",
    "duplicated_images = []\n",
    "# Loop through all the image files in a directory\n",
    "for filename in os.listdir(\"eczema_images\"):\n",
    "    # Load the image file\n",
    "    image = Image.open(os.path.join(\"eczema_images\", filename))\n",
    "\n",
    "    # Compute the hash value of the image using the average hash algorithm\n",
    "    hash_value = imagehash.average_hash(image)\n",
    "\n",
    "    # Check if the hash value is already in the dictionary\n",
    "    if hash_value in image_hashes:\n",
    "        # If a similar hash value already exists, delete the duplicate image\n",
    "        duplicated_images.append(filename)\n",
    "        os.remove(os.path.join(\"eczema_images\", filename))\n",
    "    else:\n",
    "        # Otherwise, add the hash value and file path to the dictionary\n",
    "        image_hashes[hash_value] = os.path.join(\"eczema_images\", filename)"
   ]
  },
  {
   "cell_type": "code",
   "execution_count": 38,
   "metadata": {},
   "outputs": [
    {
     "name": "stdout",
     "output_type": "stream",
     "text": [
      "There are 314 eczema images after removing duplicated images\n"
     ]
    }
   ],
   "source": [
    "eczema_img = [image_name for image_name in os.listdir('eczema_images/')] \n",
    "print('There are', len(eczema_img),'eczema images after removing duplicated images')"
   ]
  },
  {
   "cell_type": "code",
   "execution_count": 39,
   "metadata": {},
   "outputs": [
    {
     "data": {
      "text/plain": [
       "[1147, 1148, 1149, 1150, 1151, 1152, 1153, 1154, 1155, 1156]"
      ]
     },
     "execution_count": 39,
     "metadata": {},
     "output_type": "execute_result"
    }
   ],
   "source": [
    "# Getting the indexes of the duplicated images so that they can be dropped from the eczema_df too.\n",
    "duplicated_indexes = []\n",
    "for img_name in duplicated_images:\n",
    "    match = re.search(r'\\d+', img_name)\n",
    "    if match:\n",
    "        number = match.group()\n",
    "        duplicated_indexes.append(int(number))\n",
    "duplicated_indexes[:10]"
   ]
  },
  {
   "cell_type": "code",
   "execution_count": 40,
   "metadata": {},
   "outputs": [
    {
     "name": "stdout",
     "output_type": "stream",
     "text": [
      "<class 'pandas.core.frame.DataFrame'>\n",
      "Int64Index: 314 entries, 1058 to 5964\n",
      "Data columns (total 2 columns):\n",
      " #   Column              Non-Null Count  Dtype \n",
      "---  ------              --------------  ----- \n",
      " 0   skin_disorder_name  314 non-null    object\n",
      " 1   images              314 non-null    object\n",
      "dtypes: object(2)\n",
      "memory usage: 7.4+ KB\n"
     ]
    }
   ],
   "source": [
    "# Dropping duplicated images from the dataframe.\n",
    "eczema_df = eczema_df.copy()\n",
    "eczema_df.drop(duplicated_indexes, axis=0, inplace=True)\n",
    "eczema_df.info()"
   ]
  }
 ],
 "metadata": {
  "kernelspec": {
   "display_name": "learn-env",
   "language": "python",
   "name": "learn-env"
  },
  "language_info": {
   "codemirror_mode": {
    "name": "ipython",
    "version": 3
   },
   "file_extension": ".py",
   "mimetype": "text/x-python",
   "name": "python",
   "nbconvert_exporter": "python",
   "pygments_lexer": "ipython3",
   "version": "3.8.5"
  },
  "orig_nbformat": 4
 },
 "nbformat": 4,
 "nbformat_minor": 2
}
