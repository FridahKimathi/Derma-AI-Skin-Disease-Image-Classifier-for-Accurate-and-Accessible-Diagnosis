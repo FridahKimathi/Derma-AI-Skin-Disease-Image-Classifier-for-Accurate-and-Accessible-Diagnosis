{
 "cells": [
  {
   "cell_type": "markdown",
   "metadata": {},
   "source": [
    "# Data cleaning"
   ]
  },
  {
   "cell_type": "markdown",
   "metadata": {},
   "source": [
    "**import required libraries**"
   ]
  },
  {
   "cell_type": "code",
   "execution_count": 1,
   "metadata": {},
   "outputs": [],
   "source": [
    "# import required libraries\n",
    "import pandas as pd\n",
    "import shutil\n",
    "import os\n",
    "from PIL import Image\n",
    "import imagehash \n",
    "import re"
   ]
  },
  {
   "cell_type": "markdown",
   "metadata": {},
   "source": [
    "**Loading the scrapped data from DermNet.**"
   ]
  },
  {
   "cell_type": "code",
   "execution_count": 2,
   "metadata": {},
   "outputs": [
    {
     "name": "stdout",
     "output_type": "stream",
     "text": [
      "(13992, 2)\n"
     ]
    },
    {
     "data": {
      "text/html": [
       "<div>\n",
       "<style scoped>\n",
       "    .dataframe tbody tr th:only-of-type {\n",
       "        vertical-align: middle;\n",
       "    }\n",
       "\n",
       "    .dataframe tbody tr th {\n",
       "        vertical-align: top;\n",
       "    }\n",
       "\n",
       "    .dataframe thead th {\n",
       "        text-align: right;\n",
       "    }\n",
       "</style>\n",
       "<table border=\"1\" class=\"dataframe\">\n",
       "  <thead>\n",
       "    <tr style=\"text-align: right;\">\n",
       "      <th></th>\n",
       "      <th>skin_disorder_name</th>\n",
       "      <th>images</th>\n",
       "    </tr>\n",
       "  </thead>\n",
       "  <tbody>\n",
       "    <tr>\n",
       "      <th>0</th>\n",
       "      <td>acne affecting the back images</td>\n",
       "      <td>https://dermnetnz.org/assets/Uploads/acne/acne...</td>\n",
       "    </tr>\n",
       "    <tr>\n",
       "      <th>1</th>\n",
       "      <td>acne affecting the back images</td>\n",
       "      <td>https://dermnetnz.org/assets/Uploads/acne/acne...</td>\n",
       "    </tr>\n",
       "    <tr>\n",
       "      <th>2</th>\n",
       "      <td>acne affecting the back images</td>\n",
       "      <td>https://dermnetnz.org/assets/Uploads/acne/acne...</td>\n",
       "    </tr>\n",
       "    <tr>\n",
       "      <th>3</th>\n",
       "      <td>acne affecting the back images</td>\n",
       "      <td>https://dermnetnz.org/assets/Uploads/acne/acne...</td>\n",
       "    </tr>\n",
       "    <tr>\n",
       "      <th>4</th>\n",
       "      <td>acne affecting the back images</td>\n",
       "      <td>https://dermnetnz.org/assets/Uploads/acne/acne...</td>\n",
       "    </tr>\n",
       "  </tbody>\n",
       "</table>\n",
       "</div>"
      ],
      "text/plain": [
       "               skin_disorder_name  \\\n",
       "0  acne affecting the back images   \n",
       "1  acne affecting the back images   \n",
       "2  acne affecting the back images   \n",
       "3  acne affecting the back images   \n",
       "4  acne affecting the back images   \n",
       "\n",
       "                                              images  \n",
       "0  https://dermnetnz.org/assets/Uploads/acne/acne...  \n",
       "1  https://dermnetnz.org/assets/Uploads/acne/acne...  \n",
       "2  https://dermnetnz.org/assets/Uploads/acne/acne...  \n",
       "3  https://dermnetnz.org/assets/Uploads/acne/acne...  \n",
       "4  https://dermnetnz.org/assets/Uploads/acne/acne...  "
      ]
     },
     "execution_count": 2,
     "metadata": {},
     "output_type": "execute_result"
    }
   ],
   "source": [
    "# load and preview dataset\n",
    "image_df = pd.read_csv('Data/data1-294.csv')\n",
    "print(image_df.shape)\n",
    "image_df.head()"
   ]
  },
  {
   "cell_type": "markdown",
   "metadata": {},
   "source": [
    "## **<u>Acne</u>**\n",
    "\n",
    "**Meaning**<br>\n",
    "Acne is a common skin condition that occurs when hair follicles become clogged with oil and dead skin cells. This leads to the formation of pimples, blackheads, whiteheads, and sometimes deeper cysts. Acne usually appears on the face, neck, chest, back, and shoulders, and can affect people of all ages, although it is most common during puberty.<br>\n",
    "\n",
    "**Causes**<br>\n",
    "The causes of acne are multifactorial and can include hormonal imbalances, genetics, stress, certain medications, and an overproduction of sebum, the oily substance that lubricates the skin. Certain factors such as diet and hygiene practices have also been implicated in the development of acne, although the evidence for these is less clear.<br>\n",
    "\n",
    "**Symptoms**<br>\n",
    "The symptoms of acne can vary depending on the severity of the condition. Mild acne may only present with a few blackheads or whiteheads, while moderate acne can involve a combination of pimples, blackheads, and whiteheads. Severe acne may include deep, painful cysts that can lead to scarring. Acne can also have a significant impact on a person's self-esteem and mental health, particularly if it is severe or persistent.\n",
    "\n",
    "**Treatment**<br>\n",
    "reatment options for acne depend on the severity of the condition. Mild acne can often be managed with over-the-counter topical treatments that contain benzoyl peroxide or salicylic acid. These products work by reducing the amount of oil on the skin and unclogging pores. More severe acne may require prescription medications, such as topical retinoids or oral antibiotics, which can help to reduce inflammation and kill the bacteria that cause acne. In cases of severe, persistent acne, isotretinoin, a powerful oral medication, may be prescribed. Additionally, lifestyle modifications such as maintaining good hygiene practices, avoiding certain foods, and managing stress can also be helpful in managing acne.\n"
   ]
  },
  {
   "cell_type": "markdown",
   "metadata": {},
   "source": [
    "### **Cleaning Acne images**\n"
   ]
  },
  {
   "cell_type": "markdown",
   "metadata": {},
   "source": [
    "**Creating a dataframe with acne images from the data scrapped from DermNet**"
   ]
  },
  {
   "cell_type": "code",
   "execution_count": null,
   "metadata": {},
   "outputs": [],
   "source": [
    "# Labels representing acne in DermNet's scrapped data\n",
    "acne_labels = list(image_df[image_df['skin_disorder_name'].str.contains('acne')]['skin_disorder_name'].unique())\n",
    "\n",
    "# removing acne labels whose images will not be used because there are not clear\n",
    "acne_labels.remove('infantile acne images')\n",
    "acne_labels.remove('steroid acne images')\n",
    "\n",
    "acne_labels"
   ]
  },
  {
   "cell_type": "code",
   "execution_count": null,
   "metadata": {},
   "outputs": [],
   "source": [
    "# There are six labels representing acne\n",
    "len(acne_labels)"
   ]
  },
  {
   "cell_type": "code",
   "execution_count": null,
   "metadata": {},
   "outputs": [],
   "source": [
    "# Creating a dataframe with just acne labels for easier cleaning\n",
    "\n",
    "acne_df = image_df[(image_df['skin_disorder_name'] == acne_labels[0]) | \\\n",
    "                   (image_df['skin_disorder_name'] == acne_labels[1]) | \\\n",
    "                   (image_df['skin_disorder_name'] == acne_labels[2]) | \\\n",
    "                   (image_df['skin_disorder_name'] == acne_labels[3]) \n",
    "                 ]\n",
    "acne_df.info()"
   ]
  },
  {
   "cell_type": "markdown",
   "metadata": {},
   "source": [
    "### **Extra acne images**"
   ]
  },
  {
   "cell_type": "code",
   "execution_count": null,
   "metadata": {},
   "outputs": [],
   "source": [
    "extra_acne = [image_name for image_name in os.listdir('extra_images/extra_acne_images')]\n",
    "extra_acne[:5]"
   ]
  },
  {
   "cell_type": "code",
   "execution_count": null,
   "metadata": {},
   "outputs": [],
   "source": [
    "#Creating a dataframe for the extra acne images\n",
    "\n",
    "label =['acne' for img in extra_acne]\n",
    "extra_acne_df = pd.DataFrame(extra_acne, label).reset_index()\n",
    "extra_acne_df.columns =['skin_disorder_name', 'images']\n",
    "extra_acne_df.head()"
   ]
  },
  {
   "cell_type": "markdown",
   "metadata": {},
   "source": [
    "**i. Moving acne images in the Images folder to their own folder**"
   ]
  },
  {
   "cell_type": "code",
   "execution_count": null,
   "metadata": {},
   "outputs": [],
   "source": [
    "# Getting the acne images file names\n",
    "original_acne_img = [image_name for image_name in os.listdir('Images/') \\\n",
    "                     if ('acne affecting the back images' in image_name) |\\\n",
    "                        ('acne affecting the face images' in image_name) |\\\n",
    "                        ('acne and other follicular disorder images' in image_name) |\\\n",
    "                        ('facial acne images' in image_name) \n",
    "                        ] \n",
    "\n",
    "# Confirming the number of acne images before any cleaning\n",
    "print('There are', len(original_acne_img),'acne images')\n",
    "original_acne_img[:5]"
   ]
  },
  {
   "cell_type": "code",
   "execution_count": null,
   "metadata": {},
   "outputs": [],
   "source": [
    "# Creating a new folder with just acne images to make cleaning easier\n",
    "folder_name = 'cleaned_images/acne_images/'\n",
    "\n",
    "\n",
    "\n",
    "# Note📝: For reproducibility of the code, this step is important.\n",
    "         # If the folder is not dropped before an error will occur if you rerun this cell\n",
    "         \n",
    "# Checking if the folder exists and deleting it if it exists        \n",
    "if os.path.exists(folder_name):\n",
    "    # deleting the folder and its contents\n",
    "    shutil.rmtree(folder_name)\n",
    "\n",
    "# create the new folder\n",
    "os.mkdir(folder_name)\n",
    "\n",
    "# Moving the images into that folder\n",
    "for img in original_acne_img:\n",
    "    origin = os.path.join('Images/', img)\n",
    "    destination = os.path.join(folder_name, img)\n",
    "    shutil.copy(origin, destination)"
   ]
  },
  {
   "cell_type": "code",
   "execution_count": null,
   "metadata": {},
   "outputs": [],
   "source": [
    "# Confirming that the number of acne images after moving them to a separate folder is still 702\n",
    "acne_img = [image_name for image_name in os.listdir('cleaned_images/acne_images/')] \n",
    "print('There are', len(acne_img),'acne images.')"
   ]
  },
  {
   "cell_type": "markdown",
   "metadata": {},
   "source": [
    "**ii. Dropping links from the 'images' column in the acne_df and replacing them with the image name**"
   ]
  },
  {
   "cell_type": "code",
   "execution_count": null,
   "metadata": {},
   "outputs": [],
   "source": [
    "# So that the two dataframes can match, we dropped the image links in  acne_df \n",
    "# and replaced them with the image names\n",
    "\n",
    "acne_images = pd.DataFrame(acne_img, columns=['images'])\n",
    "acne_df = acne_df.copy()\n",
    "acne_df.drop('images', axis=1, inplace=True)\n",
    "acne_df['images'] = acne_images['images'].values\n",
    "acne_df.head()"
   ]
  },
  {
   "cell_type": "markdown",
   "metadata": {},
   "source": [
    "**iii. Joining the two dataframes**"
   ]
  },
  {
   "cell_type": "code",
   "execution_count": null,
   "metadata": {},
   "outputs": [],
   "source": [
    "# Creating a dataframe with all of the acne images\n",
    "\n",
    "acne_df_complete = pd.concat([acne_df, extra_acne_df], axis=0).reset_index()\n",
    "acne_df_complete.drop('index', axis=1, inplace=True)\n",
    "print(acne_df_complete.info())\n",
    "acne_df_complete.head()"
   ]
  },
  {
   "cell_type": "markdown",
   "metadata": {},
   "source": [
    "**iv. Combining the images into one folder**"
   ]
  },
  {
   "cell_type": "code",
   "execution_count": null,
   "metadata": {},
   "outputs": [],
   "source": [
    "# This was done by moving the extra images into the acne folder\n",
    "for img in extra_acne:\n",
    "    origin = os.path.join('extra_images/extra_acne_images/', img)\n",
    "    destination = os.path.join('cleaned_images/acne_images/', img)\n",
    "    shutil.copy(origin, destination)"
   ]
  },
  {
   "cell_type": "code",
   "execution_count": null,
   "metadata": {},
   "outputs": [],
   "source": [
    "# Confirming that the total acne images is 1427 before any cleaning\n",
    "\n",
    "acne_img = [image_name for image_name in os.listdir('cleaned_images/acne_images/')] \n",
    "print('There are a total of', len(acne_img),'acne images.')"
   ]
  },
  {
   "cell_type": "markdown",
   "metadata": {},
   "source": [
    "**v. Removing duplicated images from the folder**"
   ]
  },
  {
   "cell_type": "code",
   "execution_count": 3,
   "metadata": {},
   "outputs": [],
   "source": [
    "# Function for removing duplicated images.\n",
    "def drop_duplicated_images(folder):\n",
    "\n",
    "    # Define a threshold for image similarity\n",
    "    threshold = 8\n",
    "\n",
    "    # Define a dictionary to store the hash values and file paths of the images\n",
    "    image_hashes = {}\n",
    "    duplicated_images = []\n",
    "\n",
    "    # Loop through all the image files in a directory\n",
    "    for filename in os.listdir(folder):\n",
    "        # Load the image file\n",
    "        image = Image.open(os.path.join(folder, filename))\n",
    "\n",
    "         # Compute the hash value of the image using the average hash algorithm\n",
    "        hash_value = imagehash.average_hash(image)\n",
    "\n",
    "        # Check if the hash value is already in the dictionary\n",
    "        if hash_value in image_hashes:\n",
    "            # If a similar hash value already exists, delete the duplicate image\n",
    "            duplicated_images.append(filename)\n",
    "            os.remove(os.path.join(folder, filename))\n",
    "        else:\n",
    "             # Otherwise, add the hash value and file path to the dictionary\n",
    "            image_hashes[hash_value] = os.path.join(folder, filename)\n",
    "            \n",
    "    return duplicated_images"
   ]
  },
  {
   "cell_type": "code",
   "execution_count": null,
   "metadata": {},
   "outputs": [],
   "source": [
    "# Dropping duplicates\n",
    "duplicated_images = drop_duplicated_images('cleaned_images/acne_images/')\n",
    "duplicated_images[:5]"
   ]
  },
  {
   "cell_type": "code",
   "execution_count": null,
   "metadata": {},
   "outputs": [],
   "source": [
    "acne_img = [image_name for image_name in os.listdir('cleaned_images/acne_images/')] \n",
    "print('There are', len(acne_img),'acne images after removing duplicated images')"
   ]
  },
  {
   "cell_type": "code",
   "execution_count": null,
   "metadata": {},
   "outputs": [],
   "source": [
    "# Getting the indexes of the duplicated images so that they can be dropped from the acne_df_complete too.\n",
    "\n",
    "duplicated_indexes = [acne_df_complete[acne_df_complete['images'] == image_name].index[0] \\\n",
    "                      for image_name in acne_df_complete['images']\\\n",
    "                      if image_name in duplicated_images]\n",
    "duplicated_indexes[:10]"
   ]
  },
  {
   "cell_type": "code",
   "execution_count": null,
   "metadata": {},
   "outputs": [],
   "source": [
    "# Dropping duplicated images from the dataframe.\n",
    "acne_df_complete = acne_df_complete.copy()\n",
    "acne_df_complete.drop(index=duplicated_indexes, inplace=True)\n",
    "acne_df_complete.info()"
   ]
  },
  {
   "cell_type": "markdown",
   "metadata": {},
   "source": [
    "Acne affecting the back images, Acne affecting the face images all have correct images. The Only change that will be made is changing the name to acne. </br>\n",
    "Acne and other follicular disorder images has a collection of different images. Only images that have acne as a specific label will be included, the others will be dropped from the dataset. </br>\n",
    "***\n",
    "**Dealing with the collection of different images in Acne and other follicular disorder images**</br>\n",
    "\n",
    "After careful evaluation of the images, the images that represent acne are:</br>\n",
    ">>> **[299, 301, 302, 305, 306, 312, 324, 327, 331, 332, 334, 335, 336,</br>, 340, 352, 353, 356, 357, 358, 360, 365, 370, 379, 383, 386, 391, </br>, 394, 399, 400, 401, 404, 406, 407, 410, 410, 412, 414, 418, 435, </br> 439, 440, 442]**"
   ]
  },
  {
   "cell_type": "code",
   "execution_count": null,
   "metadata": {},
   "outputs": [],
   "source": [
    "# Note 📝: The indexes were confirmed to be the same even after merging the two dataframes\n",
    "        #: This is because the acne_df is at the top in the complete dataframe\n",
    "\n",
    "# indexes of the images in 'acne and other follicular disorder images'\n",
    "indexes = acne_df[acne_df['skin_disorder_name'] == 'acne and other follicular disorder images'].index\n",
    "\n",
    "# indexes of the acne images in 'acne and other follicular disorder images'\n",
    "acne_indexes = [299, 301, 302, 305, 306, 312, 324, 327, 331, 332, 334, 335, 336,\n",
    "                340, 352, 353, 356, 357, 358, 360, 365, 370, 379, 383, 386, 391,\n",
    "                394, 399, 400, 401, 404, 406, 407, 410, 410, 412, 414, 418, 435,\n",
    "                439, 440, 442]\n",
    "\n",
    "# indexes of the other follicular disorder images in 'acne and other follicular disorder images'. This indexes will be dropped.\n",
    "to_drop = []\n",
    "\n",
    "for index in  indexes:\n",
    "    if (index not in acne_indexes) and (index not in duplicated_indexes):\n",
    "        to_drop.append(index)\n",
    "\n",
    "# dropping indexes in to_drop\n",
    "acne_df_complete.drop(to_drop, axis = 0, inplace=True)"
   ]
  },
  {
   "cell_type": "code",
   "execution_count": null,
   "metadata": {},
   "outputs": [],
   "source": [
    "# After dropping non-acne images, we still have 1000 images left\n",
    "acne_df_complete.shape"
   ]
  },
  {
   "cell_type": "code",
   "execution_count": null,
   "metadata": {},
   "outputs": [],
   "source": [
    "# dropping those images from the acne_images folder\n",
    "\n",
    "# Finding the image file names to be dropped from the folder\n",
    "img_to_drop = []\n",
    "\n",
    "for index in to_drop:\n",
    "    for img_name in original_acne_img:\n",
    "        if str(index) in img_name:\n",
    "            img_to_drop.append(img_name)\n",
    "\n",
    "# Dropping those images form the acne_images folder\n",
    "for filename in img_to_drop:\n",
    "    os.remove(os.path.join(\"cleaned_images/acne_images/\", filename))\n",
    "\n",
    "# Confirming that the number of images left is 1000\n",
    "acne_img = [image_name for image_name in os.listdir('cleaned_images/acne_images/')] \n",
    "print('There are', len(acne_img),'acne images left.')"
   ]
  },
  {
   "cell_type": "markdown",
   "metadata": {},
   "source": [
    "**vi. Changing the label to just acne**"
   ]
  },
  {
   "cell_type": "code",
   "execution_count": null,
   "metadata": {},
   "outputs": [],
   "source": [
    "acne_df_complete['skin_disorder_name'] = 'acne'\n",
    "print(acne_df_complete.shape)\n",
    "acne_df_complete.head()"
   ]
  },
  {
   "cell_type": "markdown",
   "metadata": {},
   "source": [
    "**vii. Saving the acne_df_complete dataframe as a csv file**"
   ]
  },
  {
   "cell_type": "code",
   "execution_count": null,
   "metadata": {},
   "outputs": [],
   "source": [
    "acne_df_complete.to_csv('cleaned_data/acne.csv', index=False)"
   ]
  },
  {
   "cell_type": "markdown",
   "metadata": {},
   "source": [
    "## **<u>Atopic dermatitis(Eczema) </u>**\n",
    "\n",
    "**Meaning**<br>\n",
    "Atopic dermatitis, also known as eczema, is a chronic inflammatory skin condition that is characterized by dry, itchy, and inflamed patches of skin. It is a common condition that can affect people of all ages, but it is most common in infants and children. <br>\n",
    "\n",
    "**Causes**<br>\n",
    "The exact causes of atopic dermatitis are not fully understood, but it is believed to be a combination of genetic and environmental factors. People with atopic dermatitis often have a genetic predisposition to the condition, and environmental triggers such as allergens, irritants, and stress can exacerbate the symptoms.\n",
    "\n",
    "**Symptoms**<br>\n",
    "The symptoms of atopic dermatitis can vary depending on the severity of the condition. Mild cases may only present with dry, itchy skin, while more severe cases can lead to red, inflamed, and weeping skin lesions. In some cases, the skin may become thickened and scaly. Atopic dermatitis can also cause significant discomfort and interfere with a person's quality of life.\n",
    "\n",
    "**Treatment**<br>\n",
    "Treatment options for eczema include using gentle soaps and moisturizers, avoiding harsh chemicals and irritants, and taking short, lukewarm baths or showers. Prescription creams or ointments containing corticosteroids or immunosuppressants may be used for more severe cases of eczema. Antihistamines can also be helpful in reducing itching. <br>\n",
    "Preventing flare-ups of eczema can be done by avoiding triggers such as certain foods, allergens, and irritants. Regular use of moisturizers can also help to keep the skin hydrated and reduce the risk of flare-ups.<br>"
   ]
  },
  {
   "cell_type": "markdown",
   "metadata": {},
   "source": [
    "### **Cleaning Eczema images**"
   ]
  },
  {
   "cell_type": "markdown",
   "metadata": {},
   "source": [
    "**Creating a dataframe with eczema images from the data scrapped from DermNet**"
   ]
  },
  {
   "cell_type": "code",
   "execution_count": null,
   "metadata": {},
   "outputs": [],
   "source": [
    "# Labels representing eczema in Dermnet's scraped data.\n",
    "\n",
    "eczema_labels = image_df[(image_df['skin_disorder_name'].str.contains('eczema')) | \\\n",
    "                         (image_df['skin_disorder_name'].str.contains('atopic dermatitis images')) |\\\n",
    "                         (image_df['skin_disorder_name'].str.contains('hand dermatitis images')) |\\\n",
    "                         (image_df['skin_disorder_name'] == 'dermatitis images') |\\\n",
    "                         (image_df['skin_disorder_name'].str.contains('nummular dermatitis images'))] \\\n",
    "                         ['skin_disorder_name'].unique()\n",
    "len(eczema_labels)"
   ]
  },
  {
   "cell_type": "code",
   "execution_count": null,
   "metadata": {},
   "outputs": [],
   "source": [
    "# Creating a dataframe with just eczema labels for easier cleaning\n",
    "\n",
    "eczema_df = image_df[(image_df['skin_disorder_name'] == eczema_labels[0]) | \\\n",
    "                     (image_df['skin_disorder_name'] == eczema_labels[1]) | \\\n",
    "                     (image_df['skin_disorder_name'] == eczema_labels[2]) | \\\n",
    "                     (image_df['skin_disorder_name'] == eczema_labels[3]) | \\\n",
    "                     (image_df['skin_disorder_name'] == eczema_labels[4]) | \\\n",
    "                     (image_df['skin_disorder_name'] == eczema_labels[5]) | \\\n",
    "                     (image_df['skin_disorder_name'] == eczema_labels[6]) | \\\n",
    "                     (image_df['skin_disorder_name'] == eczema_labels[7]) \n",
    "                 ]\n",
    "eczema_df.info()"
   ]
  },
  {
   "cell_type": "markdown",
   "metadata": {},
   "source": [
    "### **Extra eczema images**"
   ]
  },
  {
   "cell_type": "code",
   "execution_count": null,
   "metadata": {},
   "outputs": [],
   "source": [
    "extra_eczema = [image_name for image_name in os.listdir('extra_images/extra_eczema')]\n",
    "extra_eczema[:5]"
   ]
  },
  {
   "cell_type": "code",
   "execution_count": null,
   "metadata": {},
   "outputs": [],
   "source": [
    "# The folder has a mixture of images. We will filter out the eczema images only\n",
    "\n",
    "extra_eczema_images = [image_name for image_name in extra_eczema\\\n",
    "                        if ('dermatitis' in image_name) |\\\n",
    "                        ('eczema' in image_name)]\n",
    "extra_eczema_images[:5]"
   ]
  },
  {
   "cell_type": "code",
   "execution_count": null,
   "metadata": {},
   "outputs": [],
   "source": [
    "# Moving this images into their own folder called 'extra_eczema_images_clean'\n",
    "folder_name = 'extra_images/extra_eczema_images_clean/'\n",
    "\n",
    "\n",
    "# Note📝: For reproducibility of the code, this step is important.\n",
    "         # If the folder is not dropped before an error will occur if you rerun this cell\n",
    "         \n",
    "# Checking if the folder exists and deleting it if it exists        \n",
    "if os.path.exists(folder_name):\n",
    "    # deleting the folder and its contents\n",
    "    shutil.rmtree(folder_name)\n",
    "\n",
    "# create the new folder\n",
    "os.mkdir(folder_name)\n",
    "\n",
    "for img in extra_eczema_images:\n",
    "    origin = os.path.join('extra_images/extra_eczema/', img)\n",
    "    destination = os.path.join(folder_name, img)\n",
    "    shutil.copy(origin, destination)"
   ]
  },
  {
   "cell_type": "code",
   "execution_count": null,
   "metadata": {},
   "outputs": [],
   "source": [
    "#Creating a dataframe for the extra eczema images\n",
    "\n",
    "label =['eczema' for img in extra_eczema_images]\n",
    "extra_eczema_df = pd.DataFrame(extra_eczema_images, label).reset_index()\n",
    "extra_eczema_df.columns =['skin_disorder_name', 'images']\n",
    "print(extra_eczema_df.shape)\n",
    "extra_eczema_df.head()"
   ]
  },
  {
   "cell_type": "markdown",
   "metadata": {},
   "source": [
    "**i. Moving eczema images in the Image folder to their own folder**"
   ]
  },
  {
   "cell_type": "code",
   "execution_count": null,
   "metadata": {},
   "outputs": [],
   "source": [
    "# Getting the eczema images file names\n",
    "eczema_img = [image_name for image_name in os.listdir('Images/') if ('eczema' in image_name) |\n",
    "                                                                    ('atopic dermatitis images' in image_name) |\n",
    "                                                                    ('hand dermatitis images' in image_name) | \n",
    "                                                                    (image_name.startswith('dermatitis images'))|\n",
    "                                                                    ('nummular dermatitis images' in image_name)\n",
    "                                                                     ] \n",
    "\n",
    "# Confirming the number of eczema images before any cleaning\n",
    "print('There are', len(eczema_img),'eczema images.')\n",
    "eczema_img[:5]"
   ]
  },
  {
   "cell_type": "code",
   "execution_count": null,
   "metadata": {},
   "outputs": [],
   "source": [
    "# Creating a new folder with just eczema images to make cleaning easier\n",
    "folder_name = 'cleaned_images/eczema_images/'\n",
    "\n",
    "# Note📝: For reproducibility of the code, this step is important.\n",
    "         # If the folder is not dropped before an error will occur if you rerun this cell\n",
    "         \n",
    "# Checking if the folder exists and deleting it if it exists         \n",
    "if os.path.exists(folder_name):\n",
    "    # deleting the folder and its contents\n",
    "    shutil.rmtree(folder_name)\n",
    "\n",
    "# create the new folder\n",
    "os.mkdir(folder_name)\n",
    "\n",
    "# Moving the images into that folder\n",
    "for img in eczema_img:\n",
    "    origin = os.path.join('Images/', img)\n",
    "    destination = os.path.join(folder_name, img)\n",
    "    shutil.copy(origin, destination)"
   ]
  },
  {
   "cell_type": "code",
   "execution_count": null,
   "metadata": {},
   "outputs": [],
   "source": [
    "# Confirming that the number of eczema images after moving them to a separate folder is still 631\n",
    "eczema_img = [image_name for image_name in os.listdir('cleaned_images/eczema_images/')] \n",
    "print('There are', len(eczema_img),'eczema images.')"
   ]
  },
  {
   "cell_type": "markdown",
   "metadata": {},
   "source": [
    "**ii. Dropping links from the 'images' column in the eczema_df and replacing them with the image name**"
   ]
  },
  {
   "cell_type": "code",
   "execution_count": null,
   "metadata": {},
   "outputs": [],
   "source": [
    "# So that the two dataframes can match, we dropped the image links in  eczema_df \n",
    "# and replaced them with the image names\n",
    "\n",
    "eczema_images = pd.DataFrame(eczema_img, columns=['images'])\n",
    "eczema_df = eczema_df.copy()\n",
    "eczema_df.drop('images', axis=1, inplace=True)\n",
    "eczema_df['images'] = eczema_images['images'].values\n",
    "eczema_df.head()"
   ]
  },
  {
   "cell_type": "markdown",
   "metadata": {},
   "source": [
    "**iii. Joining the two dataframes**"
   ]
  },
  {
   "cell_type": "code",
   "execution_count": null,
   "metadata": {},
   "outputs": [],
   "source": [
    "# Creating a dataframe with all of the eczema images\n",
    "\n",
    "eczema_df_complete = pd.concat([eczema_df, extra_eczema_df], axis=0).reset_index()\n",
    "eczema_df_complete.drop('index', axis=1, inplace=True)\n",
    "print(eczema_df_complete.info())\n",
    "eczema_df_complete.head()"
   ]
  },
  {
   "cell_type": "markdown",
   "metadata": {},
   "source": [
    "**iv. Combining the images into one folder**"
   ]
  },
  {
   "cell_type": "code",
   "execution_count": null,
   "metadata": {},
   "outputs": [],
   "source": [
    "# This was done by moving the extra images into the eczema folder\n",
    "for img in extra_eczema_images:\n",
    "    origin = os.path.join('extra_images/extra_eczema_images_clean/', img)\n",
    "    destination = os.path.join('cleaned_images/eczema_images/', img)\n",
    "    shutil.copy(origin, destination)"
   ]
  },
  {
   "cell_type": "code",
   "execution_count": null,
   "metadata": {},
   "outputs": [],
   "source": [
    "# Confirming that the total acne images is 1367 before any cleaning\n",
    "\n",
    "eczema_img = [image_name for image_name in os.listdir('cleaned_images/eczema_images/')] \n",
    "print('There are a total of', len(eczema_img),'eczema images.')"
   ]
  },
  {
   "cell_type": "markdown",
   "metadata": {},
   "source": [
    "**v. Removing duplicated images from the folder**"
   ]
  },
  {
   "cell_type": "code",
   "execution_count": null,
   "metadata": {},
   "outputs": [],
   "source": [
    "# Using a function created earlier to drop duplicates\n",
    "\n",
    "duplicated_images = drop_duplicated_images('cleaned_images/eczema_images/')\n",
    "duplicated_images[:5]"
   ]
  },
  {
   "cell_type": "code",
   "execution_count": null,
   "metadata": {},
   "outputs": [],
   "source": [
    "# Confirming the number of images after dropping duplicates\n",
    "\n",
    "eczema_img = [image_name for image_name in os.listdir('cleaned_images/eczema_images/')] \n",
    "print('There are', len(eczema_img),'eczema images after removing duplicated images.')"
   ]
  },
  {
   "cell_type": "code",
   "execution_count": null,
   "metadata": {},
   "outputs": [],
   "source": [
    "# Getting the indexes of the duplicated images so that they can be dropped from the eczema_df_complete too.\n",
    "\n",
    "duplicated_indexes = [eczema_df_complete[eczema_df_complete['images'] == image_name].index[0] \\\n",
    "                      for image_name in eczema_df_complete['images']\\\n",
    "                      if image_name in duplicated_images]\n",
    "duplicated_indexes[:10]"
   ]
  },
  {
   "cell_type": "code",
   "execution_count": null,
   "metadata": {},
   "outputs": [],
   "source": [
    "# Dropping duplicated images from the dataframe.\n",
    "eczema_df_complete = eczema_df_complete .copy()\n",
    "eczema_df_complete .drop(duplicated_indexes, axis=0, inplace=True)\n",
    "eczema_df_complete .info()"
   ]
  },
  {
   "cell_type": "markdown",
   "metadata": {},
   "source": [
    "**vi. Changing the label to just eczema**"
   ]
  },
  {
   "cell_type": "code",
   "execution_count": null,
   "metadata": {},
   "outputs": [],
   "source": [
    "eczema_df_complete['skin_disorder_name'] = 'eczema'\n",
    "print(eczema_df_complete.shape)\n",
    "eczema_df_complete.head()"
   ]
  },
  {
   "cell_type": "markdown",
   "metadata": {},
   "source": [
    "**vii. Saving the acne_df_complete dataframe as a csv file**"
   ]
  },
  {
   "cell_type": "code",
   "execution_count": null,
   "metadata": {},
   "outputs": [],
   "source": [
    "eczema_df_complete.to_csv('cleaned_data/eczema.csv', index=False)"
   ]
  },
  {
   "cell_type": "markdown",
   "metadata": {},
   "source": [
    "### Actinic keratosis"
   ]
  },
  {
   "cell_type": "markdown",
   "metadata": {},
   "source": [
    "**Meaning** <br>\n",
    "Actinic keratosis(AK) is a skin condition that is caused by long-term exposure to UV rays, resulting in the formation of rough, scaly patches on the skin. It is considered a precancerous condition because it has the potential to develop into squamous cell carcinoma, a type of skin cancer\n",
    "\n",
    "**Causes** <br>\n",
    "The primary cause of actinic keratosis is long-term exposure to UV rays from the sun or other sources such as tanning beds. People with fair skin, light-colored hair, and light-colored eyes are at a higher risk of developing AK. Other risk factors include a history of frequent sunburns, a weakened immune system, and exposure to chemicals such as coal tar or arsenic.\n",
    "\n",
    "**Symptoms** <br>\n",
    "The most common symptom of actinic keratosis is the formation of rough, scaly patches or lesions on the skin. These patches can be pink, red, or brown in color and may feel like sandpaper. They are usually found on areas of the skin that are frequently exposed to the sun, such as the face, scalp, ears, neck, hands, and arms. In some cases, the patches may itch or burn, and they may become inflamed or bleed if they are scratched or rubbed.\n",
    "\n",
    "**Treatment** <br>\n",
    "The treatment of actinic keratosis depends on the severity of the condition. Mild cases may be treated with topical creams or gels that contain medications such as imiquimod, fluorouracil, or diclofenac. These medications work by stimulating the immune system or causing the abnormal cells to die off. In more severe cases, cryotherapy (freezing the lesions with liquid nitrogen) or curettage (scraping off the lesions with a special tool) may be necessary. In rare cases where the lesions have developed into skin cancer, surgical removal may be required. It is also important to take steps to prevent further damage to the skin, such as wearing protective clothing and sunscreen, avoiding tanning beds, and staying out of the sun during peak hours.\n"
   ]
  },
  {
   "cell_type": "code",
   "execution_count": 4,
   "metadata": {},
   "outputs": [
    {
     "name": "stdout",
     "output_type": "stream",
     "text": [
      "['actinic keratosis affecting the face images'\n",
      " 'actinic keratosis affecting the hand images'\n",
      " 'actinic keratosis affecting the legs and feet images'\n",
      " 'actinic keratosis affecting the scalp images'\n",
      " 'actinic keratosis dermoscopy images'\n",
      " 'actinic keratosis on the nose images'\n",
      " 'actinic keratosis treated with imiquimod images'\n",
      " 'granular parakeratosis images' 'keratosis pilaris images'\n",
      " 'seborrhoeic keratosis dermoscopy images' 'seborrhoeic keratosis images'\n",
      " 'solar keratosis affecting the face images'\n",
      " 'solar keratosis affecting the hand images'\n",
      " 'solar keratosis affecting the legs and feet images'\n",
      " 'solar keratosis affecting the scalp images'\n",
      " 'solar keratosis on the nose images'\n",
      " 'solar keratosis treated with imiquimod images']\n"
     ]
    }
   ],
   "source": [
    "# image labels with the name keratosis\n",
    "print(image_df[image_df['skin_disorder_name'].str.contains('keratosis')]['skin_disorder_name'].unique())"
   ]
  },
  {
   "cell_type": "markdown",
   "metadata": {},
   "source": [
    "Actinic keratosis is also known as solar keratosis or senile keratosis"
   ]
  },
  {
   "cell_type": "code",
   "execution_count": 5,
   "metadata": {},
   "outputs": [
    {
     "name": "stdout",
     "output_type": "stream",
     "text": [
      "(427, 2)\n"
     ]
    },
    {
     "data": {
      "text/html": [
       "<div>\n",
       "<style scoped>\n",
       "    .dataframe tbody tr th:only-of-type {\n",
       "        vertical-align: middle;\n",
       "    }\n",
       "\n",
       "    .dataframe tbody tr th {\n",
       "        vertical-align: top;\n",
       "    }\n",
       "\n",
       "    .dataframe thead th {\n",
       "        text-align: right;\n",
       "    }\n",
       "</style>\n",
       "<table border=\"1\" class=\"dataframe\">\n",
       "  <thead>\n",
       "    <tr style=\"text-align: right;\">\n",
       "      <th></th>\n",
       "      <th>skin_disorder_name</th>\n",
       "      <th>images</th>\n",
       "    </tr>\n",
       "  </thead>\n",
       "  <tbody>\n",
       "    <tr>\n",
       "      <th>504</th>\n",
       "      <td>actinic keratosis affecting the face images</td>\n",
       "      <td>https://dermnetnz.org/assets/Uploads/lesions/a...</td>\n",
       "    </tr>\n",
       "    <tr>\n",
       "      <th>505</th>\n",
       "      <td>actinic keratosis affecting the face images</td>\n",
       "      <td>https://dermnetnz.org/assets/Uploads/lesions/a...</td>\n",
       "    </tr>\n",
       "  </tbody>\n",
       "</table>\n",
       "</div>"
      ],
      "text/plain": [
       "                              skin_disorder_name  \\\n",
       "504  actinic keratosis affecting the face images   \n",
       "505  actinic keratosis affecting the face images   \n",
       "\n",
       "                                                images  \n",
       "504  https://dermnetnz.org/assets/Uploads/lesions/a...  \n",
       "505  https://dermnetnz.org/assets/Uploads/lesions/a...  "
      ]
     },
     "execution_count": 5,
     "metadata": {},
     "output_type": "execute_result"
    }
   ],
   "source": [
    "# dataframe with actinic keratosis and solar keratosis labels\n",
    "keratosis_df = image_df[(image_df['skin_disorder_name'].str.contains('actinic keratosis')) | \\\n",
    "                  (image_df['skin_disorder_name'].str.contains('solar keratosis'))]\n",
    "print(keratosis_df.shape)\n",
    "keratosis_df.head(2)"
   ]
  },
  {
   "cell_type": "code",
   "execution_count": 6,
   "metadata": {},
   "outputs": [
    {
     "name": "stdout",
     "output_type": "stream",
     "text": [
      "(1391, 2)\n"
     ]
    },
    {
     "data": {
      "text/html": [
       "<div>\n",
       "<style scoped>\n",
       "    .dataframe tbody tr th:only-of-type {\n",
       "        vertical-align: middle;\n",
       "    }\n",
       "\n",
       "    .dataframe tbody tr th {\n",
       "        vertical-align: top;\n",
       "    }\n",
       "\n",
       "    .dataframe thead th {\n",
       "        text-align: right;\n",
       "    }\n",
       "</style>\n",
       "<table border=\"1\" class=\"dataframe\">\n",
       "  <thead>\n",
       "    <tr style=\"text-align: right;\">\n",
       "      <th></th>\n",
       "      <th>skin_disorder_name</th>\n",
       "      <th>images</th>\n",
       "    </tr>\n",
       "  </thead>\n",
       "  <tbody>\n",
       "    <tr>\n",
       "      <th>504</th>\n",
       "      <td>actinic keratosis affecting the face images</td>\n",
       "      <td>https://dermnetnz.org/assets/Uploads/lesions/a...</td>\n",
       "    </tr>\n",
       "    <tr>\n",
       "      <th>505</th>\n",
       "      <td>actinic keratosis affecting the face images</td>\n",
       "      <td>https://dermnetnz.org/assets/Uploads/lesions/a...</td>\n",
       "    </tr>\n",
       "    <tr>\n",
       "      <th>506</th>\n",
       "      <td>actinic keratosis affecting the face images</td>\n",
       "      <td>https://dermnetnz.org/assets/Uploads/lesions/a...</td>\n",
       "    </tr>\n",
       "    <tr>\n",
       "      <th>507</th>\n",
       "      <td>actinic keratosis affecting the face images</td>\n",
       "      <td>https://dermnetnz.org/assets/Uploads/lesions/a...</td>\n",
       "    </tr>\n",
       "  </tbody>\n",
       "</table>\n",
       "</div>"
      ],
      "text/plain": [
       "                              skin_disorder_name  \\\n",
       "504  actinic keratosis affecting the face images   \n",
       "505  actinic keratosis affecting the face images   \n",
       "506  actinic keratosis affecting the face images   \n",
       "507  actinic keratosis affecting the face images   \n",
       "\n",
       "                                                images  \n",
       "504  https://dermnetnz.org/assets/Uploads/lesions/a...  \n",
       "505  https://dermnetnz.org/assets/Uploads/lesions/a...  \n",
       "506  https://dermnetnz.org/assets/Uploads/lesions/a...  \n",
       "507  https://dermnetnz.org/assets/Uploads/lesions/a...  "
      ]
     },
     "execution_count": 6,
     "metadata": {},
     "output_type": "execute_result"
    }
   ],
   "source": [
    "# extra keratosis dataframes\n",
    "#first dataframe\n",
    "df = pd.read_csv('Data/ISIC_2019_Training_GroundTruth.csv')\n",
    "\n",
    "# filter df to get rows where AK = 1.0\n",
    "df1 = df.copy()\n",
    "df1 = df1[df1['AK'] == 1.0]\n",
    "df1['skin_disorder_name'] = df1['images']\n",
    "\n",
    "# drop the unwanted columns from df\n",
    "df1 = df1.drop(['MEL', 'NV', 'BCC', 'AK', 'BKL', 'DF', 'VASC', 'SCC', 'UNK'], axis=1)\n",
    "\n",
    "# Loop through each file in the folder and add the skin disorder name to the list\n",
    "img_names = []\n",
    "image_paths = []\n",
    "\n",
    "for file in os.listdir('extra_images/extra_actinic_keratosis_images'):\n",
    "    if file.endswith(\".jpg\"):\n",
    "        skin_disorder_name = file.split(\".\")[0]\n",
    "        img_names.append(skin_disorder_name)\n",
    "        image_paths.append(file)\n",
    "\n",
    "# Create a second Pandas DataFrame with the list of skin disorder names\n",
    "df2 = pd.DataFrame({\"skin_disorder_name\": img_names, \"images\": image_paths})\n",
    "\n",
    "# Merge the dataframes\n",
    "AK_df = pd.concat([keratosis_df, df1, df2], axis=0)\n",
    "\n",
    "# display the merged dataframe\n",
    "print(AK_df.shape)\n",
    "AK_df.head(4)"
   ]
  },
  {
   "cell_type": "code",
   "execution_count": 7,
   "metadata": {},
   "outputs": [
    {
     "name": "stdout",
     "output_type": "stream",
     "text": [
      "There are 1391 actinic keratosis images\n"
     ]
    }
   ],
   "source": [
    "# Getting the keratosis images file names\n",
    "keratosis_img = [image_name for image_name in os.listdir('Images/') if ('actinic keratosis' in image_name) | ('solar keratosis' in image_name)]\n",
    "AK_img = [image_name for image_name in os.listdir('extra_images/extra_AK_and_BKL_images') if any(x in image_name for x in df1['images'].tolist())]\n",
    "AK_img2 = [image_name for image_name in os.listdir('extra_images/extra_actinic_keratosis_images')]\n",
    "\n",
    "# Checking if the folder exists and deleting it if it exists\n",
    "if os.path.exists('cleaned_images/keratosis_images/'):\n",
    "    # deleting the folder and its contents\n",
    "    shutil.rmtree('cleaned_images/keratosis_images/')\n",
    "    \n",
    "# Creating a new folder with just keratosis images to make cleaning easier\n",
    "os.mkdir('cleaned_images/keratosis_images/')\n",
    "for img in keratosis_img:\n",
    "    origin = os.path.join('Images/', img)\n",
    "    destination = os.path.join('cleaned_images/keratosis_images/', img)\n",
    "    shutil.copy(origin, destination)\n",
    "\n",
    "for img in AK_img:\n",
    "    origin = os.path.join('extra_images/extra_AK_and_BKL_images/', img)\n",
    "    destination = os.path.join('cleaned_images/keratosis_images/', img)\n",
    "    shutil.copy(origin, destination)\n",
    "\n",
    "for img in AK_img2:\n",
    "    origin = os.path.join('extra_images/extra_actinic_keratosis_images/', img)\n",
    "    destination = os.path.join('cleaned_images/keratosis_images/', img)\n",
    "    shutil.copy(origin, destination)\n",
    "    \n",
    "# Confirming that the number of keratosis images after moving them to a separate folder is still 1294\n",
    "keratosis_img = [image_name for image_name in os.listdir('cleaned_images/keratosis_images/')] \n",
    "print('There are', len(keratosis_img),'actinic keratosis images')"
   ]
  },
  {
   "cell_type": "code",
   "execution_count": 8,
   "metadata": {},
   "outputs": [
    {
     "data": {
      "text/plain": [
       "['ISIC_0072940.jpg',\n",
       " 'ISIC_0073068.jpg',\n",
       " 'ISIC_0073157.jpg',\n",
       " 'ISIC_0073198.jpg']"
      ]
     },
     "execution_count": 8,
     "metadata": {},
     "output_type": "execute_result"
    }
   ],
   "source": [
    "# call function to drop duplicates from image folder \n",
    "duplicated_images = drop_duplicated_images('cleaned_images/keratosis_images/')\n",
    "duplicated_images[184:188]"
   ]
  },
  {
   "cell_type": "code",
   "execution_count": 9,
   "metadata": {},
   "outputs": [
    {
     "name": "stdout",
     "output_type": "stream",
     "text": [
      "Number of ctinic keratosis images after removing duplicated images: 1000\n",
      "Shape of Actinic keratosis dataframe(1000, 2)\n"
     ]
    }
   ],
   "source": [
    "# number of images after removing duplicates\n",
    "keratosis_img = [image_name for image_name in os.listdir('cleaned_images/keratosis_images/')] \n",
    "print('Number of ctinic keratosis images after removing duplicated images:', len(keratosis_img))\n",
    "\n",
    "# Remove duplicate images from the dataframe\n",
    "# for the first keratosis_df, the image name on folder has index added to skin_disorder_name \n",
    "mask = AK_df['skin_disorder_name'].str.contains('actinic keratosis') | AK_df['skin_disorder_name'].str.contains('solar keratosis')\n",
    "AK_df.loc[mask, 'skin_disorder_name'] = AK_df.loc[mask, 'skin_disorder_name'] + AK_df.loc[mask].index.astype(str)\n",
    "AK_df['skin_disorder_name'] = AK_df['skin_disorder_name'].apply(lambda x: x + '.jpg')\n",
    "duplicated_df = AK_df[AK_df['skin_disorder_name'].isin(duplicated_images)]\n",
    "merged_df = AK_df.merge(duplicated_df, on=\"skin_disorder_name\", how=\"outer\", indicator=True)\n",
    "AK_df = merged_df.loc[merged_df[\"_merge\"]==\"left_only\"].drop_duplicates(subset=[\"skin_disorder_name\"]).drop(columns=['images_y', '_merge'])\n",
    "print(f'Shape of Actinic keratosis dataframe{AK_df.shape}')"
   ]
  },
  {
   "cell_type": "markdown",
   "metadata": {},
   "source": [
    "The images and the dataframe have the same number of rows, 1000, on removing duplicates"
   ]
  },
  {
   "cell_type": "code",
   "execution_count": 10,
   "metadata": {},
   "outputs": [
    {
     "data": {
      "text/html": [
       "<div>\n",
       "<style scoped>\n",
       "    .dataframe tbody tr th:only-of-type {\n",
       "        vertical-align: middle;\n",
       "    }\n",
       "\n",
       "    .dataframe tbody tr th {\n",
       "        vertical-align: top;\n",
       "    }\n",
       "\n",
       "    .dataframe thead th {\n",
       "        text-align: right;\n",
       "    }\n",
       "</style>\n",
       "<table border=\"1\" class=\"dataframe\">\n",
       "  <thead>\n",
       "    <tr style=\"text-align: right;\">\n",
       "      <th></th>\n",
       "      <th>skin_disorder_name</th>\n",
       "      <th>images</th>\n",
       "    </tr>\n",
       "  </thead>\n",
       "  <tbody>\n",
       "    <tr>\n",
       "      <th>0</th>\n",
       "      <td>actinic keratosis</td>\n",
       "      <td>https://dermnetnz.org/assets/Uploads/lesions/a...</td>\n",
       "    </tr>\n",
       "    <tr>\n",
       "      <th>1</th>\n",
       "      <td>actinic keratosis</td>\n",
       "      <td>https://dermnetnz.org/assets/Uploads/lesions/a...</td>\n",
       "    </tr>\n",
       "    <tr>\n",
       "      <th>2</th>\n",
       "      <td>actinic keratosis</td>\n",
       "      <td>https://dermnetnz.org/assets/Uploads/lesions/a...</td>\n",
       "    </tr>\n",
       "    <tr>\n",
       "      <th>3</th>\n",
       "      <td>actinic keratosis</td>\n",
       "      <td>https://dermnetnz.org/assets/Uploads/lesions/a...</td>\n",
       "    </tr>\n",
       "  </tbody>\n",
       "</table>\n",
       "</div>"
      ],
      "text/plain": [
       "  skin_disorder_name                                             images\n",
       "0  actinic keratosis  https://dermnetnz.org/assets/Uploads/lesions/a...\n",
       "1  actinic keratosis  https://dermnetnz.org/assets/Uploads/lesions/a...\n",
       "2  actinic keratosis  https://dermnetnz.org/assets/Uploads/lesions/a...\n",
       "3  actinic keratosis  https://dermnetnz.org/assets/Uploads/lesions/a..."
      ]
     },
     "execution_count": 10,
     "metadata": {},
     "output_type": "execute_result"
    }
   ],
   "source": [
    "# rename the values of skin_disorder_name column to actinic keratosis\n",
    "AK_df['skin_disorder_name'] = AK_df['skin_disorder_name'].replace(AK_df['skin_disorder_name'].unique(), 'actinic keratosis')\n",
    "AK_df = AK_df.rename(columns={'images_x': 'images'})\n",
    "AK_df.head(4)"
   ]
  },
  {
   "cell_type": "code",
   "execution_count": 11,
   "metadata": {},
   "outputs": [],
   "source": [
    "# save BKL dataframe to csv file\n",
    "AK_df.to_csv('cleaned_data/AK.csv', index=False)"
   ]
  },
  {
   "cell_type": "markdown",
   "metadata": {},
   "source": [
    "## Benign Keratosis-like Lesions"
   ]
  },
  {
   "cell_type": "markdown",
   "metadata": {},
   "source": [
    "**Meaning** <br>\n",
    "Benign Keratosis-like Lesions (BKL) are a group of benign skin lesions that resemble actinic keratosis (AK) but are not classified as AK because they do not have the same degree of dysplasia. BKL lesions can appear as small, scaly, or waxy bumps on the skin, ranging in color from light tan to dark brown. They typically occur on areas of the skin that have been exposed to the sun, such as the face, neck, scalp, and hands. Examples of BKL lesions include seborrheic keratosis, solar lentigo, and lichen planus-like keratosis.\n",
    " \n",
    "**Causes** <br>\n",
    "The exact cause of BKL is not known, but it is believed to be related to long-term sun exposure. Other factors that may contribute to the development of BKL include a weakened immune system, age, and a history of other skin conditions.\n",
    "\n",
    "**Symptoms**\n",
    "BKL lesions typically appear as small, scaly, or waxy bumps on the skin. They may be light tan to dark brown in color and may have a rough, textured surface. They can be single or multiple and can occur on any part of the body, but are most commonly found on the face, neck, scalp, and hands.\n",
    "\n",
    "**Treatment**\n",
    "BKL lesions are usually benign and do not require treatment unless they are causing symptoms or affecting the patient's appearance. Treatment options may include cryotherapy (freezing the lesion with liquid nitrogen), curettage (scraping the lesion off the skin), or topical medications such as 5-fluorouracil or imiquimod. In some cases, BKL lesions may be biopsied to confirm the diagnosis or rule out other skin conditions. It is important to protect the skin from sun exposure and to seek medical attention for any suspicious skin lesions."
   ]
  },
  {
   "cell_type": "code",
   "execution_count": 12,
   "metadata": {},
   "outputs": [
    {
     "name": "stdout",
     "output_type": "stream",
     "text": [
      "(1003, 2)\n"
     ]
    },
    {
     "data": {
      "text/html": [
       "<div>\n",
       "<style scoped>\n",
       "    .dataframe tbody tr th:only-of-type {\n",
       "        vertical-align: middle;\n",
       "    }\n",
       "\n",
       "    .dataframe tbody tr th {\n",
       "        vertical-align: top;\n",
       "    }\n",
       "\n",
       "    .dataframe thead th {\n",
       "        text-align: right;\n",
       "    }\n",
       "</style>\n",
       "<table border=\"1\" class=\"dataframe\">\n",
       "  <thead>\n",
       "    <tr style=\"text-align: right;\">\n",
       "      <th></th>\n",
       "      <th>images</th>\n",
       "      <th>skin_disorder_name</th>\n",
       "    </tr>\n",
       "  </thead>\n",
       "  <tbody>\n",
       "    <tr>\n",
       "      <th>1008</th>\n",
       "      <td>ISIC_0010491</td>\n",
       "      <td>ISIC_0010491</td>\n",
       "    </tr>\n",
       "    <tr>\n",
       "      <th>1544</th>\n",
       "      <td>ISIC_0012811</td>\n",
       "      <td>ISIC_0012811</td>\n",
       "    </tr>\n",
       "    <tr>\n",
       "      <th>1619</th>\n",
       "      <td>ISIC_0012998</td>\n",
       "      <td>ISIC_0012998</td>\n",
       "    </tr>\n",
       "  </tbody>\n",
       "</table>\n",
       "</div>"
      ],
      "text/plain": [
       "            images skin_disorder_name\n",
       "1008  ISIC_0010491       ISIC_0010491\n",
       "1544  ISIC_0012811       ISIC_0012811\n",
       "1619  ISIC_0012998       ISIC_0012998"
      ]
     },
     "execution_count": 12,
     "metadata": {},
     "output_type": "execute_result"
    }
   ],
   "source": [
    "# filter df to get rows where BKL = 1.0\n",
    "BKL_df = df.copy()\n",
    "BKL_df = BKL_df[BKL_df['BKL'] == 1.0]\n",
    "BKL_df = BKL_df[~BKL_df[\"images\"].str.contains(\"downsampled\")]\n",
    "BKL_df['skin_disorder_name'] = BKL_df['images']\n",
    "\n",
    "# drop the unwanted columns and rows from df\n",
    "BKL_df = BKL_df.drop(['MEL', 'NV', 'BCC', 'AK', 'BKL', 'DF', 'VASC', 'SCC', 'UNK'], axis=1)\n",
    "BKL_df = BKL_df[:1003]\n",
    "\n",
    "# display the dataframe\n",
    "print(BKL_df.shape)\n",
    "BKL_df.head(3)"
   ]
  },
  {
   "cell_type": "code",
   "execution_count": 13,
   "metadata": {},
   "outputs": [
    {
     "name": "stdout",
     "output_type": "stream",
     "text": [
      "There are 1003 BKL images\n"
     ]
    }
   ],
   "source": [
    "# Getting the BKL images file names\n",
    "BKL_img = [image_name for image_name in os.listdir('extra_images/extra_AK_and_BKL_images') if any(x in image_name for x in BKL_df['images'].tolist())]\n",
    "\n",
    "# Checking if the folder exists and deleting it if it exists\n",
    "if os.path.exists('cleaned_images/BKL_images/'):\n",
    "    # deleting the folder and its contents\n",
    "    shutil.rmtree('cleaned_images/BKL_images/')\n",
    "    \n",
    "# Creating a new folder with just BKL images to make cleaning easier\n",
    "os.mkdir('cleaned_images/BKL_images/')\n",
    "for img in BKL_img:\n",
    "    origin = os.path.join('extra_images/extra_AK_and_BKL_images/', img)\n",
    "    destination = os.path.join('cleaned_images/BKL_images/', img)\n",
    "    shutil.copy(origin, destination)\n",
    "    \n",
    "# Confirming that the number of BKL images after moving them to a separate folder is still 1000\n",
    "BKL_img = [image_name for image_name in os.listdir('cleaned_images/BKL_images/')] \n",
    "print('There are', len(BKL_img),'BKL images')"
   ]
  },
  {
   "cell_type": "code",
   "execution_count": 14,
   "metadata": {},
   "outputs": [
    {
     "data": {
      "text/plain": [
       "['ISIC_0027218.jpg', 'ISIC_0031511.jpg', 'ISIC_0032315.jpg']"
      ]
     },
     "execution_count": 14,
     "metadata": {},
     "output_type": "execute_result"
    }
   ],
   "source": [
    "# drop duplicates from image folder\n",
    "duplicated_images2 = drop_duplicated_images('cleaned_images/BKL_images/')\n",
    "duplicated_images2"
   ]
  },
  {
   "cell_type": "code",
   "execution_count": 15,
   "metadata": {},
   "outputs": [
    {
     "name": "stdout",
     "output_type": "stream",
     "text": [
      "Number of BKL images after removing duplicated images: 1000\n",
      "Shape of BKL dataframe: (1000, 2)\n"
     ]
    }
   ],
   "source": [
    "# number of images after removing duplicates\n",
    "BKL_img = [image_name for image_name in os.listdir('cleaned_images/BKL_images/')] \n",
    "print('Number of BKL images after removing duplicated images:', len(BKL_img))\n",
    "\n",
    "#Remove duplicate images from the dataframe\n",
    "BKL_df['skin_disorder_name'] = BKL_df['skin_disorder_name'].apply(lambda x: x + '.jpg')\n",
    "duplicated_df = BKL_df[BKL_df['skin_disorder_name'].isin(duplicated_images2)]\n",
    "merged_df = BKL_df.merge(duplicated_df, on=\"skin_disorder_name\", how=\"outer\", indicator=True)\n",
    "BKL_df = merged_df.loc[merged_df[\"_merge\"]==\"left_only\"].drop_duplicates(subset=[\"skin_disorder_name\"]).drop(columns=['images_y', '_merge'])\n",
    "print(f'Shape of BKL dataframe: {BKL_df.shape}')"
   ]
  },
  {
   "cell_type": "code",
   "execution_count": 16,
   "metadata": {},
   "outputs": [
    {
     "data": {
      "text/html": [
       "<div>\n",
       "<style scoped>\n",
       "    .dataframe tbody tr th:only-of-type {\n",
       "        vertical-align: middle;\n",
       "    }\n",
       "\n",
       "    .dataframe tbody tr th {\n",
       "        vertical-align: top;\n",
       "    }\n",
       "\n",
       "    .dataframe thead th {\n",
       "        text-align: right;\n",
       "    }\n",
       "</style>\n",
       "<table border=\"1\" class=\"dataframe\">\n",
       "  <thead>\n",
       "    <tr style=\"text-align: right;\">\n",
       "      <th></th>\n",
       "      <th>images</th>\n",
       "      <th>skin_disorder_name</th>\n",
       "    </tr>\n",
       "  </thead>\n",
       "  <tbody>\n",
       "    <tr>\n",
       "      <th>0</th>\n",
       "      <td>ISIC_0010491</td>\n",
       "      <td>Benign Keratosis-like Lesions</td>\n",
       "    </tr>\n",
       "    <tr>\n",
       "      <th>1</th>\n",
       "      <td>ISIC_0012811</td>\n",
       "      <td>Benign Keratosis-like Lesions</td>\n",
       "    </tr>\n",
       "    <tr>\n",
       "      <th>2</th>\n",
       "      <td>ISIC_0012998</td>\n",
       "      <td>Benign Keratosis-like Lesions</td>\n",
       "    </tr>\n",
       "    <tr>\n",
       "      <th>3</th>\n",
       "      <td>ISIC_0024312</td>\n",
       "      <td>Benign Keratosis-like Lesions</td>\n",
       "    </tr>\n",
       "  </tbody>\n",
       "</table>\n",
       "</div>"
      ],
      "text/plain": [
       "         images             skin_disorder_name\n",
       "0  ISIC_0010491  Benign Keratosis-like Lesions\n",
       "1  ISIC_0012811  Benign Keratosis-like Lesions\n",
       "2  ISIC_0012998  Benign Keratosis-like Lesions\n",
       "3  ISIC_0024312  Benign Keratosis-like Lesions"
      ]
     },
     "execution_count": 16,
     "metadata": {},
     "output_type": "execute_result"
    }
   ],
   "source": [
    "# rename the values of skin_disorder_name column to Benign Keratosis-like Lesions\n",
    "BKL_df['skin_disorder_name'] = BKL_df['skin_disorder_name'].replace(BKL_df['skin_disorder_name'].unique(), 'Benign Keratosis-like Lesions')\n",
    "BKL_df = BKL_df.rename(columns={'images_x': 'images'})\n",
    "BKL_df.head(4)"
   ]
  },
  {
   "cell_type": "code",
   "execution_count": 17,
   "metadata": {},
   "outputs": [],
   "source": [
    "# save BKL dataframe to csv file\n",
    "BKL_df.to_csv('cleaned_data/BKL.csv', index=False)"
   ]
  }
 ],
 "metadata": {
  "kernelspec": {
   "display_name": "Python 3 (ipykernel)",
   "language": "python",
   "name": "python3"
  },
  "language_info": {
   "codemirror_mode": {
    "name": "ipython",
    "version": 3
   },
   "file_extension": ".py",
   "mimetype": "text/x-python",
   "name": "python",
   "nbconvert_exporter": "python",
   "pygments_lexer": "ipython3",
   "version": "3.9.13"
  }
 },
 "nbformat": 4,
 "nbformat_minor": 2
}
